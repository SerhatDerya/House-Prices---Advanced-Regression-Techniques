{
 "cells": [
  {
   "cell_type": "code",
   "execution_count": 1,
   "id": "6971343f",
   "metadata": {
    "_cell_guid": "b1076dfc-b9ad-4769-8c92-a6c4dae69d19",
    "_uuid": "8f2839f25d086af736a60e9eeb907d3b93b6e0e5",
    "execution": {
     "iopub.execute_input": "2022-02-05T06:39:31.030016Z",
     "iopub.status.busy": "2022-02-05T06:39:31.025906Z",
     "iopub.status.idle": "2022-02-05T06:39:31.040165Z",
     "shell.execute_reply": "2022-02-05T06:39:31.040941Z",
     "shell.execute_reply.started": "2022-02-05T06:08:09.192146Z"
    },
    "papermill": {
     "duration": 0.084591,
     "end_time": "2022-02-05T06:39:31.041254",
     "exception": false,
     "start_time": "2022-02-05T06:39:30.956663",
     "status": "completed"
    },
    "tags": []
   },
   "outputs": [
    {
     "name": "stdout",
     "output_type": "stream",
     "text": [
      "/kaggle/input/house-prices-advanced-regression-techniques/sample_submission.csv\n",
      "/kaggle/input/house-prices-advanced-regression-techniques/data_description.txt\n",
      "/kaggle/input/house-prices-advanced-regression-techniques/train.csv\n",
      "/kaggle/input/house-prices-advanced-regression-techniques/test.csv\n"
     ]
    }
   ],
   "source": [
    "# This Python 3 environment comes with many helpful analytics libraries installed\n",
    "# It is defined by the kaggle/python Docker image: https://github.com/kaggle/docker-python\n",
    "# For example, here's several helpful packages to load\n",
    "\n",
    "import numpy as np # linear algebra\n",
    "import pandas as pd # data processing, CSV file I/O (e.g. pd.read_csv)\n",
    "\n",
    "# Input data files are available in the read-only \"../input/\" directory\n",
    "# For example, running this (by clicking run or pressing Shift+Enter) will list all files under the input directory\n",
    "\n",
    "import os\n",
    "for dirname, _, filenames in os.walk('/kaggle/input'):\n",
    "    for filename in filenames:\n",
    "        print(os.path.join(dirname, filename))\n",
    "\n",
    "# You can write up to 20GB to the current directory (/kaggle/working/) that gets preserved as output when you create a version using \"Save & Run All\" \n",
    "# You can also write temporary files to /kaggle/temp/, but they won't be saved outside of the current session"
   ]
  },
  {
   "cell_type": "code",
   "execution_count": 2,
   "id": "e0c72620",
   "metadata": {
    "execution": {
     "iopub.execute_input": "2022-02-05T06:39:31.167879Z",
     "iopub.status.busy": "2022-02-05T06:39:31.167197Z",
     "iopub.status.idle": "2022-02-05T06:39:31.299303Z",
     "shell.execute_reply": "2022-02-05T06:39:31.298690Z",
     "shell.execute_reply.started": "2022-02-05T06:08:11.859668Z"
    },
    "papermill": {
     "duration": 0.198037,
     "end_time": "2022-02-05T06:39:31.299427",
     "exception": false,
     "start_time": "2022-02-05T06:39:31.101390",
     "status": "completed"
    },
    "tags": []
   },
   "outputs": [
    {
     "data": {
      "text/html": [
       "<div>\n",
       "<style scoped>\n",
       "    .dataframe tbody tr th:only-of-type {\n",
       "        vertical-align: middle;\n",
       "    }\n",
       "\n",
       "    .dataframe tbody tr th {\n",
       "        vertical-align: top;\n",
       "    }\n",
       "\n",
       "    .dataframe thead th {\n",
       "        text-align: right;\n",
       "    }\n",
       "</style>\n",
       "<table border=\"1\" class=\"dataframe\">\n",
       "  <thead>\n",
       "    <tr style=\"text-align: right;\">\n",
       "      <th></th>\n",
       "      <th>Id</th>\n",
       "      <th>MSSubClass</th>\n",
       "      <th>MSZoning</th>\n",
       "      <th>LotFrontage</th>\n",
       "      <th>LotArea</th>\n",
       "      <th>Street</th>\n",
       "      <th>Alley</th>\n",
       "      <th>LotShape</th>\n",
       "      <th>LandContour</th>\n",
       "      <th>Utilities</th>\n",
       "      <th>...</th>\n",
       "      <th>PoolArea</th>\n",
       "      <th>PoolQC</th>\n",
       "      <th>Fence</th>\n",
       "      <th>MiscFeature</th>\n",
       "      <th>MiscVal</th>\n",
       "      <th>MoSold</th>\n",
       "      <th>YrSold</th>\n",
       "      <th>SaleType</th>\n",
       "      <th>SaleCondition</th>\n",
       "      <th>SalePrice</th>\n",
       "    </tr>\n",
       "  </thead>\n",
       "  <tbody>\n",
       "    <tr>\n",
       "      <th>0</th>\n",
       "      <td>1</td>\n",
       "      <td>60</td>\n",
       "      <td>RL</td>\n",
       "      <td>65.0</td>\n",
       "      <td>8450</td>\n",
       "      <td>Pave</td>\n",
       "      <td>NaN</td>\n",
       "      <td>Reg</td>\n",
       "      <td>Lvl</td>\n",
       "      <td>AllPub</td>\n",
       "      <td>...</td>\n",
       "      <td>0</td>\n",
       "      <td>NaN</td>\n",
       "      <td>NaN</td>\n",
       "      <td>NaN</td>\n",
       "      <td>0</td>\n",
       "      <td>2</td>\n",
       "      <td>2008</td>\n",
       "      <td>WD</td>\n",
       "      <td>Normal</td>\n",
       "      <td>208500.0</td>\n",
       "    </tr>\n",
       "    <tr>\n",
       "      <th>1</th>\n",
       "      <td>2</td>\n",
       "      <td>20</td>\n",
       "      <td>RL</td>\n",
       "      <td>80.0</td>\n",
       "      <td>9600</td>\n",
       "      <td>Pave</td>\n",
       "      <td>NaN</td>\n",
       "      <td>Reg</td>\n",
       "      <td>Lvl</td>\n",
       "      <td>AllPub</td>\n",
       "      <td>...</td>\n",
       "      <td>0</td>\n",
       "      <td>NaN</td>\n",
       "      <td>NaN</td>\n",
       "      <td>NaN</td>\n",
       "      <td>0</td>\n",
       "      <td>5</td>\n",
       "      <td>2007</td>\n",
       "      <td>WD</td>\n",
       "      <td>Normal</td>\n",
       "      <td>181500.0</td>\n",
       "    </tr>\n",
       "    <tr>\n",
       "      <th>2</th>\n",
       "      <td>3</td>\n",
       "      <td>60</td>\n",
       "      <td>RL</td>\n",
       "      <td>68.0</td>\n",
       "      <td>11250</td>\n",
       "      <td>Pave</td>\n",
       "      <td>NaN</td>\n",
       "      <td>IR1</td>\n",
       "      <td>Lvl</td>\n",
       "      <td>AllPub</td>\n",
       "      <td>...</td>\n",
       "      <td>0</td>\n",
       "      <td>NaN</td>\n",
       "      <td>NaN</td>\n",
       "      <td>NaN</td>\n",
       "      <td>0</td>\n",
       "      <td>9</td>\n",
       "      <td>2008</td>\n",
       "      <td>WD</td>\n",
       "      <td>Normal</td>\n",
       "      <td>223500.0</td>\n",
       "    </tr>\n",
       "    <tr>\n",
       "      <th>3</th>\n",
       "      <td>4</td>\n",
       "      <td>70</td>\n",
       "      <td>RL</td>\n",
       "      <td>60.0</td>\n",
       "      <td>9550</td>\n",
       "      <td>Pave</td>\n",
       "      <td>NaN</td>\n",
       "      <td>IR1</td>\n",
       "      <td>Lvl</td>\n",
       "      <td>AllPub</td>\n",
       "      <td>...</td>\n",
       "      <td>0</td>\n",
       "      <td>NaN</td>\n",
       "      <td>NaN</td>\n",
       "      <td>NaN</td>\n",
       "      <td>0</td>\n",
       "      <td>2</td>\n",
       "      <td>2006</td>\n",
       "      <td>WD</td>\n",
       "      <td>Abnorml</td>\n",
       "      <td>140000.0</td>\n",
       "    </tr>\n",
       "    <tr>\n",
       "      <th>4</th>\n",
       "      <td>5</td>\n",
       "      <td>60</td>\n",
       "      <td>RL</td>\n",
       "      <td>84.0</td>\n",
       "      <td>14260</td>\n",
       "      <td>Pave</td>\n",
       "      <td>NaN</td>\n",
       "      <td>IR1</td>\n",
       "      <td>Lvl</td>\n",
       "      <td>AllPub</td>\n",
       "      <td>...</td>\n",
       "      <td>0</td>\n",
       "      <td>NaN</td>\n",
       "      <td>NaN</td>\n",
       "      <td>NaN</td>\n",
       "      <td>0</td>\n",
       "      <td>12</td>\n",
       "      <td>2008</td>\n",
       "      <td>WD</td>\n",
       "      <td>Normal</td>\n",
       "      <td>250000.0</td>\n",
       "    </tr>\n",
       "    <tr>\n",
       "      <th>...</th>\n",
       "      <td>...</td>\n",
       "      <td>...</td>\n",
       "      <td>...</td>\n",
       "      <td>...</td>\n",
       "      <td>...</td>\n",
       "      <td>...</td>\n",
       "      <td>...</td>\n",
       "      <td>...</td>\n",
       "      <td>...</td>\n",
       "      <td>...</td>\n",
       "      <td>...</td>\n",
       "      <td>...</td>\n",
       "      <td>...</td>\n",
       "      <td>...</td>\n",
       "      <td>...</td>\n",
       "      <td>...</td>\n",
       "      <td>...</td>\n",
       "      <td>...</td>\n",
       "      <td>...</td>\n",
       "      <td>...</td>\n",
       "      <td>...</td>\n",
       "    </tr>\n",
       "    <tr>\n",
       "      <th>1454</th>\n",
       "      <td>2915</td>\n",
       "      <td>160</td>\n",
       "      <td>RM</td>\n",
       "      <td>21.0</td>\n",
       "      <td>1936</td>\n",
       "      <td>Pave</td>\n",
       "      <td>NaN</td>\n",
       "      <td>Reg</td>\n",
       "      <td>Lvl</td>\n",
       "      <td>AllPub</td>\n",
       "      <td>...</td>\n",
       "      <td>0</td>\n",
       "      <td>NaN</td>\n",
       "      <td>NaN</td>\n",
       "      <td>NaN</td>\n",
       "      <td>0</td>\n",
       "      <td>6</td>\n",
       "      <td>2006</td>\n",
       "      <td>WD</td>\n",
       "      <td>Normal</td>\n",
       "      <td>NaN</td>\n",
       "    </tr>\n",
       "    <tr>\n",
       "      <th>1455</th>\n",
       "      <td>2916</td>\n",
       "      <td>160</td>\n",
       "      <td>RM</td>\n",
       "      <td>21.0</td>\n",
       "      <td>1894</td>\n",
       "      <td>Pave</td>\n",
       "      <td>NaN</td>\n",
       "      <td>Reg</td>\n",
       "      <td>Lvl</td>\n",
       "      <td>AllPub</td>\n",
       "      <td>...</td>\n",
       "      <td>0</td>\n",
       "      <td>NaN</td>\n",
       "      <td>NaN</td>\n",
       "      <td>NaN</td>\n",
       "      <td>0</td>\n",
       "      <td>4</td>\n",
       "      <td>2006</td>\n",
       "      <td>WD</td>\n",
       "      <td>Abnorml</td>\n",
       "      <td>NaN</td>\n",
       "    </tr>\n",
       "    <tr>\n",
       "      <th>1456</th>\n",
       "      <td>2917</td>\n",
       "      <td>20</td>\n",
       "      <td>RL</td>\n",
       "      <td>160.0</td>\n",
       "      <td>20000</td>\n",
       "      <td>Pave</td>\n",
       "      <td>NaN</td>\n",
       "      <td>Reg</td>\n",
       "      <td>Lvl</td>\n",
       "      <td>AllPub</td>\n",
       "      <td>...</td>\n",
       "      <td>0</td>\n",
       "      <td>NaN</td>\n",
       "      <td>NaN</td>\n",
       "      <td>NaN</td>\n",
       "      <td>0</td>\n",
       "      <td>9</td>\n",
       "      <td>2006</td>\n",
       "      <td>WD</td>\n",
       "      <td>Abnorml</td>\n",
       "      <td>NaN</td>\n",
       "    </tr>\n",
       "    <tr>\n",
       "      <th>1457</th>\n",
       "      <td>2918</td>\n",
       "      <td>85</td>\n",
       "      <td>RL</td>\n",
       "      <td>62.0</td>\n",
       "      <td>10441</td>\n",
       "      <td>Pave</td>\n",
       "      <td>NaN</td>\n",
       "      <td>Reg</td>\n",
       "      <td>Lvl</td>\n",
       "      <td>AllPub</td>\n",
       "      <td>...</td>\n",
       "      <td>0</td>\n",
       "      <td>NaN</td>\n",
       "      <td>MnPrv</td>\n",
       "      <td>Shed</td>\n",
       "      <td>700</td>\n",
       "      <td>7</td>\n",
       "      <td>2006</td>\n",
       "      <td>WD</td>\n",
       "      <td>Normal</td>\n",
       "      <td>NaN</td>\n",
       "    </tr>\n",
       "    <tr>\n",
       "      <th>1458</th>\n",
       "      <td>2919</td>\n",
       "      <td>60</td>\n",
       "      <td>RL</td>\n",
       "      <td>74.0</td>\n",
       "      <td>9627</td>\n",
       "      <td>Pave</td>\n",
       "      <td>NaN</td>\n",
       "      <td>Reg</td>\n",
       "      <td>Lvl</td>\n",
       "      <td>AllPub</td>\n",
       "      <td>...</td>\n",
       "      <td>0</td>\n",
       "      <td>NaN</td>\n",
       "      <td>NaN</td>\n",
       "      <td>NaN</td>\n",
       "      <td>0</td>\n",
       "      <td>11</td>\n",
       "      <td>2006</td>\n",
       "      <td>WD</td>\n",
       "      <td>Normal</td>\n",
       "      <td>NaN</td>\n",
       "    </tr>\n",
       "  </tbody>\n",
       "</table>\n",
       "<p>2919 rows × 81 columns</p>\n",
       "</div>"
      ],
      "text/plain": [
       "        Id  MSSubClass MSZoning  LotFrontage  LotArea Street Alley LotShape  \\\n",
       "0        1          60       RL         65.0     8450   Pave   NaN      Reg   \n",
       "1        2          20       RL         80.0     9600   Pave   NaN      Reg   \n",
       "2        3          60       RL         68.0    11250   Pave   NaN      IR1   \n",
       "3        4          70       RL         60.0     9550   Pave   NaN      IR1   \n",
       "4        5          60       RL         84.0    14260   Pave   NaN      IR1   \n",
       "...    ...         ...      ...          ...      ...    ...   ...      ...   \n",
       "1454  2915         160       RM         21.0     1936   Pave   NaN      Reg   \n",
       "1455  2916         160       RM         21.0     1894   Pave   NaN      Reg   \n",
       "1456  2917          20       RL        160.0    20000   Pave   NaN      Reg   \n",
       "1457  2918          85       RL         62.0    10441   Pave   NaN      Reg   \n",
       "1458  2919          60       RL         74.0     9627   Pave   NaN      Reg   \n",
       "\n",
       "     LandContour Utilities  ... PoolArea PoolQC  Fence MiscFeature MiscVal  \\\n",
       "0            Lvl    AllPub  ...        0    NaN    NaN         NaN       0   \n",
       "1            Lvl    AllPub  ...        0    NaN    NaN         NaN       0   \n",
       "2            Lvl    AllPub  ...        0    NaN    NaN         NaN       0   \n",
       "3            Lvl    AllPub  ...        0    NaN    NaN         NaN       0   \n",
       "4            Lvl    AllPub  ...        0    NaN    NaN         NaN       0   \n",
       "...          ...       ...  ...      ...    ...    ...         ...     ...   \n",
       "1454         Lvl    AllPub  ...        0    NaN    NaN         NaN       0   \n",
       "1455         Lvl    AllPub  ...        0    NaN    NaN         NaN       0   \n",
       "1456         Lvl    AllPub  ...        0    NaN    NaN         NaN       0   \n",
       "1457         Lvl    AllPub  ...        0    NaN  MnPrv        Shed     700   \n",
       "1458         Lvl    AllPub  ...        0    NaN    NaN         NaN       0   \n",
       "\n",
       "     MoSold YrSold  SaleType  SaleCondition  SalePrice  \n",
       "0         2   2008        WD         Normal   208500.0  \n",
       "1         5   2007        WD         Normal   181500.0  \n",
       "2         9   2008        WD         Normal   223500.0  \n",
       "3         2   2006        WD        Abnorml   140000.0  \n",
       "4        12   2008        WD         Normal   250000.0  \n",
       "...     ...    ...       ...            ...        ...  \n",
       "1454      6   2006        WD         Normal        NaN  \n",
       "1455      4   2006        WD        Abnorml        NaN  \n",
       "1456      9   2006        WD        Abnorml        NaN  \n",
       "1457      7   2006        WD         Normal        NaN  \n",
       "1458     11   2006        WD         Normal        NaN  \n",
       "\n",
       "[2919 rows x 81 columns]"
      ]
     },
     "execution_count": 2,
     "metadata": {},
     "output_type": "execute_result"
    }
   ],
   "source": [
    "train = pd.read_csv(\"../input/house-prices-advanced-regression-techniques/train.csv\")\n",
    "test = pd.read_csv(\"../input/house-prices-advanced-regression-techniques/test.csv\")\n",
    "df = train.append(test)\n",
    "df"
   ]
  },
  {
   "cell_type": "code",
   "execution_count": 3,
   "id": "fc1de69b",
   "metadata": {
    "execution": {
     "iopub.execute_input": "2022-02-05T06:39:31.428855Z",
     "iopub.status.busy": "2022-02-05T06:39:31.428205Z",
     "iopub.status.idle": "2022-02-05T06:39:31.442004Z",
     "shell.execute_reply": "2022-02-05T06:39:31.442571Z",
     "shell.execute_reply.started": "2022-02-05T06:08:11.995508Z"
    },
    "papermill": {
     "duration": 0.083297,
     "end_time": "2022-02-05T06:39:31.442742",
     "exception": false,
     "start_time": "2022-02-05T06:39:31.359445",
     "status": "completed"
    },
    "tags": []
   },
   "outputs": [],
   "source": [
    "df.index = df[\"Id\"]\n",
    "df = df.drop(\"Id\", axis=1)\n",
    "\n",
    "train.index = train[\"Id\"]\n",
    "train = train.drop(\"Id\", axis=1)\n",
    "\n",
    "test.index = test[\"Id\"]\n",
    "test = test.drop(\"Id\", axis=1)"
   ]
  },
  {
   "cell_type": "code",
   "execution_count": 4,
   "id": "d1af52a0",
   "metadata": {
    "execution": {
     "iopub.execute_input": "2022-02-05T06:39:31.572574Z",
     "iopub.status.busy": "2022-02-05T06:39:31.571939Z",
     "iopub.status.idle": "2022-02-05T06:39:31.602217Z",
     "shell.execute_reply": "2022-02-05T06:39:31.602731Z",
     "shell.execute_reply.started": "2022-02-05T06:08:12.136890Z"
    },
    "papermill": {
     "duration": 0.098297,
     "end_time": "2022-02-05T06:39:31.602894",
     "exception": false,
     "start_time": "2022-02-05T06:39:31.504597",
     "status": "completed"
    },
    "tags": []
   },
   "outputs": [
    {
     "data": {
      "text/html": [
       "<div>\n",
       "<style scoped>\n",
       "    .dataframe tbody tr th:only-of-type {\n",
       "        vertical-align: middle;\n",
       "    }\n",
       "\n",
       "    .dataframe tbody tr th {\n",
       "        vertical-align: top;\n",
       "    }\n",
       "\n",
       "    .dataframe thead th {\n",
       "        text-align: right;\n",
       "    }\n",
       "</style>\n",
       "<table border=\"1\" class=\"dataframe\">\n",
       "  <thead>\n",
       "    <tr style=\"text-align: right;\">\n",
       "      <th></th>\n",
       "      <th>MSSubClass</th>\n",
       "      <th>MSZoning</th>\n",
       "      <th>LotFrontage</th>\n",
       "      <th>LotArea</th>\n",
       "      <th>Street</th>\n",
       "      <th>Alley</th>\n",
       "      <th>LotShape</th>\n",
       "      <th>LandContour</th>\n",
       "      <th>Utilities</th>\n",
       "      <th>LotConfig</th>\n",
       "      <th>...</th>\n",
       "      <th>PoolArea</th>\n",
       "      <th>PoolQC</th>\n",
       "      <th>Fence</th>\n",
       "      <th>MiscFeature</th>\n",
       "      <th>MiscVal</th>\n",
       "      <th>MoSold</th>\n",
       "      <th>YrSold</th>\n",
       "      <th>SaleType</th>\n",
       "      <th>SaleCondition</th>\n",
       "      <th>SalePrice</th>\n",
       "    </tr>\n",
       "    <tr>\n",
       "      <th>Id</th>\n",
       "      <th></th>\n",
       "      <th></th>\n",
       "      <th></th>\n",
       "      <th></th>\n",
       "      <th></th>\n",
       "      <th></th>\n",
       "      <th></th>\n",
       "      <th></th>\n",
       "      <th></th>\n",
       "      <th></th>\n",
       "      <th></th>\n",
       "      <th></th>\n",
       "      <th></th>\n",
       "      <th></th>\n",
       "      <th></th>\n",
       "      <th></th>\n",
       "      <th></th>\n",
       "      <th></th>\n",
       "      <th></th>\n",
       "      <th></th>\n",
       "      <th></th>\n",
       "    </tr>\n",
       "  </thead>\n",
       "  <tbody>\n",
       "    <tr>\n",
       "      <th>1</th>\n",
       "      <td>60</td>\n",
       "      <td>RL</td>\n",
       "      <td>65.0</td>\n",
       "      <td>8450</td>\n",
       "      <td>Pave</td>\n",
       "      <td>NaN</td>\n",
       "      <td>Reg</td>\n",
       "      <td>Lvl</td>\n",
       "      <td>AllPub</td>\n",
       "      <td>Inside</td>\n",
       "      <td>...</td>\n",
       "      <td>0</td>\n",
       "      <td>NaN</td>\n",
       "      <td>NaN</td>\n",
       "      <td>NaN</td>\n",
       "      <td>0</td>\n",
       "      <td>2</td>\n",
       "      <td>2008</td>\n",
       "      <td>WD</td>\n",
       "      <td>Normal</td>\n",
       "      <td>208500.0</td>\n",
       "    </tr>\n",
       "    <tr>\n",
       "      <th>2</th>\n",
       "      <td>20</td>\n",
       "      <td>RL</td>\n",
       "      <td>80.0</td>\n",
       "      <td>9600</td>\n",
       "      <td>Pave</td>\n",
       "      <td>NaN</td>\n",
       "      <td>Reg</td>\n",
       "      <td>Lvl</td>\n",
       "      <td>AllPub</td>\n",
       "      <td>FR2</td>\n",
       "      <td>...</td>\n",
       "      <td>0</td>\n",
       "      <td>NaN</td>\n",
       "      <td>NaN</td>\n",
       "      <td>NaN</td>\n",
       "      <td>0</td>\n",
       "      <td>5</td>\n",
       "      <td>2007</td>\n",
       "      <td>WD</td>\n",
       "      <td>Normal</td>\n",
       "      <td>181500.0</td>\n",
       "    </tr>\n",
       "    <tr>\n",
       "      <th>3</th>\n",
       "      <td>60</td>\n",
       "      <td>RL</td>\n",
       "      <td>68.0</td>\n",
       "      <td>11250</td>\n",
       "      <td>Pave</td>\n",
       "      <td>NaN</td>\n",
       "      <td>IR1</td>\n",
       "      <td>Lvl</td>\n",
       "      <td>AllPub</td>\n",
       "      <td>Inside</td>\n",
       "      <td>...</td>\n",
       "      <td>0</td>\n",
       "      <td>NaN</td>\n",
       "      <td>NaN</td>\n",
       "      <td>NaN</td>\n",
       "      <td>0</td>\n",
       "      <td>9</td>\n",
       "      <td>2008</td>\n",
       "      <td>WD</td>\n",
       "      <td>Normal</td>\n",
       "      <td>223500.0</td>\n",
       "    </tr>\n",
       "    <tr>\n",
       "      <th>4</th>\n",
       "      <td>70</td>\n",
       "      <td>RL</td>\n",
       "      <td>60.0</td>\n",
       "      <td>9550</td>\n",
       "      <td>Pave</td>\n",
       "      <td>NaN</td>\n",
       "      <td>IR1</td>\n",
       "      <td>Lvl</td>\n",
       "      <td>AllPub</td>\n",
       "      <td>Corner</td>\n",
       "      <td>...</td>\n",
       "      <td>0</td>\n",
       "      <td>NaN</td>\n",
       "      <td>NaN</td>\n",
       "      <td>NaN</td>\n",
       "      <td>0</td>\n",
       "      <td>2</td>\n",
       "      <td>2006</td>\n",
       "      <td>WD</td>\n",
       "      <td>Abnorml</td>\n",
       "      <td>140000.0</td>\n",
       "    </tr>\n",
       "    <tr>\n",
       "      <th>5</th>\n",
       "      <td>60</td>\n",
       "      <td>RL</td>\n",
       "      <td>84.0</td>\n",
       "      <td>14260</td>\n",
       "      <td>Pave</td>\n",
       "      <td>NaN</td>\n",
       "      <td>IR1</td>\n",
       "      <td>Lvl</td>\n",
       "      <td>AllPub</td>\n",
       "      <td>FR2</td>\n",
       "      <td>...</td>\n",
       "      <td>0</td>\n",
       "      <td>NaN</td>\n",
       "      <td>NaN</td>\n",
       "      <td>NaN</td>\n",
       "      <td>0</td>\n",
       "      <td>12</td>\n",
       "      <td>2008</td>\n",
       "      <td>WD</td>\n",
       "      <td>Normal</td>\n",
       "      <td>250000.0</td>\n",
       "    </tr>\n",
       "    <tr>\n",
       "      <th>...</th>\n",
       "      <td>...</td>\n",
       "      <td>...</td>\n",
       "      <td>...</td>\n",
       "      <td>...</td>\n",
       "      <td>...</td>\n",
       "      <td>...</td>\n",
       "      <td>...</td>\n",
       "      <td>...</td>\n",
       "      <td>...</td>\n",
       "      <td>...</td>\n",
       "      <td>...</td>\n",
       "      <td>...</td>\n",
       "      <td>...</td>\n",
       "      <td>...</td>\n",
       "      <td>...</td>\n",
       "      <td>...</td>\n",
       "      <td>...</td>\n",
       "      <td>...</td>\n",
       "      <td>...</td>\n",
       "      <td>...</td>\n",
       "      <td>...</td>\n",
       "    </tr>\n",
       "    <tr>\n",
       "      <th>2915</th>\n",
       "      <td>160</td>\n",
       "      <td>RM</td>\n",
       "      <td>21.0</td>\n",
       "      <td>1936</td>\n",
       "      <td>Pave</td>\n",
       "      <td>NaN</td>\n",
       "      <td>Reg</td>\n",
       "      <td>Lvl</td>\n",
       "      <td>AllPub</td>\n",
       "      <td>Inside</td>\n",
       "      <td>...</td>\n",
       "      <td>0</td>\n",
       "      <td>NaN</td>\n",
       "      <td>NaN</td>\n",
       "      <td>NaN</td>\n",
       "      <td>0</td>\n",
       "      <td>6</td>\n",
       "      <td>2006</td>\n",
       "      <td>WD</td>\n",
       "      <td>Normal</td>\n",
       "      <td>NaN</td>\n",
       "    </tr>\n",
       "    <tr>\n",
       "      <th>2916</th>\n",
       "      <td>160</td>\n",
       "      <td>RM</td>\n",
       "      <td>21.0</td>\n",
       "      <td>1894</td>\n",
       "      <td>Pave</td>\n",
       "      <td>NaN</td>\n",
       "      <td>Reg</td>\n",
       "      <td>Lvl</td>\n",
       "      <td>AllPub</td>\n",
       "      <td>Inside</td>\n",
       "      <td>...</td>\n",
       "      <td>0</td>\n",
       "      <td>NaN</td>\n",
       "      <td>NaN</td>\n",
       "      <td>NaN</td>\n",
       "      <td>0</td>\n",
       "      <td>4</td>\n",
       "      <td>2006</td>\n",
       "      <td>WD</td>\n",
       "      <td>Abnorml</td>\n",
       "      <td>NaN</td>\n",
       "    </tr>\n",
       "    <tr>\n",
       "      <th>2917</th>\n",
       "      <td>20</td>\n",
       "      <td>RL</td>\n",
       "      <td>160.0</td>\n",
       "      <td>20000</td>\n",
       "      <td>Pave</td>\n",
       "      <td>NaN</td>\n",
       "      <td>Reg</td>\n",
       "      <td>Lvl</td>\n",
       "      <td>AllPub</td>\n",
       "      <td>Inside</td>\n",
       "      <td>...</td>\n",
       "      <td>0</td>\n",
       "      <td>NaN</td>\n",
       "      <td>NaN</td>\n",
       "      <td>NaN</td>\n",
       "      <td>0</td>\n",
       "      <td>9</td>\n",
       "      <td>2006</td>\n",
       "      <td>WD</td>\n",
       "      <td>Abnorml</td>\n",
       "      <td>NaN</td>\n",
       "    </tr>\n",
       "    <tr>\n",
       "      <th>2918</th>\n",
       "      <td>85</td>\n",
       "      <td>RL</td>\n",
       "      <td>62.0</td>\n",
       "      <td>10441</td>\n",
       "      <td>Pave</td>\n",
       "      <td>NaN</td>\n",
       "      <td>Reg</td>\n",
       "      <td>Lvl</td>\n",
       "      <td>AllPub</td>\n",
       "      <td>Inside</td>\n",
       "      <td>...</td>\n",
       "      <td>0</td>\n",
       "      <td>NaN</td>\n",
       "      <td>MnPrv</td>\n",
       "      <td>Shed</td>\n",
       "      <td>700</td>\n",
       "      <td>7</td>\n",
       "      <td>2006</td>\n",
       "      <td>WD</td>\n",
       "      <td>Normal</td>\n",
       "      <td>NaN</td>\n",
       "    </tr>\n",
       "    <tr>\n",
       "      <th>2919</th>\n",
       "      <td>60</td>\n",
       "      <td>RL</td>\n",
       "      <td>74.0</td>\n",
       "      <td>9627</td>\n",
       "      <td>Pave</td>\n",
       "      <td>NaN</td>\n",
       "      <td>Reg</td>\n",
       "      <td>Lvl</td>\n",
       "      <td>AllPub</td>\n",
       "      <td>Inside</td>\n",
       "      <td>...</td>\n",
       "      <td>0</td>\n",
       "      <td>NaN</td>\n",
       "      <td>NaN</td>\n",
       "      <td>NaN</td>\n",
       "      <td>0</td>\n",
       "      <td>11</td>\n",
       "      <td>2006</td>\n",
       "      <td>WD</td>\n",
       "      <td>Normal</td>\n",
       "      <td>NaN</td>\n",
       "    </tr>\n",
       "  </tbody>\n",
       "</table>\n",
       "<p>2919 rows × 80 columns</p>\n",
       "</div>"
      ],
      "text/plain": [
       "      MSSubClass MSZoning  LotFrontage  LotArea Street Alley LotShape  \\\n",
       "Id                                                                      \n",
       "1             60       RL         65.0     8450   Pave   NaN      Reg   \n",
       "2             20       RL         80.0     9600   Pave   NaN      Reg   \n",
       "3             60       RL         68.0    11250   Pave   NaN      IR1   \n",
       "4             70       RL         60.0     9550   Pave   NaN      IR1   \n",
       "5             60       RL         84.0    14260   Pave   NaN      IR1   \n",
       "...          ...      ...          ...      ...    ...   ...      ...   \n",
       "2915         160       RM         21.0     1936   Pave   NaN      Reg   \n",
       "2916         160       RM         21.0     1894   Pave   NaN      Reg   \n",
       "2917          20       RL        160.0    20000   Pave   NaN      Reg   \n",
       "2918          85       RL         62.0    10441   Pave   NaN      Reg   \n",
       "2919          60       RL         74.0     9627   Pave   NaN      Reg   \n",
       "\n",
       "     LandContour Utilities LotConfig  ... PoolArea PoolQC  Fence MiscFeature  \\\n",
       "Id                                    ...                                      \n",
       "1            Lvl    AllPub    Inside  ...        0    NaN    NaN         NaN   \n",
       "2            Lvl    AllPub       FR2  ...        0    NaN    NaN         NaN   \n",
       "3            Lvl    AllPub    Inside  ...        0    NaN    NaN         NaN   \n",
       "4            Lvl    AllPub    Corner  ...        0    NaN    NaN         NaN   \n",
       "5            Lvl    AllPub       FR2  ...        0    NaN    NaN         NaN   \n",
       "...          ...       ...       ...  ...      ...    ...    ...         ...   \n",
       "2915         Lvl    AllPub    Inside  ...        0    NaN    NaN         NaN   \n",
       "2916         Lvl    AllPub    Inside  ...        0    NaN    NaN         NaN   \n",
       "2917         Lvl    AllPub    Inside  ...        0    NaN    NaN         NaN   \n",
       "2918         Lvl    AllPub    Inside  ...        0    NaN  MnPrv        Shed   \n",
       "2919         Lvl    AllPub    Inside  ...        0    NaN    NaN         NaN   \n",
       "\n",
       "     MiscVal MoSold  YrSold  SaleType  SaleCondition  SalePrice  \n",
       "Id                                                               \n",
       "1          0      2    2008        WD         Normal   208500.0  \n",
       "2          0      5    2007        WD         Normal   181500.0  \n",
       "3          0      9    2008        WD         Normal   223500.0  \n",
       "4          0      2    2006        WD        Abnorml   140000.0  \n",
       "5          0     12    2008        WD         Normal   250000.0  \n",
       "...      ...    ...     ...       ...            ...        ...  \n",
       "2915       0      6    2006        WD         Normal        NaN  \n",
       "2916       0      4    2006        WD        Abnorml        NaN  \n",
       "2917       0      9    2006        WD        Abnorml        NaN  \n",
       "2918     700      7    2006        WD         Normal        NaN  \n",
       "2919       0     11    2006        WD         Normal        NaN  \n",
       "\n",
       "[2919 rows x 80 columns]"
      ]
     },
     "execution_count": 4,
     "metadata": {},
     "output_type": "execute_result"
    }
   ],
   "source": [
    "df"
   ]
  },
  {
   "cell_type": "code",
   "execution_count": 5,
   "id": "6cafaf4c",
   "metadata": {
    "execution": {
     "iopub.execute_input": "2022-02-05T06:39:31.729800Z",
     "iopub.status.busy": "2022-02-05T06:39:31.729202Z",
     "iopub.status.idle": "2022-02-05T06:39:31.735595Z",
     "shell.execute_reply": "2022-02-05T06:39:31.736134Z",
     "shell.execute_reply.started": "2022-02-05T06:08:12.247536Z"
    },
    "papermill": {
     "duration": 0.071895,
     "end_time": "2022-02-05T06:39:31.736294",
     "exception": false,
     "start_time": "2022-02-05T06:39:31.664399",
     "status": "completed"
    },
    "tags": []
   },
   "outputs": [
    {
     "data": {
      "text/plain": [
       "dtype('O')"
      ]
     },
     "execution_count": 5,
     "metadata": {},
     "output_type": "execute_result"
    }
   ],
   "source": [
    "df[\"MSSubClass\"]=df[\"MSSubClass\"].astype(\"object\")\n",
    "df[\"MSSubClass\"].dtypes"
   ]
  },
  {
   "cell_type": "code",
   "execution_count": 6,
   "id": "1cc9bb48",
   "metadata": {
    "execution": {
     "iopub.execute_input": "2022-02-05T06:39:31.861442Z",
     "iopub.status.busy": "2022-02-05T06:39:31.860858Z",
     "iopub.status.idle": "2022-02-05T06:39:31.870705Z",
     "shell.execute_reply": "2022-02-05T06:39:31.871195Z",
     "shell.execute_reply.started": "2022-02-05T06:08:12.357365Z"
    },
    "papermill": {
     "duration": 0.074146,
     "end_time": "2022-02-05T06:39:31.871369",
     "exception": false,
     "start_time": "2022-02-05T06:39:31.797223",
     "status": "completed"
    },
    "tags": []
   },
   "outputs": [
    {
     "data": {
      "text/plain": [
       "AllPub    2916\n",
       "NoSeWa       1\n",
       "Name: Utilities, dtype: int64"
      ]
     },
     "execution_count": 6,
     "metadata": {},
     "output_type": "execute_result"
    }
   ],
   "source": [
    "df[\"Utilities\"].value_counts()"
   ]
  },
  {
   "cell_type": "code",
   "execution_count": 7,
   "id": "f08fd4e2",
   "metadata": {
    "execution": {
     "iopub.execute_input": "2022-02-05T06:39:32.008294Z",
     "iopub.status.busy": "2022-02-05T06:39:32.004676Z",
     "iopub.status.idle": "2022-02-05T06:39:32.010726Z",
     "shell.execute_reply": "2022-02-05T06:39:32.011217Z",
     "shell.execute_reply.started": "2022-02-05T06:08:12.465947Z"
    },
    "papermill": {
     "duration": 0.077193,
     "end_time": "2022-02-05T06:39:32.011409",
     "exception": false,
     "start_time": "2022-02-05T06:39:31.934216",
     "status": "completed"
    },
    "tags": []
   },
   "outputs": [],
   "source": [
    "df = df.drop(\"Utilities\", axis=1)"
   ]
  },
  {
   "cell_type": "code",
   "execution_count": 8,
   "id": "d206c177",
   "metadata": {
    "execution": {
     "iopub.execute_input": "2022-02-05T06:39:32.139124Z",
     "iopub.status.busy": "2022-02-05T06:39:32.138441Z",
     "iopub.status.idle": "2022-02-05T06:39:32.144326Z",
     "shell.execute_reply": "2022-02-05T06:39:32.145290Z",
     "shell.execute_reply.started": "2022-02-05T06:08:12.581024Z"
    },
    "papermill": {
     "duration": 0.071151,
     "end_time": "2022-02-05T06:39:32.145594",
     "exception": false,
     "start_time": "2022-02-05T06:39:32.074443",
     "status": "completed"
    },
    "tags": []
   },
   "outputs": [],
   "source": [
    "df = df.drop(\"MiscVal\", axis=1)"
   ]
  },
  {
   "cell_type": "code",
   "execution_count": 9,
   "id": "c80d3e9a",
   "metadata": {
    "execution": {
     "iopub.execute_input": "2022-02-05T06:39:32.281159Z",
     "iopub.status.busy": "2022-02-05T06:39:32.277676Z",
     "iopub.status.idle": "2022-02-05T06:39:32.302952Z",
     "shell.execute_reply": "2022-02-05T06:39:32.303530Z",
     "shell.execute_reply.started": "2022-02-05T06:08:12.710678Z"
    },
    "papermill": {
     "duration": 0.095326,
     "end_time": "2022-02-05T06:39:32.303709",
     "exception": false,
     "start_time": "2022-02-05T06:39:32.208383",
     "status": "completed"
    },
    "tags": []
   },
   "outputs": [
    {
     "data": {
      "text/html": [
       "<div>\n",
       "<style scoped>\n",
       "    .dataframe tbody tr th:only-of-type {\n",
       "        vertical-align: middle;\n",
       "    }\n",
       "\n",
       "    .dataframe tbody tr th {\n",
       "        vertical-align: top;\n",
       "    }\n",
       "\n",
       "    .dataframe thead th {\n",
       "        text-align: right;\n",
       "    }\n",
       "</style>\n",
       "<table border=\"1\" class=\"dataframe\">\n",
       "  <thead>\n",
       "    <tr style=\"text-align: right;\">\n",
       "      <th></th>\n",
       "      <th>MSSubClass</th>\n",
       "      <th>MSZoning</th>\n",
       "      <th>LotFrontage</th>\n",
       "      <th>LotArea</th>\n",
       "      <th>Street</th>\n",
       "      <th>Alley</th>\n",
       "      <th>LotShape</th>\n",
       "      <th>LandContour</th>\n",
       "      <th>LotConfig</th>\n",
       "      <th>LandSlope</th>\n",
       "      <th>...</th>\n",
       "      <th>ScreenPorch</th>\n",
       "      <th>PoolArea</th>\n",
       "      <th>PoolQC</th>\n",
       "      <th>Fence</th>\n",
       "      <th>MiscFeature</th>\n",
       "      <th>MoSold</th>\n",
       "      <th>YrSold</th>\n",
       "      <th>SaleType</th>\n",
       "      <th>SaleCondition</th>\n",
       "      <th>SalePrice</th>\n",
       "    </tr>\n",
       "    <tr>\n",
       "      <th>Id</th>\n",
       "      <th></th>\n",
       "      <th></th>\n",
       "      <th></th>\n",
       "      <th></th>\n",
       "      <th></th>\n",
       "      <th></th>\n",
       "      <th></th>\n",
       "      <th></th>\n",
       "      <th></th>\n",
       "      <th></th>\n",
       "      <th></th>\n",
       "      <th></th>\n",
       "      <th></th>\n",
       "      <th></th>\n",
       "      <th></th>\n",
       "      <th></th>\n",
       "      <th></th>\n",
       "      <th></th>\n",
       "      <th></th>\n",
       "      <th></th>\n",
       "      <th></th>\n",
       "    </tr>\n",
       "  </thead>\n",
       "  <tbody>\n",
       "    <tr>\n",
       "      <th>1</th>\n",
       "      <td>60</td>\n",
       "      <td>RL</td>\n",
       "      <td>65.0</td>\n",
       "      <td>8450</td>\n",
       "      <td>Pave</td>\n",
       "      <td>NaN</td>\n",
       "      <td>Reg</td>\n",
       "      <td>Lvl</td>\n",
       "      <td>Inside</td>\n",
       "      <td>Gtl</td>\n",
       "      <td>...</td>\n",
       "      <td>0</td>\n",
       "      <td>0</td>\n",
       "      <td>NaN</td>\n",
       "      <td>NaN</td>\n",
       "      <td>NaN</td>\n",
       "      <td>2</td>\n",
       "      <td>2008</td>\n",
       "      <td>WD</td>\n",
       "      <td>Normal</td>\n",
       "      <td>208500.0</td>\n",
       "    </tr>\n",
       "    <tr>\n",
       "      <th>2</th>\n",
       "      <td>20</td>\n",
       "      <td>RL</td>\n",
       "      <td>80.0</td>\n",
       "      <td>9600</td>\n",
       "      <td>Pave</td>\n",
       "      <td>NaN</td>\n",
       "      <td>Reg</td>\n",
       "      <td>Lvl</td>\n",
       "      <td>FR2</td>\n",
       "      <td>Gtl</td>\n",
       "      <td>...</td>\n",
       "      <td>0</td>\n",
       "      <td>0</td>\n",
       "      <td>NaN</td>\n",
       "      <td>NaN</td>\n",
       "      <td>NaN</td>\n",
       "      <td>5</td>\n",
       "      <td>2007</td>\n",
       "      <td>WD</td>\n",
       "      <td>Normal</td>\n",
       "      <td>181500.0</td>\n",
       "    </tr>\n",
       "    <tr>\n",
       "      <th>3</th>\n",
       "      <td>60</td>\n",
       "      <td>RL</td>\n",
       "      <td>68.0</td>\n",
       "      <td>11250</td>\n",
       "      <td>Pave</td>\n",
       "      <td>NaN</td>\n",
       "      <td>IR1</td>\n",
       "      <td>Lvl</td>\n",
       "      <td>Inside</td>\n",
       "      <td>Gtl</td>\n",
       "      <td>...</td>\n",
       "      <td>0</td>\n",
       "      <td>0</td>\n",
       "      <td>NaN</td>\n",
       "      <td>NaN</td>\n",
       "      <td>NaN</td>\n",
       "      <td>9</td>\n",
       "      <td>2008</td>\n",
       "      <td>WD</td>\n",
       "      <td>Normal</td>\n",
       "      <td>223500.0</td>\n",
       "    </tr>\n",
       "    <tr>\n",
       "      <th>4</th>\n",
       "      <td>70</td>\n",
       "      <td>RL</td>\n",
       "      <td>60.0</td>\n",
       "      <td>9550</td>\n",
       "      <td>Pave</td>\n",
       "      <td>NaN</td>\n",
       "      <td>IR1</td>\n",
       "      <td>Lvl</td>\n",
       "      <td>Corner</td>\n",
       "      <td>Gtl</td>\n",
       "      <td>...</td>\n",
       "      <td>0</td>\n",
       "      <td>0</td>\n",
       "      <td>NaN</td>\n",
       "      <td>NaN</td>\n",
       "      <td>NaN</td>\n",
       "      <td>2</td>\n",
       "      <td>2006</td>\n",
       "      <td>WD</td>\n",
       "      <td>Abnorml</td>\n",
       "      <td>140000.0</td>\n",
       "    </tr>\n",
       "    <tr>\n",
       "      <th>5</th>\n",
       "      <td>60</td>\n",
       "      <td>RL</td>\n",
       "      <td>84.0</td>\n",
       "      <td>14260</td>\n",
       "      <td>Pave</td>\n",
       "      <td>NaN</td>\n",
       "      <td>IR1</td>\n",
       "      <td>Lvl</td>\n",
       "      <td>FR2</td>\n",
       "      <td>Gtl</td>\n",
       "      <td>...</td>\n",
       "      <td>0</td>\n",
       "      <td>0</td>\n",
       "      <td>NaN</td>\n",
       "      <td>NaN</td>\n",
       "      <td>NaN</td>\n",
       "      <td>12</td>\n",
       "      <td>2008</td>\n",
       "      <td>WD</td>\n",
       "      <td>Normal</td>\n",
       "      <td>250000.0</td>\n",
       "    </tr>\n",
       "  </tbody>\n",
       "</table>\n",
       "<p>5 rows × 78 columns</p>\n",
       "</div>"
      ],
      "text/plain": [
       "   MSSubClass MSZoning  LotFrontage  LotArea Street Alley LotShape  \\\n",
       "Id                                                                   \n",
       "1          60       RL         65.0     8450   Pave   NaN      Reg   \n",
       "2          20       RL         80.0     9600   Pave   NaN      Reg   \n",
       "3          60       RL         68.0    11250   Pave   NaN      IR1   \n",
       "4          70       RL         60.0     9550   Pave   NaN      IR1   \n",
       "5          60       RL         84.0    14260   Pave   NaN      IR1   \n",
       "\n",
       "   LandContour LotConfig LandSlope  ... ScreenPorch PoolArea PoolQC Fence  \\\n",
       "Id                                  ...                                     \n",
       "1          Lvl    Inside       Gtl  ...           0        0    NaN   NaN   \n",
       "2          Lvl       FR2       Gtl  ...           0        0    NaN   NaN   \n",
       "3          Lvl    Inside       Gtl  ...           0        0    NaN   NaN   \n",
       "4          Lvl    Corner       Gtl  ...           0        0    NaN   NaN   \n",
       "5          Lvl       FR2       Gtl  ...           0        0    NaN   NaN   \n",
       "\n",
       "   MiscFeature  MoSold  YrSold  SaleType  SaleCondition SalePrice  \n",
       "Id                                                                 \n",
       "1          NaN       2    2008        WD         Normal  208500.0  \n",
       "2          NaN       5    2007        WD         Normal  181500.0  \n",
       "3          NaN       9    2008        WD         Normal  223500.0  \n",
       "4          NaN       2    2006        WD        Abnorml  140000.0  \n",
       "5          NaN      12    2008        WD         Normal  250000.0  \n",
       "\n",
       "[5 rows x 78 columns]"
      ]
     },
     "execution_count": 9,
     "metadata": {},
     "output_type": "execute_result"
    }
   ],
   "source": [
    "df.head()"
   ]
  },
  {
   "cell_type": "code",
   "execution_count": 10,
   "id": "0b7a18d6",
   "metadata": {
    "execution": {
     "iopub.execute_input": "2022-02-05T06:39:32.435652Z",
     "iopub.status.busy": "2022-02-05T06:39:32.434788Z",
     "iopub.status.idle": "2022-02-05T06:39:32.472843Z",
     "shell.execute_reply": "2022-02-05T06:39:32.473443Z",
     "shell.execute_reply.started": "2022-02-05T06:08:12.827288Z"
    },
    "papermill": {
     "duration": 0.104756,
     "end_time": "2022-02-05T06:39:32.473628",
     "exception": false,
     "start_time": "2022-02-05T06:39:32.368872",
     "status": "completed"
    },
    "tags": []
   },
   "outputs": [
    {
     "data": {
      "text/html": [
       "<div>\n",
       "<style scoped>\n",
       "    .dataframe tbody tr th:only-of-type {\n",
       "        vertical-align: middle;\n",
       "    }\n",
       "\n",
       "    .dataframe tbody tr th {\n",
       "        vertical-align: top;\n",
       "    }\n",
       "\n",
       "    .dataframe thead th {\n",
       "        text-align: right;\n",
       "    }\n",
       "</style>\n",
       "<table border=\"1\" class=\"dataframe\">\n",
       "  <thead>\n",
       "    <tr style=\"text-align: right;\">\n",
       "      <th></th>\n",
       "      <th>LotFrontage</th>\n",
       "      <th>LotArea</th>\n",
       "      <th>OverallQual</th>\n",
       "      <th>OverallCond</th>\n",
       "      <th>YearBuilt</th>\n",
       "      <th>YearRemodAdd</th>\n",
       "      <th>MasVnrArea</th>\n",
       "      <th>BsmtFinSF1</th>\n",
       "      <th>BsmtFinSF2</th>\n",
       "      <th>BsmtUnfSF</th>\n",
       "      <th>...</th>\n",
       "      <th>GarageArea</th>\n",
       "      <th>WoodDeckSF</th>\n",
       "      <th>OpenPorchSF</th>\n",
       "      <th>EnclosedPorch</th>\n",
       "      <th>3SsnPorch</th>\n",
       "      <th>ScreenPorch</th>\n",
       "      <th>PoolArea</th>\n",
       "      <th>MoSold</th>\n",
       "      <th>YrSold</th>\n",
       "      <th>SalePrice</th>\n",
       "    </tr>\n",
       "    <tr>\n",
       "      <th>Id</th>\n",
       "      <th></th>\n",
       "      <th></th>\n",
       "      <th></th>\n",
       "      <th></th>\n",
       "      <th></th>\n",
       "      <th></th>\n",
       "      <th></th>\n",
       "      <th></th>\n",
       "      <th></th>\n",
       "      <th></th>\n",
       "      <th></th>\n",
       "      <th></th>\n",
       "      <th></th>\n",
       "      <th></th>\n",
       "      <th></th>\n",
       "      <th></th>\n",
       "      <th></th>\n",
       "      <th></th>\n",
       "      <th></th>\n",
       "      <th></th>\n",
       "      <th></th>\n",
       "    </tr>\n",
       "  </thead>\n",
       "  <tbody>\n",
       "    <tr>\n",
       "      <th>1</th>\n",
       "      <td>65.0</td>\n",
       "      <td>8450</td>\n",
       "      <td>7</td>\n",
       "      <td>5</td>\n",
       "      <td>2003</td>\n",
       "      <td>2003</td>\n",
       "      <td>196.0</td>\n",
       "      <td>706.0</td>\n",
       "      <td>0.0</td>\n",
       "      <td>150.0</td>\n",
       "      <td>...</td>\n",
       "      <td>548.0</td>\n",
       "      <td>0</td>\n",
       "      <td>61</td>\n",
       "      <td>0</td>\n",
       "      <td>0</td>\n",
       "      <td>0</td>\n",
       "      <td>0</td>\n",
       "      <td>2</td>\n",
       "      <td>2008</td>\n",
       "      <td>208500.0</td>\n",
       "    </tr>\n",
       "    <tr>\n",
       "      <th>2</th>\n",
       "      <td>80.0</td>\n",
       "      <td>9600</td>\n",
       "      <td>6</td>\n",
       "      <td>8</td>\n",
       "      <td>1976</td>\n",
       "      <td>1976</td>\n",
       "      <td>0.0</td>\n",
       "      <td>978.0</td>\n",
       "      <td>0.0</td>\n",
       "      <td>284.0</td>\n",
       "      <td>...</td>\n",
       "      <td>460.0</td>\n",
       "      <td>298</td>\n",
       "      <td>0</td>\n",
       "      <td>0</td>\n",
       "      <td>0</td>\n",
       "      <td>0</td>\n",
       "      <td>0</td>\n",
       "      <td>5</td>\n",
       "      <td>2007</td>\n",
       "      <td>181500.0</td>\n",
       "    </tr>\n",
       "    <tr>\n",
       "      <th>3</th>\n",
       "      <td>68.0</td>\n",
       "      <td>11250</td>\n",
       "      <td>7</td>\n",
       "      <td>5</td>\n",
       "      <td>2001</td>\n",
       "      <td>2002</td>\n",
       "      <td>162.0</td>\n",
       "      <td>486.0</td>\n",
       "      <td>0.0</td>\n",
       "      <td>434.0</td>\n",
       "      <td>...</td>\n",
       "      <td>608.0</td>\n",
       "      <td>0</td>\n",
       "      <td>42</td>\n",
       "      <td>0</td>\n",
       "      <td>0</td>\n",
       "      <td>0</td>\n",
       "      <td>0</td>\n",
       "      <td>9</td>\n",
       "      <td>2008</td>\n",
       "      <td>223500.0</td>\n",
       "    </tr>\n",
       "    <tr>\n",
       "      <th>4</th>\n",
       "      <td>60.0</td>\n",
       "      <td>9550</td>\n",
       "      <td>7</td>\n",
       "      <td>5</td>\n",
       "      <td>1915</td>\n",
       "      <td>1970</td>\n",
       "      <td>0.0</td>\n",
       "      <td>216.0</td>\n",
       "      <td>0.0</td>\n",
       "      <td>540.0</td>\n",
       "      <td>...</td>\n",
       "      <td>642.0</td>\n",
       "      <td>0</td>\n",
       "      <td>35</td>\n",
       "      <td>272</td>\n",
       "      <td>0</td>\n",
       "      <td>0</td>\n",
       "      <td>0</td>\n",
       "      <td>2</td>\n",
       "      <td>2006</td>\n",
       "      <td>140000.0</td>\n",
       "    </tr>\n",
       "    <tr>\n",
       "      <th>5</th>\n",
       "      <td>84.0</td>\n",
       "      <td>14260</td>\n",
       "      <td>8</td>\n",
       "      <td>5</td>\n",
       "      <td>2000</td>\n",
       "      <td>2000</td>\n",
       "      <td>350.0</td>\n",
       "      <td>655.0</td>\n",
       "      <td>0.0</td>\n",
       "      <td>490.0</td>\n",
       "      <td>...</td>\n",
       "      <td>836.0</td>\n",
       "      <td>192</td>\n",
       "      <td>84</td>\n",
       "      <td>0</td>\n",
       "      <td>0</td>\n",
       "      <td>0</td>\n",
       "      <td>0</td>\n",
       "      <td>12</td>\n",
       "      <td>2008</td>\n",
       "      <td>250000.0</td>\n",
       "    </tr>\n",
       "    <tr>\n",
       "      <th>...</th>\n",
       "      <td>...</td>\n",
       "      <td>...</td>\n",
       "      <td>...</td>\n",
       "      <td>...</td>\n",
       "      <td>...</td>\n",
       "      <td>...</td>\n",
       "      <td>...</td>\n",
       "      <td>...</td>\n",
       "      <td>...</td>\n",
       "      <td>...</td>\n",
       "      <td>...</td>\n",
       "      <td>...</td>\n",
       "      <td>...</td>\n",
       "      <td>...</td>\n",
       "      <td>...</td>\n",
       "      <td>...</td>\n",
       "      <td>...</td>\n",
       "      <td>...</td>\n",
       "      <td>...</td>\n",
       "      <td>...</td>\n",
       "      <td>...</td>\n",
       "    </tr>\n",
       "    <tr>\n",
       "      <th>2915</th>\n",
       "      <td>21.0</td>\n",
       "      <td>1936</td>\n",
       "      <td>4</td>\n",
       "      <td>7</td>\n",
       "      <td>1970</td>\n",
       "      <td>1970</td>\n",
       "      <td>0.0</td>\n",
       "      <td>0.0</td>\n",
       "      <td>0.0</td>\n",
       "      <td>546.0</td>\n",
       "      <td>...</td>\n",
       "      <td>0.0</td>\n",
       "      <td>0</td>\n",
       "      <td>0</td>\n",
       "      <td>0</td>\n",
       "      <td>0</td>\n",
       "      <td>0</td>\n",
       "      <td>0</td>\n",
       "      <td>6</td>\n",
       "      <td>2006</td>\n",
       "      <td>NaN</td>\n",
       "    </tr>\n",
       "    <tr>\n",
       "      <th>2916</th>\n",
       "      <td>21.0</td>\n",
       "      <td>1894</td>\n",
       "      <td>4</td>\n",
       "      <td>5</td>\n",
       "      <td>1970</td>\n",
       "      <td>1970</td>\n",
       "      <td>0.0</td>\n",
       "      <td>252.0</td>\n",
       "      <td>0.0</td>\n",
       "      <td>294.0</td>\n",
       "      <td>...</td>\n",
       "      <td>286.0</td>\n",
       "      <td>0</td>\n",
       "      <td>24</td>\n",
       "      <td>0</td>\n",
       "      <td>0</td>\n",
       "      <td>0</td>\n",
       "      <td>0</td>\n",
       "      <td>4</td>\n",
       "      <td>2006</td>\n",
       "      <td>NaN</td>\n",
       "    </tr>\n",
       "    <tr>\n",
       "      <th>2917</th>\n",
       "      <td>160.0</td>\n",
       "      <td>20000</td>\n",
       "      <td>5</td>\n",
       "      <td>7</td>\n",
       "      <td>1960</td>\n",
       "      <td>1996</td>\n",
       "      <td>0.0</td>\n",
       "      <td>1224.0</td>\n",
       "      <td>0.0</td>\n",
       "      <td>0.0</td>\n",
       "      <td>...</td>\n",
       "      <td>576.0</td>\n",
       "      <td>474</td>\n",
       "      <td>0</td>\n",
       "      <td>0</td>\n",
       "      <td>0</td>\n",
       "      <td>0</td>\n",
       "      <td>0</td>\n",
       "      <td>9</td>\n",
       "      <td>2006</td>\n",
       "      <td>NaN</td>\n",
       "    </tr>\n",
       "    <tr>\n",
       "      <th>2918</th>\n",
       "      <td>62.0</td>\n",
       "      <td>10441</td>\n",
       "      <td>5</td>\n",
       "      <td>5</td>\n",
       "      <td>1992</td>\n",
       "      <td>1992</td>\n",
       "      <td>0.0</td>\n",
       "      <td>337.0</td>\n",
       "      <td>0.0</td>\n",
       "      <td>575.0</td>\n",
       "      <td>...</td>\n",
       "      <td>0.0</td>\n",
       "      <td>80</td>\n",
       "      <td>32</td>\n",
       "      <td>0</td>\n",
       "      <td>0</td>\n",
       "      <td>0</td>\n",
       "      <td>0</td>\n",
       "      <td>7</td>\n",
       "      <td>2006</td>\n",
       "      <td>NaN</td>\n",
       "    </tr>\n",
       "    <tr>\n",
       "      <th>2919</th>\n",
       "      <td>74.0</td>\n",
       "      <td>9627</td>\n",
       "      <td>7</td>\n",
       "      <td>5</td>\n",
       "      <td>1993</td>\n",
       "      <td>1994</td>\n",
       "      <td>94.0</td>\n",
       "      <td>758.0</td>\n",
       "      <td>0.0</td>\n",
       "      <td>238.0</td>\n",
       "      <td>...</td>\n",
       "      <td>650.0</td>\n",
       "      <td>190</td>\n",
       "      <td>48</td>\n",
       "      <td>0</td>\n",
       "      <td>0</td>\n",
       "      <td>0</td>\n",
       "      <td>0</td>\n",
       "      <td>11</td>\n",
       "      <td>2006</td>\n",
       "      <td>NaN</td>\n",
       "    </tr>\n",
       "  </tbody>\n",
       "</table>\n",
       "<p>2919 rows × 35 columns</p>\n",
       "</div>"
      ],
      "text/plain": [
       "      LotFrontage  LotArea  OverallQual  OverallCond  YearBuilt  YearRemodAdd  \\\n",
       "Id                                                                              \n",
       "1            65.0     8450            7            5       2003          2003   \n",
       "2            80.0     9600            6            8       1976          1976   \n",
       "3            68.0    11250            7            5       2001          2002   \n",
       "4            60.0     9550            7            5       1915          1970   \n",
       "5            84.0    14260            8            5       2000          2000   \n",
       "...           ...      ...          ...          ...        ...           ...   \n",
       "2915         21.0     1936            4            7       1970          1970   \n",
       "2916         21.0     1894            4            5       1970          1970   \n",
       "2917        160.0    20000            5            7       1960          1996   \n",
       "2918         62.0    10441            5            5       1992          1992   \n",
       "2919         74.0     9627            7            5       1993          1994   \n",
       "\n",
       "      MasVnrArea  BsmtFinSF1  BsmtFinSF2  BsmtUnfSF  ...  GarageArea  \\\n",
       "Id                                                   ...               \n",
       "1          196.0       706.0         0.0      150.0  ...       548.0   \n",
       "2            0.0       978.0         0.0      284.0  ...       460.0   \n",
       "3          162.0       486.0         0.0      434.0  ...       608.0   \n",
       "4            0.0       216.0         0.0      540.0  ...       642.0   \n",
       "5          350.0       655.0         0.0      490.0  ...       836.0   \n",
       "...          ...         ...         ...        ...  ...         ...   \n",
       "2915         0.0         0.0         0.0      546.0  ...         0.0   \n",
       "2916         0.0       252.0         0.0      294.0  ...       286.0   \n",
       "2917         0.0      1224.0         0.0        0.0  ...       576.0   \n",
       "2918         0.0       337.0         0.0      575.0  ...         0.0   \n",
       "2919        94.0       758.0         0.0      238.0  ...       650.0   \n",
       "\n",
       "      WoodDeckSF  OpenPorchSF  EnclosedPorch  3SsnPorch  ScreenPorch  \\\n",
       "Id                                                                     \n",
       "1              0           61              0          0            0   \n",
       "2            298            0              0          0            0   \n",
       "3              0           42              0          0            0   \n",
       "4              0           35            272          0            0   \n",
       "5            192           84              0          0            0   \n",
       "...          ...          ...            ...        ...          ...   \n",
       "2915           0            0              0          0            0   \n",
       "2916           0           24              0          0            0   \n",
       "2917         474            0              0          0            0   \n",
       "2918          80           32              0          0            0   \n",
       "2919         190           48              0          0            0   \n",
       "\n",
       "      PoolArea  MoSold  YrSold  SalePrice  \n",
       "Id                                         \n",
       "1            0       2    2008   208500.0  \n",
       "2            0       5    2007   181500.0  \n",
       "3            0       9    2008   223500.0  \n",
       "4            0       2    2006   140000.0  \n",
       "5            0      12    2008   250000.0  \n",
       "...        ...     ...     ...        ...  \n",
       "2915         0       6    2006        NaN  \n",
       "2916         0       4    2006        NaN  \n",
       "2917         0       9    2006        NaN  \n",
       "2918         0       7    2006        NaN  \n",
       "2919         0      11    2006        NaN  \n",
       "\n",
       "[2919 rows x 35 columns]"
      ]
     },
     "execution_count": 10,
     "metadata": {},
     "output_type": "execute_result"
    }
   ],
   "source": [
    "df_cat = df.select_dtypes(include =\"object\")\n",
    "df_num = df.select_dtypes(include =\"number\")\n",
    "df_num"
   ]
  },
  {
   "cell_type": "code",
   "execution_count": 11,
   "id": "5292af23",
   "metadata": {
    "execution": {
     "iopub.execute_input": "2022-02-05T06:39:32.606252Z",
     "iopub.status.busy": "2022-02-05T06:39:32.605442Z",
     "iopub.status.idle": "2022-02-05T06:39:32.639308Z",
     "shell.execute_reply": "2022-02-05T06:39:32.639921Z",
     "shell.execute_reply.started": "2022-02-05T06:08:12.948450Z"
    },
    "papermill": {
     "duration": 0.101842,
     "end_time": "2022-02-05T06:39:32.640085",
     "exception": false,
     "start_time": "2022-02-05T06:39:32.538243",
     "status": "completed"
    },
    "tags": []
   },
   "outputs": [
    {
     "name": "stdout",
     "output_type": "stream",
     "text": [
      "('MSZoning', 'LotFrontage', 'Alley', 'Exterior1st', 'Exterior2nd', 'MasVnrType', 'MasVnrArea', 'BsmtQual', 'BsmtCond', 'BsmtExposure', 'BsmtFinType1', 'BsmtFinSF1', 'BsmtFinType2', 'BsmtFinSF2', 'BsmtUnfSF', 'TotalBsmtSF', 'Electrical', 'BsmtFullBath', 'BsmtHalfBath', 'KitchenQual', 'Functional', 'FireplaceQu', 'GarageType', 'GarageYrBlt', 'GarageFinish', 'GarageCars', 'GarageArea', 'GarageQual', 'GarageCond', 'PoolQC', 'Fence', 'MiscFeature', 'SaleType', 'SalePrice')\n"
     ]
    }
   ],
   "source": [
    "col_nan = ()\n",
    "for col in df.columns:\n",
    "    if df[col].isnull().any() == True:\n",
    "        col_nan += (col,)\n",
    "print(col_nan)"
   ]
  },
  {
   "cell_type": "code",
   "execution_count": 12,
   "id": "0da6c46b",
   "metadata": {
    "execution": {
     "iopub.execute_input": "2022-02-05T06:39:32.773616Z",
     "iopub.status.busy": "2022-02-05T06:39:32.772774Z",
     "iopub.status.idle": "2022-02-05T06:39:32.784238Z",
     "shell.execute_reply": "2022-02-05T06:39:32.784782Z",
     "shell.execute_reply.started": "2022-02-05T06:08:13.127790Z"
    },
    "papermill": {
     "duration": 0.079725,
     "end_time": "2022-02-05T06:39:32.784957",
     "exception": false,
     "start_time": "2022-02-05T06:39:32.705232",
     "status": "completed"
    },
    "tags": []
   },
   "outputs": [],
   "source": [
    "df_num_non = df[list(col_nan)].select_dtypes(exclude=\"object\")\n",
    "df_obj_non = df[list(col_nan)].select_dtypes(exclude=\"number\")"
   ]
  },
  {
   "cell_type": "code",
   "execution_count": 13,
   "id": "260bf68c",
   "metadata": {
    "execution": {
     "iopub.execute_input": "2022-02-05T06:39:32.928840Z",
     "iopub.status.busy": "2022-02-05T06:39:32.927998Z",
     "iopub.status.idle": "2022-02-05T06:39:32.949324Z",
     "shell.execute_reply": "2022-02-05T06:39:32.949874Z",
     "shell.execute_reply.started": "2022-02-05T06:08:13.181673Z"
    },
    "papermill": {
     "duration": 0.097932,
     "end_time": "2022-02-05T06:39:32.950031",
     "exception": false,
     "start_time": "2022-02-05T06:39:32.852099",
     "status": "completed"
    },
    "tags": []
   },
   "outputs": [
    {
     "data": {
      "text/html": [
       "<div>\n",
       "<style scoped>\n",
       "    .dataframe tbody tr th:only-of-type {\n",
       "        vertical-align: middle;\n",
       "    }\n",
       "\n",
       "    .dataframe tbody tr th {\n",
       "        vertical-align: top;\n",
       "    }\n",
       "\n",
       "    .dataframe thead th {\n",
       "        text-align: right;\n",
       "    }\n",
       "</style>\n",
       "<table border=\"1\" class=\"dataframe\">\n",
       "  <thead>\n",
       "    <tr style=\"text-align: right;\">\n",
       "      <th></th>\n",
       "      <th>LotFrontage</th>\n",
       "      <th>MasVnrArea</th>\n",
       "      <th>BsmtFinSF1</th>\n",
       "      <th>BsmtFinSF2</th>\n",
       "      <th>BsmtUnfSF</th>\n",
       "      <th>TotalBsmtSF</th>\n",
       "      <th>BsmtFullBath</th>\n",
       "      <th>BsmtHalfBath</th>\n",
       "      <th>GarageYrBlt</th>\n",
       "      <th>GarageCars</th>\n",
       "      <th>GarageArea</th>\n",
       "      <th>SalePrice</th>\n",
       "    </tr>\n",
       "    <tr>\n",
       "      <th>Id</th>\n",
       "      <th></th>\n",
       "      <th></th>\n",
       "      <th></th>\n",
       "      <th></th>\n",
       "      <th></th>\n",
       "      <th></th>\n",
       "      <th></th>\n",
       "      <th></th>\n",
       "      <th></th>\n",
       "      <th></th>\n",
       "      <th></th>\n",
       "      <th></th>\n",
       "    </tr>\n",
       "  </thead>\n",
       "  <tbody>\n",
       "    <tr>\n",
       "      <th>1</th>\n",
       "      <td>65.0</td>\n",
       "      <td>196.0</td>\n",
       "      <td>706.0</td>\n",
       "      <td>0.0</td>\n",
       "      <td>150.0</td>\n",
       "      <td>856.0</td>\n",
       "      <td>1.0</td>\n",
       "      <td>0.0</td>\n",
       "      <td>2003.0</td>\n",
       "      <td>2.0</td>\n",
       "      <td>548.0</td>\n",
       "      <td>208500.0</td>\n",
       "    </tr>\n",
       "    <tr>\n",
       "      <th>2</th>\n",
       "      <td>80.0</td>\n",
       "      <td>0.0</td>\n",
       "      <td>978.0</td>\n",
       "      <td>0.0</td>\n",
       "      <td>284.0</td>\n",
       "      <td>1262.0</td>\n",
       "      <td>0.0</td>\n",
       "      <td>1.0</td>\n",
       "      <td>1976.0</td>\n",
       "      <td>2.0</td>\n",
       "      <td>460.0</td>\n",
       "      <td>181500.0</td>\n",
       "    </tr>\n",
       "    <tr>\n",
       "      <th>3</th>\n",
       "      <td>68.0</td>\n",
       "      <td>162.0</td>\n",
       "      <td>486.0</td>\n",
       "      <td>0.0</td>\n",
       "      <td>434.0</td>\n",
       "      <td>920.0</td>\n",
       "      <td>1.0</td>\n",
       "      <td>0.0</td>\n",
       "      <td>2001.0</td>\n",
       "      <td>2.0</td>\n",
       "      <td>608.0</td>\n",
       "      <td>223500.0</td>\n",
       "    </tr>\n",
       "    <tr>\n",
       "      <th>4</th>\n",
       "      <td>60.0</td>\n",
       "      <td>0.0</td>\n",
       "      <td>216.0</td>\n",
       "      <td>0.0</td>\n",
       "      <td>540.0</td>\n",
       "      <td>756.0</td>\n",
       "      <td>1.0</td>\n",
       "      <td>0.0</td>\n",
       "      <td>1998.0</td>\n",
       "      <td>3.0</td>\n",
       "      <td>642.0</td>\n",
       "      <td>140000.0</td>\n",
       "    </tr>\n",
       "    <tr>\n",
       "      <th>5</th>\n",
       "      <td>84.0</td>\n",
       "      <td>350.0</td>\n",
       "      <td>655.0</td>\n",
       "      <td>0.0</td>\n",
       "      <td>490.0</td>\n",
       "      <td>1145.0</td>\n",
       "      <td>1.0</td>\n",
       "      <td>0.0</td>\n",
       "      <td>2000.0</td>\n",
       "      <td>3.0</td>\n",
       "      <td>836.0</td>\n",
       "      <td>250000.0</td>\n",
       "    </tr>\n",
       "    <tr>\n",
       "      <th>...</th>\n",
       "      <td>...</td>\n",
       "      <td>...</td>\n",
       "      <td>...</td>\n",
       "      <td>...</td>\n",
       "      <td>...</td>\n",
       "      <td>...</td>\n",
       "      <td>...</td>\n",
       "      <td>...</td>\n",
       "      <td>...</td>\n",
       "      <td>...</td>\n",
       "      <td>...</td>\n",
       "      <td>...</td>\n",
       "    </tr>\n",
       "    <tr>\n",
       "      <th>2915</th>\n",
       "      <td>21.0</td>\n",
       "      <td>0.0</td>\n",
       "      <td>0.0</td>\n",
       "      <td>0.0</td>\n",
       "      <td>546.0</td>\n",
       "      <td>546.0</td>\n",
       "      <td>0.0</td>\n",
       "      <td>0.0</td>\n",
       "      <td>NaN</td>\n",
       "      <td>0.0</td>\n",
       "      <td>0.0</td>\n",
       "      <td>NaN</td>\n",
       "    </tr>\n",
       "    <tr>\n",
       "      <th>2916</th>\n",
       "      <td>21.0</td>\n",
       "      <td>0.0</td>\n",
       "      <td>252.0</td>\n",
       "      <td>0.0</td>\n",
       "      <td>294.0</td>\n",
       "      <td>546.0</td>\n",
       "      <td>0.0</td>\n",
       "      <td>0.0</td>\n",
       "      <td>1970.0</td>\n",
       "      <td>1.0</td>\n",
       "      <td>286.0</td>\n",
       "      <td>NaN</td>\n",
       "    </tr>\n",
       "    <tr>\n",
       "      <th>2917</th>\n",
       "      <td>160.0</td>\n",
       "      <td>0.0</td>\n",
       "      <td>1224.0</td>\n",
       "      <td>0.0</td>\n",
       "      <td>0.0</td>\n",
       "      <td>1224.0</td>\n",
       "      <td>1.0</td>\n",
       "      <td>0.0</td>\n",
       "      <td>1960.0</td>\n",
       "      <td>2.0</td>\n",
       "      <td>576.0</td>\n",
       "      <td>NaN</td>\n",
       "    </tr>\n",
       "    <tr>\n",
       "      <th>2918</th>\n",
       "      <td>62.0</td>\n",
       "      <td>0.0</td>\n",
       "      <td>337.0</td>\n",
       "      <td>0.0</td>\n",
       "      <td>575.0</td>\n",
       "      <td>912.0</td>\n",
       "      <td>0.0</td>\n",
       "      <td>1.0</td>\n",
       "      <td>NaN</td>\n",
       "      <td>0.0</td>\n",
       "      <td>0.0</td>\n",
       "      <td>NaN</td>\n",
       "    </tr>\n",
       "    <tr>\n",
       "      <th>2919</th>\n",
       "      <td>74.0</td>\n",
       "      <td>94.0</td>\n",
       "      <td>758.0</td>\n",
       "      <td>0.0</td>\n",
       "      <td>238.0</td>\n",
       "      <td>996.0</td>\n",
       "      <td>0.0</td>\n",
       "      <td>0.0</td>\n",
       "      <td>1993.0</td>\n",
       "      <td>3.0</td>\n",
       "      <td>650.0</td>\n",
       "      <td>NaN</td>\n",
       "    </tr>\n",
       "  </tbody>\n",
       "</table>\n",
       "<p>2919 rows × 12 columns</p>\n",
       "</div>"
      ],
      "text/plain": [
       "      LotFrontage  MasVnrArea  BsmtFinSF1  BsmtFinSF2  BsmtUnfSF  TotalBsmtSF  \\\n",
       "Id                                                                              \n",
       "1            65.0       196.0       706.0         0.0      150.0        856.0   \n",
       "2            80.0         0.0       978.0         0.0      284.0       1262.0   \n",
       "3            68.0       162.0       486.0         0.0      434.0        920.0   \n",
       "4            60.0         0.0       216.0         0.0      540.0        756.0   \n",
       "5            84.0       350.0       655.0         0.0      490.0       1145.0   \n",
       "...           ...         ...         ...         ...        ...          ...   \n",
       "2915         21.0         0.0         0.0         0.0      546.0        546.0   \n",
       "2916         21.0         0.0       252.0         0.0      294.0        546.0   \n",
       "2917        160.0         0.0      1224.0         0.0        0.0       1224.0   \n",
       "2918         62.0         0.0       337.0         0.0      575.0        912.0   \n",
       "2919         74.0        94.0       758.0         0.0      238.0        996.0   \n",
       "\n",
       "      BsmtFullBath  BsmtHalfBath  GarageYrBlt  GarageCars  GarageArea  \\\n",
       "Id                                                                      \n",
       "1              1.0           0.0       2003.0         2.0       548.0   \n",
       "2              0.0           1.0       1976.0         2.0       460.0   \n",
       "3              1.0           0.0       2001.0         2.0       608.0   \n",
       "4              1.0           0.0       1998.0         3.0       642.0   \n",
       "5              1.0           0.0       2000.0         3.0       836.0   \n",
       "...            ...           ...          ...         ...         ...   \n",
       "2915           0.0           0.0          NaN         0.0         0.0   \n",
       "2916           0.0           0.0       1970.0         1.0       286.0   \n",
       "2917           1.0           0.0       1960.0         2.0       576.0   \n",
       "2918           0.0           1.0          NaN         0.0         0.0   \n",
       "2919           0.0           0.0       1993.0         3.0       650.0   \n",
       "\n",
       "      SalePrice  \n",
       "Id               \n",
       "1      208500.0  \n",
       "2      181500.0  \n",
       "3      223500.0  \n",
       "4      140000.0  \n",
       "5      250000.0  \n",
       "...         ...  \n",
       "2915        NaN  \n",
       "2916        NaN  \n",
       "2917        NaN  \n",
       "2918        NaN  \n",
       "2919        NaN  \n",
       "\n",
       "[2919 rows x 12 columns]"
      ]
     },
     "execution_count": 13,
     "metadata": {},
     "output_type": "execute_result"
    }
   ],
   "source": [
    "df_num_non"
   ]
  },
  {
   "cell_type": "code",
   "execution_count": 14,
   "id": "6a44a718",
   "metadata": {
    "execution": {
     "iopub.execute_input": "2022-02-05T06:39:33.086711Z",
     "iopub.status.busy": "2022-02-05T06:39:33.085885Z",
     "iopub.status.idle": "2022-02-05T06:39:33.092714Z",
     "shell.execute_reply": "2022-02-05T06:39:33.093301Z",
     "shell.execute_reply.started": "2022-02-05T06:08:13.274829Z"
    },
    "papermill": {
     "duration": 0.077933,
     "end_time": "2022-02-05T06:39:33.093470",
     "exception": false,
     "start_time": "2022-02-05T06:39:33.015537",
     "status": "completed"
    },
    "tags": []
   },
   "outputs": [
    {
     "data": {
      "text/plain": [
       "False"
      ]
     },
     "execution_count": 14,
     "metadata": {},
     "output_type": "execute_result"
    }
   ],
   "source": [
    "df[\"LotFrontage\"].fillna(df[\"LotFrontage\"].mean(), inplace=True)\n",
    "df[\"LotFrontage\"].isnull().any()"
   ]
  },
  {
   "cell_type": "code",
   "execution_count": 15,
   "id": "93b88541",
   "metadata": {
    "execution": {
     "iopub.execute_input": "2022-02-05T06:39:33.231316Z",
     "iopub.status.busy": "2022-02-05T06:39:33.230495Z",
     "iopub.status.idle": "2022-02-05T06:39:33.237656Z",
     "shell.execute_reply": "2022-02-05T06:39:33.238128Z",
     "shell.execute_reply.started": "2022-02-05T06:08:13.388100Z"
    },
    "papermill": {
     "duration": 0.077468,
     "end_time": "2022-02-05T06:39:33.238293",
     "exception": false,
     "start_time": "2022-02-05T06:39:33.160825",
     "status": "completed"
    },
    "tags": []
   },
   "outputs": [
    {
     "data": {
      "text/plain": [
       "False"
      ]
     },
     "execution_count": 15,
     "metadata": {},
     "output_type": "execute_result"
    }
   ],
   "source": [
    "df[\"MasVnrArea\"].fillna(df[\"MasVnrArea\"].mean(), inplace=True)\n",
    "df[\"MasVnrArea\"].isnull().any()"
   ]
  },
  {
   "cell_type": "code",
   "execution_count": 16,
   "id": "eb4a7e2a",
   "metadata": {
    "execution": {
     "iopub.execute_input": "2022-02-05T06:39:33.375852Z",
     "iopub.status.busy": "2022-02-05T06:39:33.375041Z",
     "iopub.status.idle": "2022-02-05T06:39:33.381807Z",
     "shell.execute_reply": "2022-02-05T06:39:33.382354Z",
     "shell.execute_reply.started": "2022-02-05T06:08:13.552231Z"
    },
    "papermill": {
     "duration": 0.077081,
     "end_time": "2022-02-05T06:39:33.382524",
     "exception": false,
     "start_time": "2022-02-05T06:39:33.305443",
     "status": "completed"
    },
    "tags": []
   },
   "outputs": [
    {
     "data": {
      "text/plain": [
       "False"
      ]
     },
     "execution_count": 16,
     "metadata": {},
     "output_type": "execute_result"
    }
   ],
   "source": [
    "df[\"BsmtFinSF1\"].fillna(df[\"BsmtFinSF1\"].mean(), inplace=True)\n",
    "df[\"BsmtFinSF1\"].isnull().any()"
   ]
  },
  {
   "cell_type": "code",
   "execution_count": 17,
   "id": "cc81904d",
   "metadata": {
    "execution": {
     "iopub.execute_input": "2022-02-05T06:39:33.522434Z",
     "iopub.status.busy": "2022-02-05T06:39:33.521646Z",
     "iopub.status.idle": "2022-02-05T06:39:33.528527Z",
     "shell.execute_reply": "2022-02-05T06:39:33.529147Z",
     "shell.execute_reply.started": "2022-02-05T06:08:13.692239Z"
    },
    "papermill": {
     "duration": 0.078354,
     "end_time": "2022-02-05T06:39:33.529304",
     "exception": false,
     "start_time": "2022-02-05T06:39:33.450950",
     "status": "completed"
    },
    "tags": []
   },
   "outputs": [
    {
     "data": {
      "text/plain": [
       "False"
      ]
     },
     "execution_count": 17,
     "metadata": {},
     "output_type": "execute_result"
    }
   ],
   "source": [
    "df[\"BsmtFinSF2\"].fillna(df[\"BsmtFinSF2\"].median(), inplace=True)\n",
    "df[\"BsmtFinSF2\"].isnull().any()"
   ]
  },
  {
   "cell_type": "code",
   "execution_count": 18,
   "id": "8dbd14ed",
   "metadata": {
    "execution": {
     "iopub.execute_input": "2022-02-05T06:39:33.668656Z",
     "iopub.status.busy": "2022-02-05T06:39:33.667793Z",
     "iopub.status.idle": "2022-02-05T06:39:33.674371Z",
     "shell.execute_reply": "2022-02-05T06:39:33.674993Z",
     "shell.execute_reply.started": "2022-02-05T06:08:13.815883Z"
    },
    "papermill": {
     "duration": 0.078225,
     "end_time": "2022-02-05T06:39:33.675154",
     "exception": false,
     "start_time": "2022-02-05T06:39:33.596929",
     "status": "completed"
    },
    "tags": []
   },
   "outputs": [
    {
     "data": {
      "text/plain": [
       "False"
      ]
     },
     "execution_count": 18,
     "metadata": {},
     "output_type": "execute_result"
    }
   ],
   "source": [
    "df[\"BsmtUnfSF\"].fillna(df[\"BsmtUnfSF\"].mean(), inplace=True)\n",
    "df[\"BsmtUnfSF\"].isnull().any()"
   ]
  },
  {
   "cell_type": "code",
   "execution_count": 19,
   "id": "c679c7a5",
   "metadata": {
    "execution": {
     "iopub.execute_input": "2022-02-05T06:39:33.813809Z",
     "iopub.status.busy": "2022-02-05T06:39:33.813017Z",
     "iopub.status.idle": "2022-02-05T06:39:33.819805Z",
     "shell.execute_reply": "2022-02-05T06:39:33.820375Z",
     "shell.execute_reply.started": "2022-02-05T06:08:13.957989Z"
    },
    "papermill": {
     "duration": 0.077846,
     "end_time": "2022-02-05T06:39:33.820565",
     "exception": false,
     "start_time": "2022-02-05T06:39:33.742719",
     "status": "completed"
    },
    "tags": []
   },
   "outputs": [
    {
     "data": {
      "text/plain": [
       "False"
      ]
     },
     "execution_count": 19,
     "metadata": {},
     "output_type": "execute_result"
    }
   ],
   "source": [
    "df[\"TotalBsmtSF\"].fillna(df[\"TotalBsmtSF\"].mean(), inplace=True)\n",
    "df[\"TotalBsmtSF\"].isnull().any()"
   ]
  },
  {
   "cell_type": "code",
   "execution_count": 20,
   "id": "74b71b9f",
   "metadata": {
    "execution": {
     "iopub.execute_input": "2022-02-05T06:39:33.961577Z",
     "iopub.status.busy": "2022-02-05T06:39:33.960747Z",
     "iopub.status.idle": "2022-02-05T06:39:33.968501Z",
     "shell.execute_reply": "2022-02-05T06:39:33.967944Z",
     "shell.execute_reply.started": "2022-02-05T06:08:14.020980Z"
    },
    "papermill": {
     "duration": 0.079303,
     "end_time": "2022-02-05T06:39:33.968653",
     "exception": false,
     "start_time": "2022-02-05T06:39:33.889350",
     "status": "completed"
    },
    "tags": []
   },
   "outputs": [
    {
     "data": {
      "text/plain": [
       "dtype('O')"
      ]
     },
     "execution_count": 20,
     "metadata": {},
     "output_type": "execute_result"
    }
   ],
   "source": [
    "df[\"BsmtFullBath\"]=df[\"BsmtFullBath\"].astype(\"object\")\n",
    "df[\"BsmtFullBath\"].dtypes"
   ]
  },
  {
   "cell_type": "code",
   "execution_count": 21,
   "id": "5183dbd7",
   "metadata": {
    "execution": {
     "iopub.execute_input": "2022-02-05T06:39:34.114472Z",
     "iopub.status.busy": "2022-02-05T06:39:34.112025Z",
     "iopub.status.idle": "2022-02-05T06:39:34.119586Z",
     "shell.execute_reply": "2022-02-05T06:39:34.120142Z",
     "shell.execute_reply.started": "2022-02-05T06:08:14.744517Z"
    },
    "papermill": {
     "duration": 0.082335,
     "end_time": "2022-02-05T06:39:34.120308",
     "exception": false,
     "start_time": "2022-02-05T06:39:34.037973",
     "status": "completed"
    },
    "tags": []
   },
   "outputs": [
    {
     "data": {
      "text/plain": [
       "dtype('O')"
      ]
     },
     "execution_count": 21,
     "metadata": {},
     "output_type": "execute_result"
    }
   ],
   "source": [
    "df[\"BsmtHalfBath\"]=df[\"BsmtHalfBath\"].astype(\"object\")\n",
    "df[\"BsmtHalfBath\"].dtypes"
   ]
  },
  {
   "cell_type": "code",
   "execution_count": 22,
   "id": "0e5656c1",
   "metadata": {
    "execution": {
     "iopub.execute_input": "2022-02-05T06:39:34.263258Z",
     "iopub.status.busy": "2022-02-05T06:39:34.262392Z",
     "iopub.status.idle": "2022-02-05T06:39:34.269726Z",
     "shell.execute_reply": "2022-02-05T06:39:34.270326Z",
     "shell.execute_reply.started": "2022-02-05T06:08:14.872083Z"
    },
    "papermill": {
     "duration": 0.080845,
     "end_time": "2022-02-05T06:39:34.270498",
     "exception": false,
     "start_time": "2022-02-05T06:39:34.189653",
     "status": "completed"
    },
    "tags": []
   },
   "outputs": [
    {
     "data": {
      "text/plain": [
       "False"
      ]
     },
     "execution_count": 22,
     "metadata": {},
     "output_type": "execute_result"
    }
   ],
   "source": [
    "df[\"GarageYrBlt\"].fillna(df[\"GarageYrBlt\"].median(), inplace=True)\n",
    "df[\"GarageYrBlt\"].isnull().any()"
   ]
  },
  {
   "cell_type": "code",
   "execution_count": 23,
   "id": "7c891493",
   "metadata": {
    "execution": {
     "iopub.execute_input": "2022-02-05T06:39:34.413574Z",
     "iopub.status.busy": "2022-02-05T06:39:34.412774Z",
     "iopub.status.idle": "2022-02-05T06:39:34.419000Z",
     "shell.execute_reply": "2022-02-05T06:39:34.419594Z",
     "shell.execute_reply.started": "2022-02-05T06:08:15.005225Z"
    },
    "papermill": {
     "duration": 0.078427,
     "end_time": "2022-02-05T06:39:34.419755",
     "exception": false,
     "start_time": "2022-02-05T06:39:34.341328",
     "status": "completed"
    },
    "tags": []
   },
   "outputs": [
    {
     "data": {
      "text/plain": [
       "dtype('O')"
      ]
     },
     "execution_count": 23,
     "metadata": {},
     "output_type": "execute_result"
    }
   ],
   "source": [
    "df[\"GarageCars\"]=df[\"GarageCars\"].astype(\"object\")\n",
    "df[\"GarageCars\"].dtypes"
   ]
  },
  {
   "cell_type": "code",
   "execution_count": 24,
   "id": "4be31801",
   "metadata": {
    "execution": {
     "iopub.execute_input": "2022-02-05T06:39:34.560720Z",
     "iopub.status.busy": "2022-02-05T06:39:34.559942Z",
     "iopub.status.idle": "2022-02-05T06:39:34.566256Z",
     "shell.execute_reply": "2022-02-05T06:39:34.566854Z",
     "shell.execute_reply.started": "2022-02-05T06:08:15.142115Z"
    },
    "papermill": {
     "duration": 0.07847,
     "end_time": "2022-02-05T06:39:34.567014",
     "exception": false,
     "start_time": "2022-02-05T06:39:34.488544",
     "status": "completed"
    },
    "tags": []
   },
   "outputs": [
    {
     "data": {
      "text/plain": [
       "False"
      ]
     },
     "execution_count": 24,
     "metadata": {},
     "output_type": "execute_result"
    }
   ],
   "source": [
    "df[\"GarageArea\"].fillna(df[\"GarageArea\"].mean(), inplace=True)\n",
    "df[\"GarageArea\"].isnull().any()"
   ]
  },
  {
   "cell_type": "code",
   "execution_count": 25,
   "id": "c490eae9",
   "metadata": {
    "execution": {
     "iopub.execute_input": "2022-02-05T06:39:34.709865Z",
     "iopub.status.busy": "2022-02-05T06:39:34.709043Z",
     "iopub.status.idle": "2022-02-05T06:39:34.714488Z",
     "shell.execute_reply": "2022-02-05T06:39:34.714963Z",
     "shell.execute_reply.started": "2022-02-05T06:08:15.269925Z"
    },
    "papermill": {
     "duration": 0.078735,
     "end_time": "2022-02-05T06:39:34.715130",
     "exception": false,
     "start_time": "2022-02-05T06:39:34.636395",
     "status": "completed"
    },
    "tags": []
   },
   "outputs": [
    {
     "data": {
      "text/plain": [
       "Index(['MSZoning', 'Alley', 'Exterior1st', 'Exterior2nd', 'MasVnrType',\n",
       "       'BsmtQual', 'BsmtCond', 'BsmtExposure', 'BsmtFinType1', 'BsmtFinType2',\n",
       "       'Electrical', 'KitchenQual', 'Functional', 'FireplaceQu', 'GarageType',\n",
       "       'GarageFinish', 'GarageQual', 'GarageCond', 'PoolQC', 'Fence',\n",
       "       'MiscFeature', 'SaleType'],\n",
       "      dtype='object')"
      ]
     },
     "execution_count": 25,
     "metadata": {},
     "output_type": "execute_result"
    }
   ],
   "source": [
    "df_obj_non.columns"
   ]
  },
  {
   "cell_type": "code",
   "execution_count": 26,
   "id": "29d475da",
   "metadata": {
    "execution": {
     "iopub.execute_input": "2022-02-05T06:39:34.859104Z",
     "iopub.status.busy": "2022-02-05T06:39:34.858276Z",
     "iopub.status.idle": "2022-02-05T06:39:34.865178Z",
     "shell.execute_reply": "2022-02-05T06:39:34.864543Z",
     "shell.execute_reply.started": "2022-02-05T06:08:15.397260Z"
    },
    "papermill": {
     "duration": 0.080003,
     "end_time": "2022-02-05T06:39:34.865309",
     "exception": false,
     "start_time": "2022-02-05T06:39:34.785306",
     "status": "completed"
    },
    "tags": []
   },
   "outputs": [
    {
     "data": {
      "text/plain": [
       "4"
      ]
     },
     "execution_count": 26,
     "metadata": {},
     "output_type": "execute_result"
    }
   ],
   "source": [
    "df[\"MSZoning\"].isnull().sum()"
   ]
  },
  {
   "cell_type": "code",
   "execution_count": 27,
   "id": "9ea684a7",
   "metadata": {
    "execution": {
     "iopub.execute_input": "2022-02-05T06:39:35.014761Z",
     "iopub.status.busy": "2022-02-05T06:39:35.014085Z",
     "iopub.status.idle": "2022-02-05T06:39:35.017225Z",
     "shell.execute_reply": "2022-02-05T06:39:35.017761Z",
     "shell.execute_reply.started": "2022-02-05T06:08:15.563111Z"
    },
    "papermill": {
     "duration": 0.081996,
     "end_time": "2022-02-05T06:39:35.017927",
     "exception": false,
     "start_time": "2022-02-05T06:39:34.935931",
     "status": "completed"
    },
    "tags": []
   },
   "outputs": [
    {
     "data": {
      "text/plain": [
       "0"
      ]
     },
     "execution_count": 27,
     "metadata": {},
     "output_type": "execute_result"
    }
   ],
   "source": [
    "df[\"MSZoning\"].fillna(df[\"MSZoning\"].mode()[0], inplace=True)\n",
    "df[\"MSZoning\"].isnull().sum()"
   ]
  },
  {
   "cell_type": "code",
   "execution_count": 28,
   "id": "90ea0591",
   "metadata": {
    "execution": {
     "iopub.execute_input": "2022-02-05T06:39:35.170628Z",
     "iopub.status.busy": "2022-02-05T06:39:35.164417Z",
     "iopub.status.idle": "2022-02-05T06:39:35.175349Z",
     "shell.execute_reply": "2022-02-05T06:39:35.174651Z",
     "shell.execute_reply.started": "2022-02-05T06:08:15.895265Z"
    },
    "papermill": {
     "duration": 0.085666,
     "end_time": "2022-02-05T06:39:35.175504",
     "exception": false,
     "start_time": "2022-02-05T06:39:35.089838",
     "status": "completed"
    },
    "tags": []
   },
   "outputs": [
    {
     "data": {
      "text/plain": [
       "0"
      ]
     },
     "execution_count": 28,
     "metadata": {},
     "output_type": "execute_result"
    }
   ],
   "source": [
    "df[\"Electrical\"].fillna(df[\"Electrical\"].mode()[0], inplace=True)\n",
    "df[\"Electrical\"].isnull().sum()"
   ]
  },
  {
   "cell_type": "code",
   "execution_count": 29,
   "id": "d7ea458d",
   "metadata": {
    "execution": {
     "iopub.execute_input": "2022-02-05T06:39:35.328548Z",
     "iopub.status.busy": "2022-02-05T06:39:35.327726Z",
     "iopub.status.idle": "2022-02-05T06:39:35.330607Z",
     "shell.execute_reply": "2022-02-05T06:39:35.331101Z",
     "shell.execute_reply.started": "2022-02-05T06:08:16.009644Z"
    },
    "papermill": {
     "duration": 0.083474,
     "end_time": "2022-02-05T06:39:35.331260",
     "exception": false,
     "start_time": "2022-02-05T06:39:35.247786",
     "status": "completed"
    },
    "tags": []
   },
   "outputs": [
    {
     "data": {
      "text/plain": [
       "0"
      ]
     },
     "execution_count": 29,
     "metadata": {},
     "output_type": "execute_result"
    }
   ],
   "source": [
    "df[\"KitchenQual\"].fillna(df[\"KitchenQual\"].mode()[0], inplace=True)\n",
    "df[\"KitchenQual\"].isnull().sum()"
   ]
  },
  {
   "cell_type": "code",
   "execution_count": 30,
   "id": "7a69b49c",
   "metadata": {
    "execution": {
     "iopub.execute_input": "2022-02-05T06:39:35.482679Z",
     "iopub.status.busy": "2022-02-05T06:39:35.476284Z",
     "iopub.status.idle": "2022-02-05T06:39:35.486023Z",
     "shell.execute_reply": "2022-02-05T06:39:35.486606Z",
     "shell.execute_reply.started": "2022-02-05T06:08:16.181795Z"
    },
    "papermill": {
     "duration": 0.084537,
     "end_time": "2022-02-05T06:39:35.486784",
     "exception": false,
     "start_time": "2022-02-05T06:39:35.402247",
     "status": "completed"
    },
    "tags": []
   },
   "outputs": [
    {
     "data": {
      "text/plain": [
       "0"
      ]
     },
     "execution_count": 30,
     "metadata": {},
     "output_type": "execute_result"
    }
   ],
   "source": [
    "df[\"Functional\"].fillna(df[\"Functional\"].mode()[0], inplace=True)\n",
    "df[\"Functional\"].isnull().sum()"
   ]
  },
  {
   "cell_type": "code",
   "execution_count": 31,
   "id": "85b2000f",
   "metadata": {
    "execution": {
     "iopub.execute_input": "2022-02-05T06:39:35.636106Z",
     "iopub.status.busy": "2022-02-05T06:39:35.635342Z",
     "iopub.status.idle": "2022-02-05T06:39:35.642836Z",
     "shell.execute_reply": "2022-02-05T06:39:35.643440Z",
     "shell.execute_reply.started": "2022-02-05T06:08:16.435331Z"
    },
    "papermill": {
     "duration": 0.083469,
     "end_time": "2022-02-05T06:39:35.643622",
     "exception": false,
     "start_time": "2022-02-05T06:39:35.560153",
     "status": "completed"
    },
    "tags": []
   },
   "outputs": [
    {
     "data": {
      "text/plain": [
       "0"
      ]
     },
     "execution_count": 31,
     "metadata": {},
     "output_type": "execute_result"
    }
   ],
   "source": [
    "df[\"SaleType\"].fillna(df[\"SaleType\"].mode()[0], inplace=True)\n",
    "df[\"SaleType\"].isnull().sum()"
   ]
  },
  {
   "cell_type": "code",
   "execution_count": 32,
   "id": "8bf5f426",
   "metadata": {
    "execution": {
     "iopub.execute_input": "2022-02-05T06:39:35.792358Z",
     "iopub.status.busy": "2022-02-05T06:39:35.791708Z",
     "iopub.status.idle": "2022-02-05T06:39:35.823698Z",
     "shell.execute_reply": "2022-02-05T06:39:35.823089Z",
     "shell.execute_reply.started": "2022-02-05T06:08:16.652029Z"
    },
    "papermill": {
     "duration": 0.107227,
     "end_time": "2022-02-05T06:39:35.823839",
     "exception": false,
     "start_time": "2022-02-05T06:39:35.716612",
     "status": "completed"
    },
    "tags": []
   },
   "outputs": [
    {
     "name": "stdout",
     "output_type": "stream",
     "text": [
      "SalePrice\n"
     ]
    }
   ],
   "source": [
    "l = ()\n",
    "for col in df.columns:\n",
    "    if df[col].isnull().any == True:\n",
    "        l += (col,)\n",
    "print(col)"
   ]
  },
  {
   "cell_type": "code",
   "execution_count": 33,
   "id": "33f43b4e",
   "metadata": {
    "execution": {
     "iopub.execute_input": "2022-02-05T06:39:35.972167Z",
     "iopub.status.busy": "2022-02-05T06:39:35.971501Z",
     "iopub.status.idle": "2022-02-05T06:39:37.229726Z",
     "shell.execute_reply": "2022-02-05T06:39:37.230334Z",
     "shell.execute_reply.started": "2022-02-05T06:08:16.846874Z"
    },
    "papermill": {
     "duration": 1.333883,
     "end_time": "2022-02-05T06:39:37.230492",
     "exception": false,
     "start_time": "2022-02-05T06:39:35.896609",
     "status": "completed"
    },
    "tags": []
   },
   "outputs": [],
   "source": [
    "from sklearn.preprocessing import LabelEncoder\n",
    "lbe = LabelEncoder()"
   ]
  },
  {
   "cell_type": "code",
   "execution_count": 34,
   "id": "2459744b",
   "metadata": {
    "execution": {
     "iopub.execute_input": "2022-02-05T06:39:37.379495Z",
     "iopub.status.busy": "2022-02-05T06:39:37.378700Z",
     "iopub.status.idle": "2022-02-05T06:39:37.477014Z",
     "shell.execute_reply": "2022-02-05T06:39:37.477552Z",
     "shell.execute_reply.started": "2022-02-05T06:08:17.829771Z"
    },
    "papermill": {
     "duration": 0.174707,
     "end_time": "2022-02-05T06:39:37.477729",
     "exception": false,
     "start_time": "2022-02-05T06:39:37.303022",
     "status": "completed"
    },
    "tags": []
   },
   "outputs": [],
   "source": [
    "df[df_cat.columns] = df[df_cat.columns].astype(str).apply(lbe.fit_transform)"
   ]
  },
  {
   "cell_type": "code",
   "execution_count": 35,
   "id": "1d86f4f3",
   "metadata": {
    "execution": {
     "iopub.execute_input": "2022-02-05T06:39:37.629453Z",
     "iopub.status.busy": "2022-02-05T06:39:37.628358Z",
     "iopub.status.idle": "2022-02-05T06:39:37.642865Z",
     "shell.execute_reply": "2022-02-05T06:39:37.642298Z",
     "shell.execute_reply.started": "2022-02-05T06:08:17.915743Z"
    },
    "papermill": {
     "duration": 0.092923,
     "end_time": "2022-02-05T06:39:37.643021",
     "exception": false,
     "start_time": "2022-02-05T06:39:37.550098",
     "status": "completed"
    },
    "tags": []
   },
   "outputs": [],
   "source": [
    "df[[\"BsmtFullBath\",\"BsmtHalfBath\",\"GarageCars\"]] = df[[\"BsmtFullBath\",\"BsmtHalfBath\",\"GarageCars\"]].astype(str).apply(lbe.fit_transform)"
   ]
  },
  {
   "cell_type": "code",
   "execution_count": 36,
   "id": "67af4295",
   "metadata": {
    "execution": {
     "iopub.execute_input": "2022-02-05T06:39:37.794031Z",
     "iopub.status.busy": "2022-02-05T06:39:37.791691Z",
     "iopub.status.idle": "2022-02-05T06:39:37.795700Z",
     "shell.execute_reply": "2022-02-05T06:39:37.796286Z",
     "shell.execute_reply.started": "2022-02-05T06:08:18.382987Z"
    },
    "papermill": {
     "duration": 0.080401,
     "end_time": "2022-02-05T06:39:37.796463",
     "exception": false,
     "start_time": "2022-02-05T06:39:37.716062",
     "status": "completed"
    },
    "tags": []
   },
   "outputs": [],
   "source": [
    "train_fixed = df[:1460]\n",
    "test_fixed = df[1460:]"
   ]
  },
  {
   "cell_type": "code",
   "execution_count": 37,
   "id": "a24c70d1",
   "metadata": {
    "execution": {
     "iopub.execute_input": "2022-02-05T06:39:37.946781Z",
     "iopub.status.busy": "2022-02-05T06:39:37.946150Z",
     "iopub.status.idle": "2022-02-05T06:39:37.953615Z",
     "shell.execute_reply": "2022-02-05T06:39:37.954156Z",
     "shell.execute_reply.started": "2022-02-05T06:08:18.695809Z"
    },
    "papermill": {
     "duration": 0.084331,
     "end_time": "2022-02-05T06:39:37.954321",
     "exception": false,
     "start_time": "2022-02-05T06:39:37.869990",
     "status": "completed"
    },
    "tags": []
   },
   "outputs": [],
   "source": [
    "X_train = train_fixed.drop(\"SalePrice\", axis=1)\n",
    "y_train = train_fixed[\"SalePrice\"]\n",
    "X_test = test_fixed.drop(\"SalePrice\", axis=1)\n",
    "y_test = test_fixed[\"SalePrice\"]"
   ]
  },
  {
   "cell_type": "code",
   "execution_count": 38,
   "id": "aabe542d",
   "metadata": {
    "execution": {
     "iopub.execute_input": "2022-02-05T06:39:38.103587Z",
     "iopub.status.busy": "2022-02-05T06:39:38.102895Z",
     "iopub.status.idle": "2022-02-05T06:39:38.175411Z",
     "shell.execute_reply": "2022-02-05T06:39:38.174725Z",
     "shell.execute_reply.started": "2022-02-05T06:08:19.274201Z"
    },
    "papermill": {
     "duration": 0.149036,
     "end_time": "2022-02-05T06:39:38.175587",
     "exception": false,
     "start_time": "2022-02-05T06:39:38.026551",
     "status": "completed"
    },
    "tags": []
   },
   "outputs": [],
   "source": [
    "from sklearn.model_selection import train_test_split, GridSearchCV, cross_val_score"
   ]
  },
  {
   "cell_type": "code",
   "execution_count": 39,
   "id": "12aac164",
   "metadata": {
    "execution": {
     "iopub.execute_input": "2022-02-05T06:39:38.326092Z",
     "iopub.status.busy": "2022-02-05T06:39:38.324360Z",
     "iopub.status.idle": "2022-02-05T06:39:38.332900Z",
     "shell.execute_reply": "2022-02-05T06:39:38.333392Z",
     "shell.execute_reply.started": "2022-02-05T06:08:19.746185Z"
    },
    "papermill": {
     "duration": 0.084753,
     "end_time": "2022-02-05T06:39:38.333591",
     "exception": false,
     "start_time": "2022-02-05T06:39:38.248838",
     "status": "completed"
    },
    "tags": []
   },
   "outputs": [],
   "source": [
    "a_train, a_test, b_train, b_test = train_test_split(X_train, y_train, test_size=0.25)"
   ]
  },
  {
   "cell_type": "code",
   "execution_count": 40,
   "id": "7e963fd8",
   "metadata": {
    "execution": {
     "iopub.execute_input": "2022-02-05T06:39:38.489897Z",
     "iopub.status.busy": "2022-02-05T06:39:38.489228Z",
     "iopub.status.idle": "2022-02-05T06:39:38.491613Z",
     "shell.execute_reply": "2022-02-05T06:39:38.492096Z",
     "shell.execute_reply.started": "2022-02-05T06:08:20.332056Z"
    },
    "papermill": {
     "duration": 0.085457,
     "end_time": "2022-02-05T06:39:38.492246",
     "exception": false,
     "start_time": "2022-02-05T06:39:38.406789",
     "status": "completed"
    },
    "tags": []
   },
   "outputs": [
    {
     "data": {
      "text/plain": [
       "0"
      ]
     },
     "execution_count": 40,
     "metadata": {},
     "output_type": "execute_result"
    }
   ],
   "source": [
    "X_test[\"BsmtFullBath\"].fillna(X_test[\"BsmtFullBath\"].mode()[0], inplace=True)\n",
    "X_test[\"BsmtFullBath\"].isnull().sum()"
   ]
  },
  {
   "cell_type": "code",
   "execution_count": 41,
   "id": "ffe2fff4",
   "metadata": {
    "execution": {
     "iopub.execute_input": "2022-02-05T06:39:38.642256Z",
     "iopub.status.busy": "2022-02-05T06:39:38.641653Z",
     "iopub.status.idle": "2022-02-05T06:39:38.650311Z",
     "shell.execute_reply": "2022-02-05T06:39:38.650809Z",
     "shell.execute_reply.started": "2022-02-05T06:08:20.532348Z"
    },
    "papermill": {
     "duration": 0.086177,
     "end_time": "2022-02-05T06:39:38.650972",
     "exception": false,
     "start_time": "2022-02-05T06:39:38.564795",
     "status": "completed"
    },
    "tags": []
   },
   "outputs": [
    {
     "data": {
      "text/plain": [
       "0"
      ]
     },
     "execution_count": 41,
     "metadata": {},
     "output_type": "execute_result"
    }
   ],
   "source": [
    "X_test[\"BsmtHalfBath\"].fillna(X_test[\"BsmtHalfBath\"].mode()[0], inplace=True)\n",
    "X_test[\"BsmtHalfBath\"].isnull().sum()"
   ]
  },
  {
   "cell_type": "code",
   "execution_count": 42,
   "id": "26f0e89b",
   "metadata": {
    "execution": {
     "iopub.execute_input": "2022-02-05T06:39:38.801817Z",
     "iopub.status.busy": "2022-02-05T06:39:38.800975Z",
     "iopub.status.idle": "2022-02-05T06:39:38.808006Z",
     "shell.execute_reply": "2022-02-05T06:39:38.808480Z",
     "shell.execute_reply.started": "2022-02-05T06:08:20.715573Z"
    },
    "papermill": {
     "duration": 0.084576,
     "end_time": "2022-02-05T06:39:38.808669",
     "exception": false,
     "start_time": "2022-02-05T06:39:38.724093",
     "status": "completed"
    },
    "tags": []
   },
   "outputs": [
    {
     "data": {
      "text/plain": [
       "0"
      ]
     },
     "execution_count": 42,
     "metadata": {},
     "output_type": "execute_result"
    }
   ],
   "source": [
    "X_test[\"GarageCars\"].fillna(X_test[\"GarageCars\"].mode()[0], inplace=True)\n",
    "X_test[\"GarageCars\"].isnull().sum()"
   ]
  },
  {
   "cell_type": "markdown",
   "id": "b4028101",
   "metadata": {
    "papermill": {
     "duration": 0.074043,
     "end_time": "2022-02-05T06:39:38.957526",
     "exception": false,
     "start_time": "2022-02-05T06:39:38.883483",
     "status": "completed"
    },
    "tags": []
   },
   "source": [
    "# LightGBM"
   ]
  },
  {
   "cell_type": "code",
   "execution_count": 43,
   "id": "8e8af713",
   "metadata": {
    "collapsed": true,
    "execution": {
     "iopub.execute_input": "2022-02-05T06:39:39.118709Z",
     "iopub.status.busy": "2022-02-05T06:39:39.117948Z",
     "iopub.status.idle": "2022-02-05T06:39:50.850873Z",
     "shell.execute_reply": "2022-02-05T06:39:50.850168Z",
     "shell.execute_reply.started": "2022-02-05T06:08:24.832417Z"
    },
    "jupyter": {
     "outputs_hidden": true
    },
    "papermill": {
     "duration": 11.819081,
     "end_time": "2022-02-05T06:39:50.851172",
     "exception": false,
     "start_time": "2022-02-05T06:39:39.032091",
     "status": "completed"
    },
    "tags": []
   },
   "outputs": [
    {
     "name": "stdout",
     "output_type": "stream",
     "text": [
      "Requirement already satisfied: lightgbm in /opt/conda/lib/python3.7/site-packages (3.3.1)\r\n",
      "Requirement already satisfied: scipy in /opt/conda/lib/python3.7/site-packages (from lightgbm) (1.7.3)\r\n",
      "Requirement already satisfied: wheel in /opt/conda/lib/python3.7/site-packages (from lightgbm) (0.37.0)\r\n",
      "Requirement already satisfied: scikit-learn!=0.22.0 in /opt/conda/lib/python3.7/site-packages (from lightgbm) (0.23.2)\r\n",
      "Requirement already satisfied: numpy in /opt/conda/lib/python3.7/site-packages (from lightgbm) (1.20.3)\r\n",
      "Requirement already satisfied: joblib>=0.11 in /opt/conda/lib/python3.7/site-packages (from scikit-learn!=0.22.0->lightgbm) (1.1.0)\r\n",
      "Requirement already satisfied: threadpoolctl>=2.0.0 in /opt/conda/lib/python3.7/site-packages (from scikit-learn!=0.22.0->lightgbm) (3.0.0)\r\n",
      "\u001b[33mWARNING: Running pip as the 'root' user can result in broken permissions and conflicting behaviour with the system package manager. It is recommended to use a virtual environment instead: https://pip.pypa.io/warnings/venv\u001b[0m\r\n"
     ]
    }
   ],
   "source": [
    "!pip install lightgbm"
   ]
  },
  {
   "cell_type": "code",
   "execution_count": 44,
   "id": "dbc8b10c",
   "metadata": {
    "execution": {
     "iopub.execute_input": "2022-02-05T06:39:51.005434Z",
     "iopub.status.busy": "2022-02-05T06:39:51.004850Z",
     "iopub.status.idle": "2022-02-05T06:39:52.060259Z",
     "shell.execute_reply": "2022-02-05T06:39:52.059594Z",
     "shell.execute_reply.started": "2022-02-05T06:08:33.488325Z"
    },
    "papermill": {
     "duration": 1.134271,
     "end_time": "2022-02-05T06:39:52.060411",
     "exception": false,
     "start_time": "2022-02-05T06:39:50.926140",
     "status": "completed"
    },
    "tags": []
   },
   "outputs": [
    {
     "data": {
      "text/html": [
       "<style type='text/css'>\n",
       ".datatable table.frame { margin-bottom: 0; }\n",
       ".datatable table.frame thead { border-bottom: none; }\n",
       ".datatable table.frame tr.coltypes td {  color: #FFFFFF;  line-height: 6px;  padding: 0 0.5em;}\n",
       ".datatable .bool    { background: #DDDD99; }\n",
       ".datatable .object  { background: #565656; }\n",
       ".datatable .int     { background: #5D9E5D; }\n",
       ".datatable .float   { background: #4040CC; }\n",
       ".datatable .str     { background: #CC4040; }\n",
       ".datatable .time    { background: #40CC40; }\n",
       ".datatable .row_index {  background: var(--jp-border-color3);  border-right: 1px solid var(--jp-border-color0);  color: var(--jp-ui-font-color3);  font-size: 9px;}\n",
       ".datatable .frame tbody td { text-align: left; }\n",
       ".datatable .frame tr.coltypes .row_index {  background: var(--jp-border-color0);}\n",
       ".datatable th:nth-child(2) { padding-left: 12px; }\n",
       ".datatable .hellipsis {  color: var(--jp-cell-editor-border-color);}\n",
       ".datatable .vellipsis {  background: var(--jp-layout-color0);  color: var(--jp-cell-editor-border-color);}\n",
       ".datatable .na {  color: var(--jp-cell-editor-border-color);  font-size: 80%;}\n",
       ".datatable .sp {  opacity: 0.25;}\n",
       ".datatable .footer { font-size: 9px; }\n",
       ".datatable .frame_dimensions {  background: var(--jp-border-color3);  border-top: 1px solid var(--jp-border-color0);  color: var(--jp-ui-font-color3);  display: inline-block;  opacity: 0.6;  padding: 1px 10px 1px 5px;}\n",
       "</style>\n"
      ],
      "text/plain": [
       "<IPython.core.display.HTML object>"
      ]
     },
     "metadata": {},
     "output_type": "display_data"
    }
   ],
   "source": [
    "from lightgbm import LGBMRegressor"
   ]
  },
  {
   "cell_type": "code",
   "execution_count": 45,
   "id": "b02df8af",
   "metadata": {
    "execution": {
     "iopub.execute_input": "2022-02-05T06:39:52.221054Z",
     "iopub.status.busy": "2022-02-05T06:39:52.217746Z",
     "iopub.status.idle": "2022-02-05T06:39:52.453589Z",
     "shell.execute_reply": "2022-02-05T06:39:52.454160Z",
     "shell.execute_reply.started": "2022-02-05T06:08:34.326874Z"
    },
    "papermill": {
     "duration": 0.317405,
     "end_time": "2022-02-05T06:39:52.454343",
     "exception": false,
     "start_time": "2022-02-05T06:39:52.136938",
     "status": "completed"
    },
    "tags": []
   },
   "outputs": [],
   "source": [
    "lgbm = LGBMRegressor()\n",
    "lgbm_model = lgbm.fit(a_train,b_train)"
   ]
  },
  {
   "cell_type": "markdown",
   "id": "d4f6fba9",
   "metadata": {
    "papermill": {
     "duration": 0.075577,
     "end_time": "2022-02-05T06:39:52.606750",
     "exception": false,
     "start_time": "2022-02-05T06:39:52.531173",
     "status": "completed"
    },
    "tags": []
   },
   "source": [
    "# Predict"
   ]
  },
  {
   "cell_type": "code",
   "execution_count": 46,
   "id": "7b5c9d1f",
   "metadata": {
    "execution": {
     "iopub.execute_input": "2022-02-05T06:39:52.767349Z",
     "iopub.status.busy": "2022-02-05T06:39:52.766199Z",
     "iopub.status.idle": "2022-02-05T06:39:52.776334Z",
     "shell.execute_reply": "2022-02-05T06:39:52.775726Z",
     "shell.execute_reply.started": "2022-02-05T06:08:39.635720Z"
    },
    "papermill": {
     "duration": 0.09363,
     "end_time": "2022-02-05T06:39:52.776496",
     "exception": false,
     "start_time": "2022-02-05T06:39:52.682866",
     "status": "completed"
    },
    "tags": []
   },
   "outputs": [
    {
     "data": {
      "text/plain": [
       "array([177185.43216758, 176731.92109979, 224961.46101421, 157216.75012161,\n",
       "       228274.04776553])"
      ]
     },
     "execution_count": 46,
     "metadata": {},
     "output_type": "execute_result"
    }
   ],
   "source": [
    "lgbm_model.predict(a_test)[0:5]"
   ]
  },
  {
   "cell_type": "code",
   "execution_count": 47,
   "id": "c9c641ca",
   "metadata": {
    "execution": {
     "iopub.execute_input": "2022-02-05T06:39:52.938245Z",
     "iopub.status.busy": "2022-02-05T06:39:52.934998Z",
     "iopub.status.idle": "2022-02-05T06:39:52.946242Z",
     "shell.execute_reply": "2022-02-05T06:39:52.946810Z",
     "shell.execute_reply.started": "2022-02-05T06:08:41.972589Z"
    },
    "papermill": {
     "duration": 0.092342,
     "end_time": "2022-02-05T06:39:52.946989",
     "exception": false,
     "start_time": "2022-02-05T06:39:52.854647",
     "status": "completed"
    },
    "tags": []
   },
   "outputs": [],
   "source": [
    "b_pred = lgbm_model.predict(a_test)"
   ]
  },
  {
   "cell_type": "code",
   "execution_count": 48,
   "id": "78b39f2d",
   "metadata": {
    "execution": {
     "iopub.execute_input": "2022-02-05T06:39:53.106000Z",
     "iopub.status.busy": "2022-02-05T06:39:53.105315Z",
     "iopub.status.idle": "2022-02-05T06:39:53.108915Z",
     "shell.execute_reply": "2022-02-05T06:39:53.109387Z",
     "shell.execute_reply.started": "2022-02-05T06:08:43.541157Z"
    },
    "papermill": {
     "duration": 0.086228,
     "end_time": "2022-02-05T06:39:53.109605",
     "exception": false,
     "start_time": "2022-02-05T06:39:53.023377",
     "status": "completed"
    },
    "tags": []
   },
   "outputs": [
    {
     "data": {
      "text/plain": [
       "26255.698542435293"
      ]
     },
     "execution_count": 48,
     "metadata": {},
     "output_type": "execute_result"
    }
   ],
   "source": [
    "from sklearn.metrics import mean_squared_error\n",
    "np.sqrt(mean_squared_error(b_test,b_pred))"
   ]
  },
  {
   "cell_type": "markdown",
   "id": "0becd679",
   "metadata": {
    "papermill": {
     "duration": 0.075298,
     "end_time": "2022-02-05T06:39:53.260639",
     "exception": false,
     "start_time": "2022-02-05T06:39:53.185341",
     "status": "completed"
    },
    "tags": []
   },
   "source": [
    "# Model Tuning"
   ]
  },
  {
   "cell_type": "code",
   "execution_count": 49,
   "id": "0d7601d5",
   "metadata": {
    "execution": {
     "iopub.execute_input": "2022-02-05T06:39:53.422004Z",
     "iopub.status.busy": "2022-02-05T06:39:53.421232Z",
     "iopub.status.idle": "2022-02-05T06:39:53.424176Z",
     "shell.execute_reply": "2022-02-05T06:39:53.424718Z",
     "shell.execute_reply.started": "2022-02-05T06:10:24.993199Z"
    },
    "papermill": {
     "duration": 0.087218,
     "end_time": "2022-02-05T06:39:53.424891",
     "exception": false,
     "start_time": "2022-02-05T06:39:53.337673",
     "status": "completed"
    },
    "tags": []
   },
   "outputs": [],
   "source": [
    "lgbm_grid = {\"colsample_bytree\": [0.2,0.4, 0.6, 0.9, 1],\n",
    "              \"max_depth\" : [2,3,4,5,6,7,8],\n",
    "              \"learning_rate\": [0.1, 0.01, 0.5,1],\n",
    "              \"n_estimators\" : [100,200,500,750,1000,2000]}"
   ]
  },
  {
   "cell_type": "code",
   "execution_count": 50,
   "id": "c2cf7882",
   "metadata": {
    "execution": {
     "iopub.execute_input": "2022-02-05T06:39:53.584948Z",
     "iopub.status.busy": "2022-02-05T06:39:53.584053Z",
     "iopub.status.idle": "2022-02-05T06:39:53.586694Z",
     "shell.execute_reply": "2022-02-05T06:39:53.586173Z",
     "shell.execute_reply.started": "2022-02-05T06:10:26.196127Z"
    },
    "papermill": {
     "duration": 0.084948,
     "end_time": "2022-02-05T06:39:53.586828",
     "exception": false,
     "start_time": "2022-02-05T06:39:53.501880",
     "status": "completed"
    },
    "tags": []
   },
   "outputs": [],
   "source": [
    "lgbm = LGBMRegressor()"
   ]
  },
  {
   "cell_type": "code",
   "execution_count": 51,
   "id": "388a9f3c",
   "metadata": {
    "execution": {
     "iopub.execute_input": "2022-02-05T06:39:53.743677Z",
     "iopub.status.busy": "2022-02-05T06:39:53.742802Z",
     "iopub.status.idle": "2022-02-05T06:39:53.746866Z",
     "shell.execute_reply": "2022-02-05T06:39:53.747324Z",
     "shell.execute_reply.started": "2022-02-05T06:10:29.713239Z"
    },
    "papermill": {
     "duration": 0.083487,
     "end_time": "2022-02-05T06:39:53.747483",
     "exception": false,
     "start_time": "2022-02-05T06:39:53.663996",
     "status": "completed"
    },
    "tags": []
   },
   "outputs": [],
   "source": [
    "lgbm_cv_model = GridSearchCV(lgbm, lgbm_grid, cv=10, n_jobs=-1, verbose=2)"
   ]
  },
  {
   "cell_type": "code",
   "execution_count": 52,
   "id": "156767db",
   "metadata": {
    "collapsed": true,
    "execution": {
     "iopub.execute_input": "2022-02-05T06:39:53.903459Z",
     "iopub.status.busy": "2022-02-05T06:39:53.902794Z",
     "iopub.status.idle": "2022-02-05T06:39:53.906469Z",
     "shell.execute_reply": "2022-02-05T06:39:53.907015Z",
     "shell.execute_reply.started": "2022-02-05T06:10:30.873181Z"
    },
    "jupyter": {
     "outputs_hidden": true
    },
    "papermill": {
     "duration": 0.083524,
     "end_time": "2022-02-05T06:39:53.907193",
     "exception": false,
     "start_time": "2022-02-05T06:39:53.823669",
     "status": "completed"
    },
    "tags": []
   },
   "outputs": [],
   "source": [
    "#lgbm_cv_model.fit(a_train,b_train)"
   ]
  },
  {
   "cell_type": "code",
   "execution_count": 53,
   "id": "9e27dfba",
   "metadata": {
    "execution": {
     "iopub.execute_input": "2022-02-05T06:39:54.077676Z",
     "iopub.status.busy": "2022-02-05T06:39:54.077016Z",
     "iopub.status.idle": "2022-02-05T06:39:54.080491Z",
     "shell.execute_reply": "2022-02-05T06:39:54.079921Z",
     "shell.execute_reply.started": "2022-02-05T06:38:29.900775Z"
    },
    "papermill": {
     "duration": 0.095178,
     "end_time": "2022-02-05T06:39:54.080658",
     "exception": false,
     "start_time": "2022-02-05T06:39:53.985480",
     "status": "completed"
    },
    "tags": []
   },
   "outputs": [],
   "source": [
    "# lgbm_cv_model.best_params_\n",
    "# output is:\n",
    "#{'colsample_bytree': 0.2,\n",
    "# 'learning_rate': 0.1,\n",
    "# 'max_depth': 3,\n",
    "# 'n_estimators': 2000}"
   ]
  },
  {
   "cell_type": "code",
   "execution_count": 54,
   "id": "d79535fa",
   "metadata": {
    "execution": {
     "iopub.execute_input": "2022-02-05T06:39:54.254194Z",
     "iopub.status.busy": "2022-02-05T06:39:54.253412Z",
     "iopub.status.idle": "2022-02-05T06:39:54.258025Z",
     "shell.execute_reply": "2022-02-05T06:39:54.258716Z",
     "shell.execute_reply.started": "2022-02-05T06:35:13.476553Z"
    },
    "papermill": {
     "duration": 0.095729,
     "end_time": "2022-02-05T06:39:54.258911",
     "exception": false,
     "start_time": "2022-02-05T06:39:54.163182",
     "status": "completed"
    },
    "tags": []
   },
   "outputs": [],
   "source": [
    "lgbm_tuned = LGBMRegressor(max_depth = 3,\n",
    "                         learning_rate = 0.1,\n",
    "                         n_estimators = 2000,\n",
    "                         colsample_bytree = 0.2)"
   ]
  },
  {
   "cell_type": "code",
   "execution_count": 55,
   "id": "17dd0b33",
   "metadata": {
    "execution": {
     "iopub.execute_input": "2022-02-05T06:39:54.433281Z",
     "iopub.status.busy": "2022-02-05T06:39:54.432616Z",
     "iopub.status.idle": "2022-02-05T06:39:55.557029Z",
     "shell.execute_reply": "2022-02-05T06:39:55.556434Z",
     "shell.execute_reply.started": "2022-02-05T06:35:42.710476Z"
    },
    "papermill": {
     "duration": 1.213699,
     "end_time": "2022-02-05T06:39:55.557177",
     "exception": false,
     "start_time": "2022-02-05T06:39:54.343478",
     "status": "completed"
    },
    "tags": []
   },
   "outputs": [
    {
     "data": {
      "text/plain": [
       "LGBMRegressor(colsample_bytree=0.2, max_depth=3, n_estimators=2000)"
      ]
     },
     "execution_count": 55,
     "metadata": {},
     "output_type": "execute_result"
    }
   ],
   "source": [
    "lgbm_tuned.fit(a_train, b_train)"
   ]
  },
  {
   "cell_type": "code",
   "execution_count": 56,
   "id": "cf5a6a3d",
   "metadata": {
    "execution": {
     "iopub.execute_input": "2022-02-05T06:39:55.720448Z",
     "iopub.status.busy": "2022-02-05T06:39:55.719790Z",
     "iopub.status.idle": "2022-02-05T06:39:55.737653Z",
     "shell.execute_reply": "2022-02-05T06:39:55.738232Z",
     "shell.execute_reply.started": "2022-02-05T06:35:50.086833Z"
    },
    "papermill": {
     "duration": 0.101788,
     "end_time": "2022-02-05T06:39:55.738413",
     "exception": false,
     "start_time": "2022-02-05T06:39:55.636625",
     "status": "completed"
    },
    "tags": []
   },
   "outputs": [],
   "source": [
    "b_pred = lgbm_tuned.predict(a_test)"
   ]
  },
  {
   "cell_type": "code",
   "execution_count": 57,
   "id": "6660dd43",
   "metadata": {
    "execution": {
     "iopub.execute_input": "2022-02-05T06:39:55.903246Z",
     "iopub.status.busy": "2022-02-05T06:39:55.902606Z",
     "iopub.status.idle": "2022-02-05T06:39:55.905004Z",
     "shell.execute_reply": "2022-02-05T06:39:55.905493Z",
     "shell.execute_reply.started": "2022-02-05T06:35:51.679803Z"
    },
    "papermill": {
     "duration": 0.087164,
     "end_time": "2022-02-05T06:39:55.905663",
     "exception": false,
     "start_time": "2022-02-05T06:39:55.818499",
     "status": "completed"
    },
    "tags": []
   },
   "outputs": [
    {
     "data": {
      "text/plain": [
       "25807.39009005675"
      ]
     },
     "execution_count": 57,
     "metadata": {},
     "output_type": "execute_result"
    }
   ],
   "source": [
    "np.sqrt(mean_squared_error(b_test,b_pred))"
   ]
  },
  {
   "cell_type": "code",
   "execution_count": 58,
   "id": "bbf1a101",
   "metadata": {
    "execution": {
     "iopub.execute_input": "2022-02-05T06:39:56.069702Z",
     "iopub.status.busy": "2022-02-05T06:39:56.069006Z",
     "iopub.status.idle": "2022-02-05T06:39:56.121229Z",
     "shell.execute_reply": "2022-02-05T06:39:56.121846Z",
     "shell.execute_reply.started": "2022-02-05T06:36:02.132723Z"
    },
    "papermill": {
     "duration": 0.136478,
     "end_time": "2022-02-05T06:39:56.122038",
     "exception": false,
     "start_time": "2022-02-05T06:39:55.985560",
     "status": "completed"
    },
    "tags": []
   },
   "outputs": [],
   "source": [
    "y_pred = lgbm_tuned.predict(X_test)"
   ]
  },
  {
   "cell_type": "code",
   "execution_count": 59,
   "id": "4a1b52fa",
   "metadata": {
    "execution": {
     "iopub.execute_input": "2022-02-05T06:39:56.285736Z",
     "iopub.status.busy": "2022-02-05T06:39:56.285028Z",
     "iopub.status.idle": "2022-02-05T06:39:56.295488Z",
     "shell.execute_reply": "2022-02-05T06:39:56.296050Z",
     "shell.execute_reply.started": "2022-02-05T06:36:06.130413Z"
    },
    "papermill": {
     "duration": 0.094539,
     "end_time": "2022-02-05T06:39:56.296215",
     "exception": false,
     "start_time": "2022-02-05T06:39:56.201676",
     "status": "completed"
    },
    "tags": []
   },
   "outputs": [],
   "source": [
    "output = pd.DataFrame({'Id': test.index,\n",
    "                       'SalePrice': y_pred})\n",
    "output.to_csv('submission.csv', index=False)"
   ]
  },
  {
   "cell_type": "code",
   "execution_count": null,
   "id": "18ddbc71",
   "metadata": {
    "papermill": {
     "duration": 0.079334,
     "end_time": "2022-02-05T06:39:56.457073",
     "exception": false,
     "start_time": "2022-02-05T06:39:56.377739",
     "status": "completed"
    },
    "tags": []
   },
   "outputs": [],
   "source": []
  }
 ],
 "metadata": {
  "kernelspec": {
   "display_name": "Python 3",
   "language": "python",
   "name": "python3"
  },
  "language_info": {
   "codemirror_mode": {
    "name": "ipython",
    "version": 3
   },
   "file_extension": ".py",
   "mimetype": "text/x-python",
   "name": "python",
   "nbconvert_exporter": "python",
   "pygments_lexer": "ipython3",
   "version": "3.7.12"
  },
  "papermill": {
   "default_parameters": {},
   "duration": 38.495739,
   "end_time": "2022-02-05T06:39:57.545621",
   "environment_variables": {},
   "exception": null,
   "input_path": "__notebook__.ipynb",
   "output_path": "__notebook__.ipynb",
   "parameters": {},
   "start_time": "2022-02-05T06:39:19.049882",
   "version": "2.3.3"
  }
 },
 "nbformat": 4,
 "nbformat_minor": 5
}
