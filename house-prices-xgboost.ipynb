{
 "cells": [
  {
   "cell_type": "code",
   "execution_count": 1,
   "id": "d0731ea5",
   "metadata": {
    "_cell_guid": "b1076dfc-b9ad-4769-8c92-a6c4dae69d19",
    "_uuid": "8f2839f25d086af736a60e9eeb907d3b93b6e0e5",
    "execution": {
     "iopub.execute_input": "2022-02-04T17:36:05.364509Z",
     "iopub.status.busy": "2022-02-04T17:36:05.363702Z",
     "iopub.status.idle": "2022-02-04T17:36:05.378340Z",
     "shell.execute_reply": "2022-02-04T17:36:05.378991Z",
     "shell.execute_reply.started": "2022-02-04T13:01:10.672421Z"
    },
    "papermill": {
     "duration": 0.056101,
     "end_time": "2022-02-04T17:36:05.379408",
     "exception": false,
     "start_time": "2022-02-04T17:36:05.323307",
     "status": "completed"
    },
    "tags": []
   },
   "outputs": [
    {
     "name": "stdout",
     "output_type": "stream",
     "text": [
      "/kaggle/input/house-prices-advanced-regression-techniques/sample_submission.csv\n",
      "/kaggle/input/house-prices-advanced-regression-techniques/data_description.txt\n",
      "/kaggle/input/house-prices-advanced-regression-techniques/train.csv\n",
      "/kaggle/input/house-prices-advanced-regression-techniques/test.csv\n"
     ]
    }
   ],
   "source": [
    "# This Python 3 environment comes with many helpful analytics libraries installed\n",
    "# It is defined by the kaggle/python Docker image: https://github.com/kaggle/docker-python\n",
    "# For example, here's several helpful packages to load\n",
    "\n",
    "import numpy as np # linear algebra\n",
    "import pandas as pd # data processing, CSV file I/O (e.g. pd.read_csv)\n",
    "\n",
    "# Input data files are available in the read-only \"../input/\" directory\n",
    "# For example, running this (by clicking run or pressing Shift+Enter) will list all files under the input directory\n",
    "\n",
    "import os\n",
    "for dirname, _, filenames in os.walk('/kaggle/input'):\n",
    "    for filename in filenames:\n",
    "        print(os.path.join(dirname, filename))\n",
    "\n",
    "# You can write up to 20GB to the current directory (/kaggle/working/) that gets preserved as output when you create a version using \"Save & Run All\" \n",
    "# You can also write temporary files to /kaggle/temp/, but they won't be saved outside of the current session"
   ]
  },
  {
   "cell_type": "code",
   "execution_count": 2,
   "id": "cc60864b",
   "metadata": {
    "execution": {
     "iopub.execute_input": "2022-02-04T17:36:05.459790Z",
     "iopub.status.busy": "2022-02-04T17:36:05.459256Z",
     "iopub.status.idle": "2022-02-04T17:36:05.580169Z",
     "shell.execute_reply": "2022-02-04T17:36:05.580681Z",
     "shell.execute_reply.started": "2022-02-04T13:01:11.798900Z"
    },
    "papermill": {
     "duration": 0.163095,
     "end_time": "2022-02-04T17:36:05.580855",
     "exception": false,
     "start_time": "2022-02-04T17:36:05.417760",
     "status": "completed"
    },
    "tags": []
   },
   "outputs": [
    {
     "data": {
      "text/html": [
       "<div>\n",
       "<style scoped>\n",
       "    .dataframe tbody tr th:only-of-type {\n",
       "        vertical-align: middle;\n",
       "    }\n",
       "\n",
       "    .dataframe tbody tr th {\n",
       "        vertical-align: top;\n",
       "    }\n",
       "\n",
       "    .dataframe thead th {\n",
       "        text-align: right;\n",
       "    }\n",
       "</style>\n",
       "<table border=\"1\" class=\"dataframe\">\n",
       "  <thead>\n",
       "    <tr style=\"text-align: right;\">\n",
       "      <th></th>\n",
       "      <th>Id</th>\n",
       "      <th>MSSubClass</th>\n",
       "      <th>MSZoning</th>\n",
       "      <th>LotFrontage</th>\n",
       "      <th>LotArea</th>\n",
       "      <th>Street</th>\n",
       "      <th>Alley</th>\n",
       "      <th>LotShape</th>\n",
       "      <th>LandContour</th>\n",
       "      <th>Utilities</th>\n",
       "      <th>...</th>\n",
       "      <th>PoolArea</th>\n",
       "      <th>PoolQC</th>\n",
       "      <th>Fence</th>\n",
       "      <th>MiscFeature</th>\n",
       "      <th>MiscVal</th>\n",
       "      <th>MoSold</th>\n",
       "      <th>YrSold</th>\n",
       "      <th>SaleType</th>\n",
       "      <th>SaleCondition</th>\n",
       "      <th>SalePrice</th>\n",
       "    </tr>\n",
       "  </thead>\n",
       "  <tbody>\n",
       "    <tr>\n",
       "      <th>0</th>\n",
       "      <td>1</td>\n",
       "      <td>60</td>\n",
       "      <td>RL</td>\n",
       "      <td>65.0</td>\n",
       "      <td>8450</td>\n",
       "      <td>Pave</td>\n",
       "      <td>NaN</td>\n",
       "      <td>Reg</td>\n",
       "      <td>Lvl</td>\n",
       "      <td>AllPub</td>\n",
       "      <td>...</td>\n",
       "      <td>0</td>\n",
       "      <td>NaN</td>\n",
       "      <td>NaN</td>\n",
       "      <td>NaN</td>\n",
       "      <td>0</td>\n",
       "      <td>2</td>\n",
       "      <td>2008</td>\n",
       "      <td>WD</td>\n",
       "      <td>Normal</td>\n",
       "      <td>208500.0</td>\n",
       "    </tr>\n",
       "    <tr>\n",
       "      <th>1</th>\n",
       "      <td>2</td>\n",
       "      <td>20</td>\n",
       "      <td>RL</td>\n",
       "      <td>80.0</td>\n",
       "      <td>9600</td>\n",
       "      <td>Pave</td>\n",
       "      <td>NaN</td>\n",
       "      <td>Reg</td>\n",
       "      <td>Lvl</td>\n",
       "      <td>AllPub</td>\n",
       "      <td>...</td>\n",
       "      <td>0</td>\n",
       "      <td>NaN</td>\n",
       "      <td>NaN</td>\n",
       "      <td>NaN</td>\n",
       "      <td>0</td>\n",
       "      <td>5</td>\n",
       "      <td>2007</td>\n",
       "      <td>WD</td>\n",
       "      <td>Normal</td>\n",
       "      <td>181500.0</td>\n",
       "    </tr>\n",
       "    <tr>\n",
       "      <th>2</th>\n",
       "      <td>3</td>\n",
       "      <td>60</td>\n",
       "      <td>RL</td>\n",
       "      <td>68.0</td>\n",
       "      <td>11250</td>\n",
       "      <td>Pave</td>\n",
       "      <td>NaN</td>\n",
       "      <td>IR1</td>\n",
       "      <td>Lvl</td>\n",
       "      <td>AllPub</td>\n",
       "      <td>...</td>\n",
       "      <td>0</td>\n",
       "      <td>NaN</td>\n",
       "      <td>NaN</td>\n",
       "      <td>NaN</td>\n",
       "      <td>0</td>\n",
       "      <td>9</td>\n",
       "      <td>2008</td>\n",
       "      <td>WD</td>\n",
       "      <td>Normal</td>\n",
       "      <td>223500.0</td>\n",
       "    </tr>\n",
       "    <tr>\n",
       "      <th>3</th>\n",
       "      <td>4</td>\n",
       "      <td>70</td>\n",
       "      <td>RL</td>\n",
       "      <td>60.0</td>\n",
       "      <td>9550</td>\n",
       "      <td>Pave</td>\n",
       "      <td>NaN</td>\n",
       "      <td>IR1</td>\n",
       "      <td>Lvl</td>\n",
       "      <td>AllPub</td>\n",
       "      <td>...</td>\n",
       "      <td>0</td>\n",
       "      <td>NaN</td>\n",
       "      <td>NaN</td>\n",
       "      <td>NaN</td>\n",
       "      <td>0</td>\n",
       "      <td>2</td>\n",
       "      <td>2006</td>\n",
       "      <td>WD</td>\n",
       "      <td>Abnorml</td>\n",
       "      <td>140000.0</td>\n",
       "    </tr>\n",
       "    <tr>\n",
       "      <th>4</th>\n",
       "      <td>5</td>\n",
       "      <td>60</td>\n",
       "      <td>RL</td>\n",
       "      <td>84.0</td>\n",
       "      <td>14260</td>\n",
       "      <td>Pave</td>\n",
       "      <td>NaN</td>\n",
       "      <td>IR1</td>\n",
       "      <td>Lvl</td>\n",
       "      <td>AllPub</td>\n",
       "      <td>...</td>\n",
       "      <td>0</td>\n",
       "      <td>NaN</td>\n",
       "      <td>NaN</td>\n",
       "      <td>NaN</td>\n",
       "      <td>0</td>\n",
       "      <td>12</td>\n",
       "      <td>2008</td>\n",
       "      <td>WD</td>\n",
       "      <td>Normal</td>\n",
       "      <td>250000.0</td>\n",
       "    </tr>\n",
       "    <tr>\n",
       "      <th>...</th>\n",
       "      <td>...</td>\n",
       "      <td>...</td>\n",
       "      <td>...</td>\n",
       "      <td>...</td>\n",
       "      <td>...</td>\n",
       "      <td>...</td>\n",
       "      <td>...</td>\n",
       "      <td>...</td>\n",
       "      <td>...</td>\n",
       "      <td>...</td>\n",
       "      <td>...</td>\n",
       "      <td>...</td>\n",
       "      <td>...</td>\n",
       "      <td>...</td>\n",
       "      <td>...</td>\n",
       "      <td>...</td>\n",
       "      <td>...</td>\n",
       "      <td>...</td>\n",
       "      <td>...</td>\n",
       "      <td>...</td>\n",
       "      <td>...</td>\n",
       "    </tr>\n",
       "    <tr>\n",
       "      <th>1454</th>\n",
       "      <td>2915</td>\n",
       "      <td>160</td>\n",
       "      <td>RM</td>\n",
       "      <td>21.0</td>\n",
       "      <td>1936</td>\n",
       "      <td>Pave</td>\n",
       "      <td>NaN</td>\n",
       "      <td>Reg</td>\n",
       "      <td>Lvl</td>\n",
       "      <td>AllPub</td>\n",
       "      <td>...</td>\n",
       "      <td>0</td>\n",
       "      <td>NaN</td>\n",
       "      <td>NaN</td>\n",
       "      <td>NaN</td>\n",
       "      <td>0</td>\n",
       "      <td>6</td>\n",
       "      <td>2006</td>\n",
       "      <td>WD</td>\n",
       "      <td>Normal</td>\n",
       "      <td>NaN</td>\n",
       "    </tr>\n",
       "    <tr>\n",
       "      <th>1455</th>\n",
       "      <td>2916</td>\n",
       "      <td>160</td>\n",
       "      <td>RM</td>\n",
       "      <td>21.0</td>\n",
       "      <td>1894</td>\n",
       "      <td>Pave</td>\n",
       "      <td>NaN</td>\n",
       "      <td>Reg</td>\n",
       "      <td>Lvl</td>\n",
       "      <td>AllPub</td>\n",
       "      <td>...</td>\n",
       "      <td>0</td>\n",
       "      <td>NaN</td>\n",
       "      <td>NaN</td>\n",
       "      <td>NaN</td>\n",
       "      <td>0</td>\n",
       "      <td>4</td>\n",
       "      <td>2006</td>\n",
       "      <td>WD</td>\n",
       "      <td>Abnorml</td>\n",
       "      <td>NaN</td>\n",
       "    </tr>\n",
       "    <tr>\n",
       "      <th>1456</th>\n",
       "      <td>2917</td>\n",
       "      <td>20</td>\n",
       "      <td>RL</td>\n",
       "      <td>160.0</td>\n",
       "      <td>20000</td>\n",
       "      <td>Pave</td>\n",
       "      <td>NaN</td>\n",
       "      <td>Reg</td>\n",
       "      <td>Lvl</td>\n",
       "      <td>AllPub</td>\n",
       "      <td>...</td>\n",
       "      <td>0</td>\n",
       "      <td>NaN</td>\n",
       "      <td>NaN</td>\n",
       "      <td>NaN</td>\n",
       "      <td>0</td>\n",
       "      <td>9</td>\n",
       "      <td>2006</td>\n",
       "      <td>WD</td>\n",
       "      <td>Abnorml</td>\n",
       "      <td>NaN</td>\n",
       "    </tr>\n",
       "    <tr>\n",
       "      <th>1457</th>\n",
       "      <td>2918</td>\n",
       "      <td>85</td>\n",
       "      <td>RL</td>\n",
       "      <td>62.0</td>\n",
       "      <td>10441</td>\n",
       "      <td>Pave</td>\n",
       "      <td>NaN</td>\n",
       "      <td>Reg</td>\n",
       "      <td>Lvl</td>\n",
       "      <td>AllPub</td>\n",
       "      <td>...</td>\n",
       "      <td>0</td>\n",
       "      <td>NaN</td>\n",
       "      <td>MnPrv</td>\n",
       "      <td>Shed</td>\n",
       "      <td>700</td>\n",
       "      <td>7</td>\n",
       "      <td>2006</td>\n",
       "      <td>WD</td>\n",
       "      <td>Normal</td>\n",
       "      <td>NaN</td>\n",
       "    </tr>\n",
       "    <tr>\n",
       "      <th>1458</th>\n",
       "      <td>2919</td>\n",
       "      <td>60</td>\n",
       "      <td>RL</td>\n",
       "      <td>74.0</td>\n",
       "      <td>9627</td>\n",
       "      <td>Pave</td>\n",
       "      <td>NaN</td>\n",
       "      <td>Reg</td>\n",
       "      <td>Lvl</td>\n",
       "      <td>AllPub</td>\n",
       "      <td>...</td>\n",
       "      <td>0</td>\n",
       "      <td>NaN</td>\n",
       "      <td>NaN</td>\n",
       "      <td>NaN</td>\n",
       "      <td>0</td>\n",
       "      <td>11</td>\n",
       "      <td>2006</td>\n",
       "      <td>WD</td>\n",
       "      <td>Normal</td>\n",
       "      <td>NaN</td>\n",
       "    </tr>\n",
       "  </tbody>\n",
       "</table>\n",
       "<p>2919 rows × 81 columns</p>\n",
       "</div>"
      ],
      "text/plain": [
       "        Id  MSSubClass MSZoning  LotFrontage  LotArea Street Alley LotShape  \\\n",
       "0        1          60       RL         65.0     8450   Pave   NaN      Reg   \n",
       "1        2          20       RL         80.0     9600   Pave   NaN      Reg   \n",
       "2        3          60       RL         68.0    11250   Pave   NaN      IR1   \n",
       "3        4          70       RL         60.0     9550   Pave   NaN      IR1   \n",
       "4        5          60       RL         84.0    14260   Pave   NaN      IR1   \n",
       "...    ...         ...      ...          ...      ...    ...   ...      ...   \n",
       "1454  2915         160       RM         21.0     1936   Pave   NaN      Reg   \n",
       "1455  2916         160       RM         21.0     1894   Pave   NaN      Reg   \n",
       "1456  2917          20       RL        160.0    20000   Pave   NaN      Reg   \n",
       "1457  2918          85       RL         62.0    10441   Pave   NaN      Reg   \n",
       "1458  2919          60       RL         74.0     9627   Pave   NaN      Reg   \n",
       "\n",
       "     LandContour Utilities  ... PoolArea PoolQC  Fence MiscFeature MiscVal  \\\n",
       "0            Lvl    AllPub  ...        0    NaN    NaN         NaN       0   \n",
       "1            Lvl    AllPub  ...        0    NaN    NaN         NaN       0   \n",
       "2            Lvl    AllPub  ...        0    NaN    NaN         NaN       0   \n",
       "3            Lvl    AllPub  ...        0    NaN    NaN         NaN       0   \n",
       "4            Lvl    AllPub  ...        0    NaN    NaN         NaN       0   \n",
       "...          ...       ...  ...      ...    ...    ...         ...     ...   \n",
       "1454         Lvl    AllPub  ...        0    NaN    NaN         NaN       0   \n",
       "1455         Lvl    AllPub  ...        0    NaN    NaN         NaN       0   \n",
       "1456         Lvl    AllPub  ...        0    NaN    NaN         NaN       0   \n",
       "1457         Lvl    AllPub  ...        0    NaN  MnPrv        Shed     700   \n",
       "1458         Lvl    AllPub  ...        0    NaN    NaN         NaN       0   \n",
       "\n",
       "     MoSold YrSold  SaleType  SaleCondition  SalePrice  \n",
       "0         2   2008        WD         Normal   208500.0  \n",
       "1         5   2007        WD         Normal   181500.0  \n",
       "2         9   2008        WD         Normal   223500.0  \n",
       "3         2   2006        WD        Abnorml   140000.0  \n",
       "4        12   2008        WD         Normal   250000.0  \n",
       "...     ...    ...       ...            ...        ...  \n",
       "1454      6   2006        WD         Normal        NaN  \n",
       "1455      4   2006        WD        Abnorml        NaN  \n",
       "1456      9   2006        WD        Abnorml        NaN  \n",
       "1457      7   2006        WD         Normal        NaN  \n",
       "1458     11   2006        WD         Normal        NaN  \n",
       "\n",
       "[2919 rows x 81 columns]"
      ]
     },
     "execution_count": 2,
     "metadata": {},
     "output_type": "execute_result"
    }
   ],
   "source": [
    "train = pd.read_csv(\"../input/house-prices-advanced-regression-techniques/train.csv\")\n",
    "test = pd.read_csv(\"../input/house-prices-advanced-regression-techniques/test.csv\")\n",
    "df = train.append(test)\n",
    "df"
   ]
  },
  {
   "cell_type": "code",
   "execution_count": 3,
   "id": "6ec82c3b",
   "metadata": {
    "execution": {
     "iopub.execute_input": "2022-02-04T17:36:05.708268Z",
     "iopub.status.busy": "2022-02-04T17:36:05.707424Z",
     "iopub.status.idle": "2022-02-04T17:36:05.726390Z",
     "shell.execute_reply": "2022-02-04T17:36:05.726909Z",
     "shell.execute_reply.started": "2022-02-04T13:01:11.936966Z"
    },
    "papermill": {
     "duration": 0.084511,
     "end_time": "2022-02-04T17:36:05.727071",
     "exception": false,
     "start_time": "2022-02-04T17:36:05.642560",
     "status": "completed"
    },
    "tags": []
   },
   "outputs": [],
   "source": [
    "df.index = df[\"Id\"]\n",
    "df = df.drop(\"Id\", axis=1)\n",
    "\n",
    "train.index = train[\"Id\"]\n",
    "train = train.drop(\"Id\", axis=1)\n",
    "\n",
    "test.index = test[\"Id\"]\n",
    "test = test.drop(\"Id\", axis=1)"
   ]
  },
  {
   "cell_type": "code",
   "execution_count": 4,
   "id": "966b0c8f",
   "metadata": {
    "execution": {
     "iopub.execute_input": "2022-02-04T17:36:05.853741Z",
     "iopub.status.busy": "2022-02-04T17:36:05.853118Z",
     "iopub.status.idle": "2022-02-04T17:36:05.880342Z",
     "shell.execute_reply": "2022-02-04T17:36:05.879717Z",
     "shell.execute_reply.started": "2022-02-04T13:01:12.104535Z"
    },
    "papermill": {
     "duration": 0.090823,
     "end_time": "2022-02-04T17:36:05.880487",
     "exception": false,
     "start_time": "2022-02-04T17:36:05.789664",
     "status": "completed"
    },
    "tags": []
   },
   "outputs": [
    {
     "data": {
      "text/html": [
       "<div>\n",
       "<style scoped>\n",
       "    .dataframe tbody tr th:only-of-type {\n",
       "        vertical-align: middle;\n",
       "    }\n",
       "\n",
       "    .dataframe tbody tr th {\n",
       "        vertical-align: top;\n",
       "    }\n",
       "\n",
       "    .dataframe thead th {\n",
       "        text-align: right;\n",
       "    }\n",
       "</style>\n",
       "<table border=\"1\" class=\"dataframe\">\n",
       "  <thead>\n",
       "    <tr style=\"text-align: right;\">\n",
       "      <th></th>\n",
       "      <th>MSSubClass</th>\n",
       "      <th>MSZoning</th>\n",
       "      <th>LotFrontage</th>\n",
       "      <th>LotArea</th>\n",
       "      <th>Street</th>\n",
       "      <th>Alley</th>\n",
       "      <th>LotShape</th>\n",
       "      <th>LandContour</th>\n",
       "      <th>Utilities</th>\n",
       "      <th>LotConfig</th>\n",
       "      <th>...</th>\n",
       "      <th>PoolArea</th>\n",
       "      <th>PoolQC</th>\n",
       "      <th>Fence</th>\n",
       "      <th>MiscFeature</th>\n",
       "      <th>MiscVal</th>\n",
       "      <th>MoSold</th>\n",
       "      <th>YrSold</th>\n",
       "      <th>SaleType</th>\n",
       "      <th>SaleCondition</th>\n",
       "      <th>SalePrice</th>\n",
       "    </tr>\n",
       "    <tr>\n",
       "      <th>Id</th>\n",
       "      <th></th>\n",
       "      <th></th>\n",
       "      <th></th>\n",
       "      <th></th>\n",
       "      <th></th>\n",
       "      <th></th>\n",
       "      <th></th>\n",
       "      <th></th>\n",
       "      <th></th>\n",
       "      <th></th>\n",
       "      <th></th>\n",
       "      <th></th>\n",
       "      <th></th>\n",
       "      <th></th>\n",
       "      <th></th>\n",
       "      <th></th>\n",
       "      <th></th>\n",
       "      <th></th>\n",
       "      <th></th>\n",
       "      <th></th>\n",
       "      <th></th>\n",
       "    </tr>\n",
       "  </thead>\n",
       "  <tbody>\n",
       "    <tr>\n",
       "      <th>1</th>\n",
       "      <td>60</td>\n",
       "      <td>RL</td>\n",
       "      <td>65.0</td>\n",
       "      <td>8450</td>\n",
       "      <td>Pave</td>\n",
       "      <td>NaN</td>\n",
       "      <td>Reg</td>\n",
       "      <td>Lvl</td>\n",
       "      <td>AllPub</td>\n",
       "      <td>Inside</td>\n",
       "      <td>...</td>\n",
       "      <td>0</td>\n",
       "      <td>NaN</td>\n",
       "      <td>NaN</td>\n",
       "      <td>NaN</td>\n",
       "      <td>0</td>\n",
       "      <td>2</td>\n",
       "      <td>2008</td>\n",
       "      <td>WD</td>\n",
       "      <td>Normal</td>\n",
       "      <td>208500.0</td>\n",
       "    </tr>\n",
       "    <tr>\n",
       "      <th>2</th>\n",
       "      <td>20</td>\n",
       "      <td>RL</td>\n",
       "      <td>80.0</td>\n",
       "      <td>9600</td>\n",
       "      <td>Pave</td>\n",
       "      <td>NaN</td>\n",
       "      <td>Reg</td>\n",
       "      <td>Lvl</td>\n",
       "      <td>AllPub</td>\n",
       "      <td>FR2</td>\n",
       "      <td>...</td>\n",
       "      <td>0</td>\n",
       "      <td>NaN</td>\n",
       "      <td>NaN</td>\n",
       "      <td>NaN</td>\n",
       "      <td>0</td>\n",
       "      <td>5</td>\n",
       "      <td>2007</td>\n",
       "      <td>WD</td>\n",
       "      <td>Normal</td>\n",
       "      <td>181500.0</td>\n",
       "    </tr>\n",
       "    <tr>\n",
       "      <th>3</th>\n",
       "      <td>60</td>\n",
       "      <td>RL</td>\n",
       "      <td>68.0</td>\n",
       "      <td>11250</td>\n",
       "      <td>Pave</td>\n",
       "      <td>NaN</td>\n",
       "      <td>IR1</td>\n",
       "      <td>Lvl</td>\n",
       "      <td>AllPub</td>\n",
       "      <td>Inside</td>\n",
       "      <td>...</td>\n",
       "      <td>0</td>\n",
       "      <td>NaN</td>\n",
       "      <td>NaN</td>\n",
       "      <td>NaN</td>\n",
       "      <td>0</td>\n",
       "      <td>9</td>\n",
       "      <td>2008</td>\n",
       "      <td>WD</td>\n",
       "      <td>Normal</td>\n",
       "      <td>223500.0</td>\n",
       "    </tr>\n",
       "    <tr>\n",
       "      <th>4</th>\n",
       "      <td>70</td>\n",
       "      <td>RL</td>\n",
       "      <td>60.0</td>\n",
       "      <td>9550</td>\n",
       "      <td>Pave</td>\n",
       "      <td>NaN</td>\n",
       "      <td>IR1</td>\n",
       "      <td>Lvl</td>\n",
       "      <td>AllPub</td>\n",
       "      <td>Corner</td>\n",
       "      <td>...</td>\n",
       "      <td>0</td>\n",
       "      <td>NaN</td>\n",
       "      <td>NaN</td>\n",
       "      <td>NaN</td>\n",
       "      <td>0</td>\n",
       "      <td>2</td>\n",
       "      <td>2006</td>\n",
       "      <td>WD</td>\n",
       "      <td>Abnorml</td>\n",
       "      <td>140000.0</td>\n",
       "    </tr>\n",
       "    <tr>\n",
       "      <th>5</th>\n",
       "      <td>60</td>\n",
       "      <td>RL</td>\n",
       "      <td>84.0</td>\n",
       "      <td>14260</td>\n",
       "      <td>Pave</td>\n",
       "      <td>NaN</td>\n",
       "      <td>IR1</td>\n",
       "      <td>Lvl</td>\n",
       "      <td>AllPub</td>\n",
       "      <td>FR2</td>\n",
       "      <td>...</td>\n",
       "      <td>0</td>\n",
       "      <td>NaN</td>\n",
       "      <td>NaN</td>\n",
       "      <td>NaN</td>\n",
       "      <td>0</td>\n",
       "      <td>12</td>\n",
       "      <td>2008</td>\n",
       "      <td>WD</td>\n",
       "      <td>Normal</td>\n",
       "      <td>250000.0</td>\n",
       "    </tr>\n",
       "    <tr>\n",
       "      <th>...</th>\n",
       "      <td>...</td>\n",
       "      <td>...</td>\n",
       "      <td>...</td>\n",
       "      <td>...</td>\n",
       "      <td>...</td>\n",
       "      <td>...</td>\n",
       "      <td>...</td>\n",
       "      <td>...</td>\n",
       "      <td>...</td>\n",
       "      <td>...</td>\n",
       "      <td>...</td>\n",
       "      <td>...</td>\n",
       "      <td>...</td>\n",
       "      <td>...</td>\n",
       "      <td>...</td>\n",
       "      <td>...</td>\n",
       "      <td>...</td>\n",
       "      <td>...</td>\n",
       "      <td>...</td>\n",
       "      <td>...</td>\n",
       "      <td>...</td>\n",
       "    </tr>\n",
       "    <tr>\n",
       "      <th>2915</th>\n",
       "      <td>160</td>\n",
       "      <td>RM</td>\n",
       "      <td>21.0</td>\n",
       "      <td>1936</td>\n",
       "      <td>Pave</td>\n",
       "      <td>NaN</td>\n",
       "      <td>Reg</td>\n",
       "      <td>Lvl</td>\n",
       "      <td>AllPub</td>\n",
       "      <td>Inside</td>\n",
       "      <td>...</td>\n",
       "      <td>0</td>\n",
       "      <td>NaN</td>\n",
       "      <td>NaN</td>\n",
       "      <td>NaN</td>\n",
       "      <td>0</td>\n",
       "      <td>6</td>\n",
       "      <td>2006</td>\n",
       "      <td>WD</td>\n",
       "      <td>Normal</td>\n",
       "      <td>NaN</td>\n",
       "    </tr>\n",
       "    <tr>\n",
       "      <th>2916</th>\n",
       "      <td>160</td>\n",
       "      <td>RM</td>\n",
       "      <td>21.0</td>\n",
       "      <td>1894</td>\n",
       "      <td>Pave</td>\n",
       "      <td>NaN</td>\n",
       "      <td>Reg</td>\n",
       "      <td>Lvl</td>\n",
       "      <td>AllPub</td>\n",
       "      <td>Inside</td>\n",
       "      <td>...</td>\n",
       "      <td>0</td>\n",
       "      <td>NaN</td>\n",
       "      <td>NaN</td>\n",
       "      <td>NaN</td>\n",
       "      <td>0</td>\n",
       "      <td>4</td>\n",
       "      <td>2006</td>\n",
       "      <td>WD</td>\n",
       "      <td>Abnorml</td>\n",
       "      <td>NaN</td>\n",
       "    </tr>\n",
       "    <tr>\n",
       "      <th>2917</th>\n",
       "      <td>20</td>\n",
       "      <td>RL</td>\n",
       "      <td>160.0</td>\n",
       "      <td>20000</td>\n",
       "      <td>Pave</td>\n",
       "      <td>NaN</td>\n",
       "      <td>Reg</td>\n",
       "      <td>Lvl</td>\n",
       "      <td>AllPub</td>\n",
       "      <td>Inside</td>\n",
       "      <td>...</td>\n",
       "      <td>0</td>\n",
       "      <td>NaN</td>\n",
       "      <td>NaN</td>\n",
       "      <td>NaN</td>\n",
       "      <td>0</td>\n",
       "      <td>9</td>\n",
       "      <td>2006</td>\n",
       "      <td>WD</td>\n",
       "      <td>Abnorml</td>\n",
       "      <td>NaN</td>\n",
       "    </tr>\n",
       "    <tr>\n",
       "      <th>2918</th>\n",
       "      <td>85</td>\n",
       "      <td>RL</td>\n",
       "      <td>62.0</td>\n",
       "      <td>10441</td>\n",
       "      <td>Pave</td>\n",
       "      <td>NaN</td>\n",
       "      <td>Reg</td>\n",
       "      <td>Lvl</td>\n",
       "      <td>AllPub</td>\n",
       "      <td>Inside</td>\n",
       "      <td>...</td>\n",
       "      <td>0</td>\n",
       "      <td>NaN</td>\n",
       "      <td>MnPrv</td>\n",
       "      <td>Shed</td>\n",
       "      <td>700</td>\n",
       "      <td>7</td>\n",
       "      <td>2006</td>\n",
       "      <td>WD</td>\n",
       "      <td>Normal</td>\n",
       "      <td>NaN</td>\n",
       "    </tr>\n",
       "    <tr>\n",
       "      <th>2919</th>\n",
       "      <td>60</td>\n",
       "      <td>RL</td>\n",
       "      <td>74.0</td>\n",
       "      <td>9627</td>\n",
       "      <td>Pave</td>\n",
       "      <td>NaN</td>\n",
       "      <td>Reg</td>\n",
       "      <td>Lvl</td>\n",
       "      <td>AllPub</td>\n",
       "      <td>Inside</td>\n",
       "      <td>...</td>\n",
       "      <td>0</td>\n",
       "      <td>NaN</td>\n",
       "      <td>NaN</td>\n",
       "      <td>NaN</td>\n",
       "      <td>0</td>\n",
       "      <td>11</td>\n",
       "      <td>2006</td>\n",
       "      <td>WD</td>\n",
       "      <td>Normal</td>\n",
       "      <td>NaN</td>\n",
       "    </tr>\n",
       "  </tbody>\n",
       "</table>\n",
       "<p>2919 rows × 80 columns</p>\n",
       "</div>"
      ],
      "text/plain": [
       "      MSSubClass MSZoning  LotFrontage  LotArea Street Alley LotShape  \\\n",
       "Id                                                                      \n",
       "1             60       RL         65.0     8450   Pave   NaN      Reg   \n",
       "2             20       RL         80.0     9600   Pave   NaN      Reg   \n",
       "3             60       RL         68.0    11250   Pave   NaN      IR1   \n",
       "4             70       RL         60.0     9550   Pave   NaN      IR1   \n",
       "5             60       RL         84.0    14260   Pave   NaN      IR1   \n",
       "...          ...      ...          ...      ...    ...   ...      ...   \n",
       "2915         160       RM         21.0     1936   Pave   NaN      Reg   \n",
       "2916         160       RM         21.0     1894   Pave   NaN      Reg   \n",
       "2917          20       RL        160.0    20000   Pave   NaN      Reg   \n",
       "2918          85       RL         62.0    10441   Pave   NaN      Reg   \n",
       "2919          60       RL         74.0     9627   Pave   NaN      Reg   \n",
       "\n",
       "     LandContour Utilities LotConfig  ... PoolArea PoolQC  Fence MiscFeature  \\\n",
       "Id                                    ...                                      \n",
       "1            Lvl    AllPub    Inside  ...        0    NaN    NaN         NaN   \n",
       "2            Lvl    AllPub       FR2  ...        0    NaN    NaN         NaN   \n",
       "3            Lvl    AllPub    Inside  ...        0    NaN    NaN         NaN   \n",
       "4            Lvl    AllPub    Corner  ...        0    NaN    NaN         NaN   \n",
       "5            Lvl    AllPub       FR2  ...        0    NaN    NaN         NaN   \n",
       "...          ...       ...       ...  ...      ...    ...    ...         ...   \n",
       "2915         Lvl    AllPub    Inside  ...        0    NaN    NaN         NaN   \n",
       "2916         Lvl    AllPub    Inside  ...        0    NaN    NaN         NaN   \n",
       "2917         Lvl    AllPub    Inside  ...        0    NaN    NaN         NaN   \n",
       "2918         Lvl    AllPub    Inside  ...        0    NaN  MnPrv        Shed   \n",
       "2919         Lvl    AllPub    Inside  ...        0    NaN    NaN         NaN   \n",
       "\n",
       "     MiscVal MoSold  YrSold  SaleType  SaleCondition  SalePrice  \n",
       "Id                                                               \n",
       "1          0      2    2008        WD         Normal   208500.0  \n",
       "2          0      5    2007        WD         Normal   181500.0  \n",
       "3          0      9    2008        WD         Normal   223500.0  \n",
       "4          0      2    2006        WD        Abnorml   140000.0  \n",
       "5          0     12    2008        WD         Normal   250000.0  \n",
       "...      ...    ...     ...       ...            ...        ...  \n",
       "2915       0      6    2006        WD         Normal        NaN  \n",
       "2916       0      4    2006        WD        Abnorml        NaN  \n",
       "2917       0      9    2006        WD        Abnorml        NaN  \n",
       "2918     700      7    2006        WD         Normal        NaN  \n",
       "2919       0     11    2006        WD         Normal        NaN  \n",
       "\n",
       "[2919 rows x 80 columns]"
      ]
     },
     "execution_count": 4,
     "metadata": {},
     "output_type": "execute_result"
    }
   ],
   "source": [
    "df"
   ]
  },
  {
   "cell_type": "code",
   "execution_count": 5,
   "id": "d40f6c89",
   "metadata": {
    "execution": {
     "iopub.execute_input": "2022-02-04T17:36:06.011962Z",
     "iopub.status.busy": "2022-02-04T17:36:06.011335Z",
     "iopub.status.idle": "2022-02-04T17:36:06.016711Z",
     "shell.execute_reply": "2022-02-04T17:36:06.016078Z",
     "shell.execute_reply.started": "2022-02-04T13:01:12.207499Z"
    },
    "papermill": {
     "duration": 0.07438,
     "end_time": "2022-02-04T17:36:06.016837",
     "exception": false,
     "start_time": "2022-02-04T17:36:05.942457",
     "status": "completed"
    },
    "tags": []
   },
   "outputs": [
    {
     "data": {
      "text/plain": [
       "dtype('O')"
      ]
     },
     "execution_count": 5,
     "metadata": {},
     "output_type": "execute_result"
    }
   ],
   "source": [
    "df[\"MSSubClass\"]=df[\"MSSubClass\"].astype(\"object\")\n",
    "df[\"MSSubClass\"].dtypes"
   ]
  },
  {
   "cell_type": "code",
   "execution_count": 6,
   "id": "1b2e0986",
   "metadata": {
    "execution": {
     "iopub.execute_input": "2022-02-04T17:36:06.146449Z",
     "iopub.status.busy": "2022-02-04T17:36:06.145829Z",
     "iopub.status.idle": "2022-02-04T17:36:06.153824Z",
     "shell.execute_reply": "2022-02-04T17:36:06.154427Z",
     "shell.execute_reply.started": "2022-02-04T13:01:12.382631Z"
    },
    "papermill": {
     "duration": 0.073993,
     "end_time": "2022-02-04T17:36:06.154574",
     "exception": false,
     "start_time": "2022-02-04T17:36:06.080581",
     "status": "completed"
    },
    "tags": []
   },
   "outputs": [
    {
     "data": {
      "text/plain": [
       "AllPub    2916\n",
       "NoSeWa       1\n",
       "Name: Utilities, dtype: int64"
      ]
     },
     "execution_count": 6,
     "metadata": {},
     "output_type": "execute_result"
    }
   ],
   "source": [
    "df[\"Utilities\"].value_counts()"
   ]
  },
  {
   "cell_type": "code",
   "execution_count": 7,
   "id": "12cbeacc",
   "metadata": {
    "execution": {
     "iopub.execute_input": "2022-02-04T17:36:06.282658Z",
     "iopub.status.busy": "2022-02-04T17:36:06.282039Z",
     "iopub.status.idle": "2022-02-04T17:36:06.292011Z",
     "shell.execute_reply": "2022-02-04T17:36:06.292647Z",
     "shell.execute_reply.started": "2022-02-04T13:01:12.488475Z"
    },
    "papermill": {
     "duration": 0.075795,
     "end_time": "2022-02-04T17:36:06.292830",
     "exception": false,
     "start_time": "2022-02-04T17:36:06.217035",
     "status": "completed"
    },
    "tags": []
   },
   "outputs": [],
   "source": [
    "df = df.drop(\"Utilities\", axis=1)"
   ]
  },
  {
   "cell_type": "code",
   "execution_count": 8,
   "id": "ae1ca6dd",
   "metadata": {
    "execution": {
     "iopub.execute_input": "2022-02-04T17:36:06.421164Z",
     "iopub.status.busy": "2022-02-04T17:36:06.420614Z",
     "iopub.status.idle": "2022-02-04T17:36:06.426649Z",
     "shell.execute_reply": "2022-02-04T17:36:06.427150Z",
     "shell.execute_reply.started": "2022-02-04T13:01:12.570807Z"
    },
    "papermill": {
     "duration": 0.071182,
     "end_time": "2022-02-04T17:36:06.427339",
     "exception": false,
     "start_time": "2022-02-04T17:36:06.356157",
     "status": "completed"
    },
    "tags": []
   },
   "outputs": [],
   "source": [
    "df = df.drop(\"MiscVal\", axis=1)"
   ]
  },
  {
   "cell_type": "code",
   "execution_count": 9,
   "id": "8f65bb9a",
   "metadata": {
    "execution": {
     "iopub.execute_input": "2022-02-04T17:36:06.556968Z",
     "iopub.status.busy": "2022-02-04T17:36:06.556345Z",
     "iopub.status.idle": "2022-02-04T17:36:06.574741Z",
     "shell.execute_reply": "2022-02-04T17:36:06.574116Z",
     "shell.execute_reply.started": "2022-02-04T13:01:12.757751Z"
    },
    "papermill": {
     "duration": 0.083627,
     "end_time": "2022-02-04T17:36:06.574865",
     "exception": false,
     "start_time": "2022-02-04T17:36:06.491238",
     "status": "completed"
    },
    "tags": []
   },
   "outputs": [
    {
     "data": {
      "text/html": [
       "<div>\n",
       "<style scoped>\n",
       "    .dataframe tbody tr th:only-of-type {\n",
       "        vertical-align: middle;\n",
       "    }\n",
       "\n",
       "    .dataframe tbody tr th {\n",
       "        vertical-align: top;\n",
       "    }\n",
       "\n",
       "    .dataframe thead th {\n",
       "        text-align: right;\n",
       "    }\n",
       "</style>\n",
       "<table border=\"1\" class=\"dataframe\">\n",
       "  <thead>\n",
       "    <tr style=\"text-align: right;\">\n",
       "      <th></th>\n",
       "      <th>MSSubClass</th>\n",
       "      <th>MSZoning</th>\n",
       "      <th>LotFrontage</th>\n",
       "      <th>LotArea</th>\n",
       "      <th>Street</th>\n",
       "      <th>Alley</th>\n",
       "      <th>LotShape</th>\n",
       "      <th>LandContour</th>\n",
       "      <th>LotConfig</th>\n",
       "      <th>LandSlope</th>\n",
       "      <th>...</th>\n",
       "      <th>ScreenPorch</th>\n",
       "      <th>PoolArea</th>\n",
       "      <th>PoolQC</th>\n",
       "      <th>Fence</th>\n",
       "      <th>MiscFeature</th>\n",
       "      <th>MoSold</th>\n",
       "      <th>YrSold</th>\n",
       "      <th>SaleType</th>\n",
       "      <th>SaleCondition</th>\n",
       "      <th>SalePrice</th>\n",
       "    </tr>\n",
       "    <tr>\n",
       "      <th>Id</th>\n",
       "      <th></th>\n",
       "      <th></th>\n",
       "      <th></th>\n",
       "      <th></th>\n",
       "      <th></th>\n",
       "      <th></th>\n",
       "      <th></th>\n",
       "      <th></th>\n",
       "      <th></th>\n",
       "      <th></th>\n",
       "      <th></th>\n",
       "      <th></th>\n",
       "      <th></th>\n",
       "      <th></th>\n",
       "      <th></th>\n",
       "      <th></th>\n",
       "      <th></th>\n",
       "      <th></th>\n",
       "      <th></th>\n",
       "      <th></th>\n",
       "      <th></th>\n",
       "    </tr>\n",
       "  </thead>\n",
       "  <tbody>\n",
       "    <tr>\n",
       "      <th>1</th>\n",
       "      <td>60</td>\n",
       "      <td>RL</td>\n",
       "      <td>65.0</td>\n",
       "      <td>8450</td>\n",
       "      <td>Pave</td>\n",
       "      <td>NaN</td>\n",
       "      <td>Reg</td>\n",
       "      <td>Lvl</td>\n",
       "      <td>Inside</td>\n",
       "      <td>Gtl</td>\n",
       "      <td>...</td>\n",
       "      <td>0</td>\n",
       "      <td>0</td>\n",
       "      <td>NaN</td>\n",
       "      <td>NaN</td>\n",
       "      <td>NaN</td>\n",
       "      <td>2</td>\n",
       "      <td>2008</td>\n",
       "      <td>WD</td>\n",
       "      <td>Normal</td>\n",
       "      <td>208500.0</td>\n",
       "    </tr>\n",
       "    <tr>\n",
       "      <th>2</th>\n",
       "      <td>20</td>\n",
       "      <td>RL</td>\n",
       "      <td>80.0</td>\n",
       "      <td>9600</td>\n",
       "      <td>Pave</td>\n",
       "      <td>NaN</td>\n",
       "      <td>Reg</td>\n",
       "      <td>Lvl</td>\n",
       "      <td>FR2</td>\n",
       "      <td>Gtl</td>\n",
       "      <td>...</td>\n",
       "      <td>0</td>\n",
       "      <td>0</td>\n",
       "      <td>NaN</td>\n",
       "      <td>NaN</td>\n",
       "      <td>NaN</td>\n",
       "      <td>5</td>\n",
       "      <td>2007</td>\n",
       "      <td>WD</td>\n",
       "      <td>Normal</td>\n",
       "      <td>181500.0</td>\n",
       "    </tr>\n",
       "    <tr>\n",
       "      <th>3</th>\n",
       "      <td>60</td>\n",
       "      <td>RL</td>\n",
       "      <td>68.0</td>\n",
       "      <td>11250</td>\n",
       "      <td>Pave</td>\n",
       "      <td>NaN</td>\n",
       "      <td>IR1</td>\n",
       "      <td>Lvl</td>\n",
       "      <td>Inside</td>\n",
       "      <td>Gtl</td>\n",
       "      <td>...</td>\n",
       "      <td>0</td>\n",
       "      <td>0</td>\n",
       "      <td>NaN</td>\n",
       "      <td>NaN</td>\n",
       "      <td>NaN</td>\n",
       "      <td>9</td>\n",
       "      <td>2008</td>\n",
       "      <td>WD</td>\n",
       "      <td>Normal</td>\n",
       "      <td>223500.0</td>\n",
       "    </tr>\n",
       "    <tr>\n",
       "      <th>4</th>\n",
       "      <td>70</td>\n",
       "      <td>RL</td>\n",
       "      <td>60.0</td>\n",
       "      <td>9550</td>\n",
       "      <td>Pave</td>\n",
       "      <td>NaN</td>\n",
       "      <td>IR1</td>\n",
       "      <td>Lvl</td>\n",
       "      <td>Corner</td>\n",
       "      <td>Gtl</td>\n",
       "      <td>...</td>\n",
       "      <td>0</td>\n",
       "      <td>0</td>\n",
       "      <td>NaN</td>\n",
       "      <td>NaN</td>\n",
       "      <td>NaN</td>\n",
       "      <td>2</td>\n",
       "      <td>2006</td>\n",
       "      <td>WD</td>\n",
       "      <td>Abnorml</td>\n",
       "      <td>140000.0</td>\n",
       "    </tr>\n",
       "    <tr>\n",
       "      <th>5</th>\n",
       "      <td>60</td>\n",
       "      <td>RL</td>\n",
       "      <td>84.0</td>\n",
       "      <td>14260</td>\n",
       "      <td>Pave</td>\n",
       "      <td>NaN</td>\n",
       "      <td>IR1</td>\n",
       "      <td>Lvl</td>\n",
       "      <td>FR2</td>\n",
       "      <td>Gtl</td>\n",
       "      <td>...</td>\n",
       "      <td>0</td>\n",
       "      <td>0</td>\n",
       "      <td>NaN</td>\n",
       "      <td>NaN</td>\n",
       "      <td>NaN</td>\n",
       "      <td>12</td>\n",
       "      <td>2008</td>\n",
       "      <td>WD</td>\n",
       "      <td>Normal</td>\n",
       "      <td>250000.0</td>\n",
       "    </tr>\n",
       "  </tbody>\n",
       "</table>\n",
       "<p>5 rows × 78 columns</p>\n",
       "</div>"
      ],
      "text/plain": [
       "   MSSubClass MSZoning  LotFrontage  LotArea Street Alley LotShape  \\\n",
       "Id                                                                   \n",
       "1          60       RL         65.0     8450   Pave   NaN      Reg   \n",
       "2          20       RL         80.0     9600   Pave   NaN      Reg   \n",
       "3          60       RL         68.0    11250   Pave   NaN      IR1   \n",
       "4          70       RL         60.0     9550   Pave   NaN      IR1   \n",
       "5          60       RL         84.0    14260   Pave   NaN      IR1   \n",
       "\n",
       "   LandContour LotConfig LandSlope  ... ScreenPorch PoolArea PoolQC Fence  \\\n",
       "Id                                  ...                                     \n",
       "1          Lvl    Inside       Gtl  ...           0        0    NaN   NaN   \n",
       "2          Lvl       FR2       Gtl  ...           0        0    NaN   NaN   \n",
       "3          Lvl    Inside       Gtl  ...           0        0    NaN   NaN   \n",
       "4          Lvl    Corner       Gtl  ...           0        0    NaN   NaN   \n",
       "5          Lvl       FR2       Gtl  ...           0        0    NaN   NaN   \n",
       "\n",
       "   MiscFeature  MoSold  YrSold  SaleType  SaleCondition SalePrice  \n",
       "Id                                                                 \n",
       "1          NaN       2    2008        WD         Normal  208500.0  \n",
       "2          NaN       5    2007        WD         Normal  181500.0  \n",
       "3          NaN       9    2008        WD         Normal  223500.0  \n",
       "4          NaN       2    2006        WD        Abnorml  140000.0  \n",
       "5          NaN      12    2008        WD         Normal  250000.0  \n",
       "\n",
       "[5 rows x 78 columns]"
      ]
     },
     "execution_count": 9,
     "metadata": {},
     "output_type": "execute_result"
    }
   ],
   "source": [
    "df.head()"
   ]
  },
  {
   "cell_type": "code",
   "execution_count": 10,
   "id": "f43ca87d",
   "metadata": {
    "execution": {
     "iopub.execute_input": "2022-02-04T17:36:06.704100Z",
     "iopub.status.busy": "2022-02-04T17:36:06.703642Z",
     "iopub.status.idle": "2022-02-04T17:36:06.740765Z",
     "shell.execute_reply": "2022-02-04T17:36:06.741105Z",
     "shell.execute_reply.started": "2022-02-04T13:01:12.867487Z"
    },
    "papermill": {
     "duration": 0.102533,
     "end_time": "2022-02-04T17:36:06.741228",
     "exception": false,
     "start_time": "2022-02-04T17:36:06.638695",
     "status": "completed"
    },
    "tags": []
   },
   "outputs": [
    {
     "data": {
      "text/html": [
       "<div>\n",
       "<style scoped>\n",
       "    .dataframe tbody tr th:only-of-type {\n",
       "        vertical-align: middle;\n",
       "    }\n",
       "\n",
       "    .dataframe tbody tr th {\n",
       "        vertical-align: top;\n",
       "    }\n",
       "\n",
       "    .dataframe thead th {\n",
       "        text-align: right;\n",
       "    }\n",
       "</style>\n",
       "<table border=\"1\" class=\"dataframe\">\n",
       "  <thead>\n",
       "    <tr style=\"text-align: right;\">\n",
       "      <th></th>\n",
       "      <th>LotFrontage</th>\n",
       "      <th>LotArea</th>\n",
       "      <th>OverallQual</th>\n",
       "      <th>OverallCond</th>\n",
       "      <th>YearBuilt</th>\n",
       "      <th>YearRemodAdd</th>\n",
       "      <th>MasVnrArea</th>\n",
       "      <th>BsmtFinSF1</th>\n",
       "      <th>BsmtFinSF2</th>\n",
       "      <th>BsmtUnfSF</th>\n",
       "      <th>...</th>\n",
       "      <th>GarageArea</th>\n",
       "      <th>WoodDeckSF</th>\n",
       "      <th>OpenPorchSF</th>\n",
       "      <th>EnclosedPorch</th>\n",
       "      <th>3SsnPorch</th>\n",
       "      <th>ScreenPorch</th>\n",
       "      <th>PoolArea</th>\n",
       "      <th>MoSold</th>\n",
       "      <th>YrSold</th>\n",
       "      <th>SalePrice</th>\n",
       "    </tr>\n",
       "    <tr>\n",
       "      <th>Id</th>\n",
       "      <th></th>\n",
       "      <th></th>\n",
       "      <th></th>\n",
       "      <th></th>\n",
       "      <th></th>\n",
       "      <th></th>\n",
       "      <th></th>\n",
       "      <th></th>\n",
       "      <th></th>\n",
       "      <th></th>\n",
       "      <th></th>\n",
       "      <th></th>\n",
       "      <th></th>\n",
       "      <th></th>\n",
       "      <th></th>\n",
       "      <th></th>\n",
       "      <th></th>\n",
       "      <th></th>\n",
       "      <th></th>\n",
       "      <th></th>\n",
       "      <th></th>\n",
       "    </tr>\n",
       "  </thead>\n",
       "  <tbody>\n",
       "    <tr>\n",
       "      <th>1</th>\n",
       "      <td>65.0</td>\n",
       "      <td>8450</td>\n",
       "      <td>7</td>\n",
       "      <td>5</td>\n",
       "      <td>2003</td>\n",
       "      <td>2003</td>\n",
       "      <td>196.0</td>\n",
       "      <td>706.0</td>\n",
       "      <td>0.0</td>\n",
       "      <td>150.0</td>\n",
       "      <td>...</td>\n",
       "      <td>548.0</td>\n",
       "      <td>0</td>\n",
       "      <td>61</td>\n",
       "      <td>0</td>\n",
       "      <td>0</td>\n",
       "      <td>0</td>\n",
       "      <td>0</td>\n",
       "      <td>2</td>\n",
       "      <td>2008</td>\n",
       "      <td>208500.0</td>\n",
       "    </tr>\n",
       "    <tr>\n",
       "      <th>2</th>\n",
       "      <td>80.0</td>\n",
       "      <td>9600</td>\n",
       "      <td>6</td>\n",
       "      <td>8</td>\n",
       "      <td>1976</td>\n",
       "      <td>1976</td>\n",
       "      <td>0.0</td>\n",
       "      <td>978.0</td>\n",
       "      <td>0.0</td>\n",
       "      <td>284.0</td>\n",
       "      <td>...</td>\n",
       "      <td>460.0</td>\n",
       "      <td>298</td>\n",
       "      <td>0</td>\n",
       "      <td>0</td>\n",
       "      <td>0</td>\n",
       "      <td>0</td>\n",
       "      <td>0</td>\n",
       "      <td>5</td>\n",
       "      <td>2007</td>\n",
       "      <td>181500.0</td>\n",
       "    </tr>\n",
       "    <tr>\n",
       "      <th>3</th>\n",
       "      <td>68.0</td>\n",
       "      <td>11250</td>\n",
       "      <td>7</td>\n",
       "      <td>5</td>\n",
       "      <td>2001</td>\n",
       "      <td>2002</td>\n",
       "      <td>162.0</td>\n",
       "      <td>486.0</td>\n",
       "      <td>0.0</td>\n",
       "      <td>434.0</td>\n",
       "      <td>...</td>\n",
       "      <td>608.0</td>\n",
       "      <td>0</td>\n",
       "      <td>42</td>\n",
       "      <td>0</td>\n",
       "      <td>0</td>\n",
       "      <td>0</td>\n",
       "      <td>0</td>\n",
       "      <td>9</td>\n",
       "      <td>2008</td>\n",
       "      <td>223500.0</td>\n",
       "    </tr>\n",
       "    <tr>\n",
       "      <th>4</th>\n",
       "      <td>60.0</td>\n",
       "      <td>9550</td>\n",
       "      <td>7</td>\n",
       "      <td>5</td>\n",
       "      <td>1915</td>\n",
       "      <td>1970</td>\n",
       "      <td>0.0</td>\n",
       "      <td>216.0</td>\n",
       "      <td>0.0</td>\n",
       "      <td>540.0</td>\n",
       "      <td>...</td>\n",
       "      <td>642.0</td>\n",
       "      <td>0</td>\n",
       "      <td>35</td>\n",
       "      <td>272</td>\n",
       "      <td>0</td>\n",
       "      <td>0</td>\n",
       "      <td>0</td>\n",
       "      <td>2</td>\n",
       "      <td>2006</td>\n",
       "      <td>140000.0</td>\n",
       "    </tr>\n",
       "    <tr>\n",
       "      <th>5</th>\n",
       "      <td>84.0</td>\n",
       "      <td>14260</td>\n",
       "      <td>8</td>\n",
       "      <td>5</td>\n",
       "      <td>2000</td>\n",
       "      <td>2000</td>\n",
       "      <td>350.0</td>\n",
       "      <td>655.0</td>\n",
       "      <td>0.0</td>\n",
       "      <td>490.0</td>\n",
       "      <td>...</td>\n",
       "      <td>836.0</td>\n",
       "      <td>192</td>\n",
       "      <td>84</td>\n",
       "      <td>0</td>\n",
       "      <td>0</td>\n",
       "      <td>0</td>\n",
       "      <td>0</td>\n",
       "      <td>12</td>\n",
       "      <td>2008</td>\n",
       "      <td>250000.0</td>\n",
       "    </tr>\n",
       "    <tr>\n",
       "      <th>...</th>\n",
       "      <td>...</td>\n",
       "      <td>...</td>\n",
       "      <td>...</td>\n",
       "      <td>...</td>\n",
       "      <td>...</td>\n",
       "      <td>...</td>\n",
       "      <td>...</td>\n",
       "      <td>...</td>\n",
       "      <td>...</td>\n",
       "      <td>...</td>\n",
       "      <td>...</td>\n",
       "      <td>...</td>\n",
       "      <td>...</td>\n",
       "      <td>...</td>\n",
       "      <td>...</td>\n",
       "      <td>...</td>\n",
       "      <td>...</td>\n",
       "      <td>...</td>\n",
       "      <td>...</td>\n",
       "      <td>...</td>\n",
       "      <td>...</td>\n",
       "    </tr>\n",
       "    <tr>\n",
       "      <th>2915</th>\n",
       "      <td>21.0</td>\n",
       "      <td>1936</td>\n",
       "      <td>4</td>\n",
       "      <td>7</td>\n",
       "      <td>1970</td>\n",
       "      <td>1970</td>\n",
       "      <td>0.0</td>\n",
       "      <td>0.0</td>\n",
       "      <td>0.0</td>\n",
       "      <td>546.0</td>\n",
       "      <td>...</td>\n",
       "      <td>0.0</td>\n",
       "      <td>0</td>\n",
       "      <td>0</td>\n",
       "      <td>0</td>\n",
       "      <td>0</td>\n",
       "      <td>0</td>\n",
       "      <td>0</td>\n",
       "      <td>6</td>\n",
       "      <td>2006</td>\n",
       "      <td>NaN</td>\n",
       "    </tr>\n",
       "    <tr>\n",
       "      <th>2916</th>\n",
       "      <td>21.0</td>\n",
       "      <td>1894</td>\n",
       "      <td>4</td>\n",
       "      <td>5</td>\n",
       "      <td>1970</td>\n",
       "      <td>1970</td>\n",
       "      <td>0.0</td>\n",
       "      <td>252.0</td>\n",
       "      <td>0.0</td>\n",
       "      <td>294.0</td>\n",
       "      <td>...</td>\n",
       "      <td>286.0</td>\n",
       "      <td>0</td>\n",
       "      <td>24</td>\n",
       "      <td>0</td>\n",
       "      <td>0</td>\n",
       "      <td>0</td>\n",
       "      <td>0</td>\n",
       "      <td>4</td>\n",
       "      <td>2006</td>\n",
       "      <td>NaN</td>\n",
       "    </tr>\n",
       "    <tr>\n",
       "      <th>2917</th>\n",
       "      <td>160.0</td>\n",
       "      <td>20000</td>\n",
       "      <td>5</td>\n",
       "      <td>7</td>\n",
       "      <td>1960</td>\n",
       "      <td>1996</td>\n",
       "      <td>0.0</td>\n",
       "      <td>1224.0</td>\n",
       "      <td>0.0</td>\n",
       "      <td>0.0</td>\n",
       "      <td>...</td>\n",
       "      <td>576.0</td>\n",
       "      <td>474</td>\n",
       "      <td>0</td>\n",
       "      <td>0</td>\n",
       "      <td>0</td>\n",
       "      <td>0</td>\n",
       "      <td>0</td>\n",
       "      <td>9</td>\n",
       "      <td>2006</td>\n",
       "      <td>NaN</td>\n",
       "    </tr>\n",
       "    <tr>\n",
       "      <th>2918</th>\n",
       "      <td>62.0</td>\n",
       "      <td>10441</td>\n",
       "      <td>5</td>\n",
       "      <td>5</td>\n",
       "      <td>1992</td>\n",
       "      <td>1992</td>\n",
       "      <td>0.0</td>\n",
       "      <td>337.0</td>\n",
       "      <td>0.0</td>\n",
       "      <td>575.0</td>\n",
       "      <td>...</td>\n",
       "      <td>0.0</td>\n",
       "      <td>80</td>\n",
       "      <td>32</td>\n",
       "      <td>0</td>\n",
       "      <td>0</td>\n",
       "      <td>0</td>\n",
       "      <td>0</td>\n",
       "      <td>7</td>\n",
       "      <td>2006</td>\n",
       "      <td>NaN</td>\n",
       "    </tr>\n",
       "    <tr>\n",
       "      <th>2919</th>\n",
       "      <td>74.0</td>\n",
       "      <td>9627</td>\n",
       "      <td>7</td>\n",
       "      <td>5</td>\n",
       "      <td>1993</td>\n",
       "      <td>1994</td>\n",
       "      <td>94.0</td>\n",
       "      <td>758.0</td>\n",
       "      <td>0.0</td>\n",
       "      <td>238.0</td>\n",
       "      <td>...</td>\n",
       "      <td>650.0</td>\n",
       "      <td>190</td>\n",
       "      <td>48</td>\n",
       "      <td>0</td>\n",
       "      <td>0</td>\n",
       "      <td>0</td>\n",
       "      <td>0</td>\n",
       "      <td>11</td>\n",
       "      <td>2006</td>\n",
       "      <td>NaN</td>\n",
       "    </tr>\n",
       "  </tbody>\n",
       "</table>\n",
       "<p>2919 rows × 35 columns</p>\n",
       "</div>"
      ],
      "text/plain": [
       "      LotFrontage  LotArea  OverallQual  OverallCond  YearBuilt  YearRemodAdd  \\\n",
       "Id                                                                              \n",
       "1            65.0     8450            7            5       2003          2003   \n",
       "2            80.0     9600            6            8       1976          1976   \n",
       "3            68.0    11250            7            5       2001          2002   \n",
       "4            60.0     9550            7            5       1915          1970   \n",
       "5            84.0    14260            8            5       2000          2000   \n",
       "...           ...      ...          ...          ...        ...           ...   \n",
       "2915         21.0     1936            4            7       1970          1970   \n",
       "2916         21.0     1894            4            5       1970          1970   \n",
       "2917        160.0    20000            5            7       1960          1996   \n",
       "2918         62.0    10441            5            5       1992          1992   \n",
       "2919         74.0     9627            7            5       1993          1994   \n",
       "\n",
       "      MasVnrArea  BsmtFinSF1  BsmtFinSF2  BsmtUnfSF  ...  GarageArea  \\\n",
       "Id                                                   ...               \n",
       "1          196.0       706.0         0.0      150.0  ...       548.0   \n",
       "2            0.0       978.0         0.0      284.0  ...       460.0   \n",
       "3          162.0       486.0         0.0      434.0  ...       608.0   \n",
       "4            0.0       216.0         0.0      540.0  ...       642.0   \n",
       "5          350.0       655.0         0.0      490.0  ...       836.0   \n",
       "...          ...         ...         ...        ...  ...         ...   \n",
       "2915         0.0         0.0         0.0      546.0  ...         0.0   \n",
       "2916         0.0       252.0         0.0      294.0  ...       286.0   \n",
       "2917         0.0      1224.0         0.0        0.0  ...       576.0   \n",
       "2918         0.0       337.0         0.0      575.0  ...         0.0   \n",
       "2919        94.0       758.0         0.0      238.0  ...       650.0   \n",
       "\n",
       "      WoodDeckSF  OpenPorchSF  EnclosedPorch  3SsnPorch  ScreenPorch  \\\n",
       "Id                                                                     \n",
       "1              0           61              0          0            0   \n",
       "2            298            0              0          0            0   \n",
       "3              0           42              0          0            0   \n",
       "4              0           35            272          0            0   \n",
       "5            192           84              0          0            0   \n",
       "...          ...          ...            ...        ...          ...   \n",
       "2915           0            0              0          0            0   \n",
       "2916           0           24              0          0            0   \n",
       "2917         474            0              0          0            0   \n",
       "2918          80           32              0          0            0   \n",
       "2919         190           48              0          0            0   \n",
       "\n",
       "      PoolArea  MoSold  YrSold  SalePrice  \n",
       "Id                                         \n",
       "1            0       2    2008   208500.0  \n",
       "2            0       5    2007   181500.0  \n",
       "3            0       9    2008   223500.0  \n",
       "4            0       2    2006   140000.0  \n",
       "5            0      12    2008   250000.0  \n",
       "...        ...     ...     ...        ...  \n",
       "2915         0       6    2006        NaN  \n",
       "2916         0       4    2006        NaN  \n",
       "2917         0       9    2006        NaN  \n",
       "2918         0       7    2006        NaN  \n",
       "2919         0      11    2006        NaN  \n",
       "\n",
       "[2919 rows x 35 columns]"
      ]
     },
     "execution_count": 10,
     "metadata": {},
     "output_type": "execute_result"
    }
   ],
   "source": [
    "df_cat = df.select_dtypes(include =\"object\")\n",
    "df_num = df.select_dtypes(include =\"number\")\n",
    "df_num"
   ]
  },
  {
   "cell_type": "code",
   "execution_count": 11,
   "id": "1ab1b8c4",
   "metadata": {
    "execution": {
     "iopub.execute_input": "2022-02-04T17:36:06.831216Z",
     "iopub.status.busy": "2022-02-04T17:36:06.830788Z",
     "iopub.status.idle": "2022-02-04T17:36:06.856264Z",
     "shell.execute_reply": "2022-02-04T17:36:06.856635Z",
     "shell.execute_reply.started": "2022-02-04T13:01:12.960476Z"
    },
    "papermill": {
     "duration": 0.074605,
     "end_time": "2022-02-04T17:36:06.856748",
     "exception": false,
     "start_time": "2022-02-04T17:36:06.782143",
     "status": "completed"
    },
    "tags": []
   },
   "outputs": [
    {
     "name": "stdout",
     "output_type": "stream",
     "text": [
      "('MSZoning', 'LotFrontage', 'Alley', 'Exterior1st', 'Exterior2nd', 'MasVnrType', 'MasVnrArea', 'BsmtQual', 'BsmtCond', 'BsmtExposure', 'BsmtFinType1', 'BsmtFinSF1', 'BsmtFinType2', 'BsmtFinSF2', 'BsmtUnfSF', 'TotalBsmtSF', 'Electrical', 'BsmtFullBath', 'BsmtHalfBath', 'KitchenQual', 'Functional', 'FireplaceQu', 'GarageType', 'GarageYrBlt', 'GarageFinish', 'GarageCars', 'GarageArea', 'GarageQual', 'GarageCond', 'PoolQC', 'Fence', 'MiscFeature', 'SaleType', 'SalePrice')\n"
     ]
    }
   ],
   "source": [
    "col_nan = ()\n",
    "for col in df.columns:\n",
    "    if df[col].isnull().any() == True:\n",
    "        col_nan += (col,)\n",
    "print(col_nan)"
   ]
  },
  {
   "cell_type": "code",
   "execution_count": 12,
   "id": "119427ca",
   "metadata": {
    "execution": {
     "iopub.execute_input": "2022-02-04T17:36:06.940322Z",
     "iopub.status.busy": "2022-02-04T17:36:06.939900Z",
     "iopub.status.idle": "2022-02-04T17:36:06.949629Z",
     "shell.execute_reply": "2022-02-04T17:36:06.950020Z",
     "shell.execute_reply.started": "2022-02-04T13:01:13.153258Z"
    },
    "papermill": {
     "duration": 0.053025,
     "end_time": "2022-02-04T17:36:06.950139",
     "exception": false,
     "start_time": "2022-02-04T17:36:06.897114",
     "status": "completed"
    },
    "tags": []
   },
   "outputs": [],
   "source": [
    "df_num_non = df[list(col_nan)].select_dtypes(exclude=\"object\")\n",
    "df_obj_non = df[list(col_nan)].select_dtypes(exclude=\"number\")"
   ]
  },
  {
   "cell_type": "code",
   "execution_count": 13,
   "id": "673286d3",
   "metadata": {
    "execution": {
     "iopub.execute_input": "2022-02-04T17:36:07.035760Z",
     "iopub.status.busy": "2022-02-04T17:36:07.032987Z",
     "iopub.status.idle": "2022-02-04T17:36:07.056955Z",
     "shell.execute_reply": "2022-02-04T17:36:07.056564Z",
     "shell.execute_reply.started": "2022-02-04T13:01:13.301419Z"
    },
    "papermill": {
     "duration": 0.066356,
     "end_time": "2022-02-04T17:36:07.057061",
     "exception": false,
     "start_time": "2022-02-04T17:36:06.990705",
     "status": "completed"
    },
    "tags": []
   },
   "outputs": [
    {
     "data": {
      "text/html": [
       "<div>\n",
       "<style scoped>\n",
       "    .dataframe tbody tr th:only-of-type {\n",
       "        vertical-align: middle;\n",
       "    }\n",
       "\n",
       "    .dataframe tbody tr th {\n",
       "        vertical-align: top;\n",
       "    }\n",
       "\n",
       "    .dataframe thead th {\n",
       "        text-align: right;\n",
       "    }\n",
       "</style>\n",
       "<table border=\"1\" class=\"dataframe\">\n",
       "  <thead>\n",
       "    <tr style=\"text-align: right;\">\n",
       "      <th></th>\n",
       "      <th>LotFrontage</th>\n",
       "      <th>MasVnrArea</th>\n",
       "      <th>BsmtFinSF1</th>\n",
       "      <th>BsmtFinSF2</th>\n",
       "      <th>BsmtUnfSF</th>\n",
       "      <th>TotalBsmtSF</th>\n",
       "      <th>BsmtFullBath</th>\n",
       "      <th>BsmtHalfBath</th>\n",
       "      <th>GarageYrBlt</th>\n",
       "      <th>GarageCars</th>\n",
       "      <th>GarageArea</th>\n",
       "      <th>SalePrice</th>\n",
       "    </tr>\n",
       "    <tr>\n",
       "      <th>Id</th>\n",
       "      <th></th>\n",
       "      <th></th>\n",
       "      <th></th>\n",
       "      <th></th>\n",
       "      <th></th>\n",
       "      <th></th>\n",
       "      <th></th>\n",
       "      <th></th>\n",
       "      <th></th>\n",
       "      <th></th>\n",
       "      <th></th>\n",
       "      <th></th>\n",
       "    </tr>\n",
       "  </thead>\n",
       "  <tbody>\n",
       "    <tr>\n",
       "      <th>1</th>\n",
       "      <td>65.0</td>\n",
       "      <td>196.0</td>\n",
       "      <td>706.0</td>\n",
       "      <td>0.0</td>\n",
       "      <td>150.0</td>\n",
       "      <td>856.0</td>\n",
       "      <td>1.0</td>\n",
       "      <td>0.0</td>\n",
       "      <td>2003.0</td>\n",
       "      <td>2.0</td>\n",
       "      <td>548.0</td>\n",
       "      <td>208500.0</td>\n",
       "    </tr>\n",
       "    <tr>\n",
       "      <th>2</th>\n",
       "      <td>80.0</td>\n",
       "      <td>0.0</td>\n",
       "      <td>978.0</td>\n",
       "      <td>0.0</td>\n",
       "      <td>284.0</td>\n",
       "      <td>1262.0</td>\n",
       "      <td>0.0</td>\n",
       "      <td>1.0</td>\n",
       "      <td>1976.0</td>\n",
       "      <td>2.0</td>\n",
       "      <td>460.0</td>\n",
       "      <td>181500.0</td>\n",
       "    </tr>\n",
       "    <tr>\n",
       "      <th>3</th>\n",
       "      <td>68.0</td>\n",
       "      <td>162.0</td>\n",
       "      <td>486.0</td>\n",
       "      <td>0.0</td>\n",
       "      <td>434.0</td>\n",
       "      <td>920.0</td>\n",
       "      <td>1.0</td>\n",
       "      <td>0.0</td>\n",
       "      <td>2001.0</td>\n",
       "      <td>2.0</td>\n",
       "      <td>608.0</td>\n",
       "      <td>223500.0</td>\n",
       "    </tr>\n",
       "    <tr>\n",
       "      <th>4</th>\n",
       "      <td>60.0</td>\n",
       "      <td>0.0</td>\n",
       "      <td>216.0</td>\n",
       "      <td>0.0</td>\n",
       "      <td>540.0</td>\n",
       "      <td>756.0</td>\n",
       "      <td>1.0</td>\n",
       "      <td>0.0</td>\n",
       "      <td>1998.0</td>\n",
       "      <td>3.0</td>\n",
       "      <td>642.0</td>\n",
       "      <td>140000.0</td>\n",
       "    </tr>\n",
       "    <tr>\n",
       "      <th>5</th>\n",
       "      <td>84.0</td>\n",
       "      <td>350.0</td>\n",
       "      <td>655.0</td>\n",
       "      <td>0.0</td>\n",
       "      <td>490.0</td>\n",
       "      <td>1145.0</td>\n",
       "      <td>1.0</td>\n",
       "      <td>0.0</td>\n",
       "      <td>2000.0</td>\n",
       "      <td>3.0</td>\n",
       "      <td>836.0</td>\n",
       "      <td>250000.0</td>\n",
       "    </tr>\n",
       "    <tr>\n",
       "      <th>...</th>\n",
       "      <td>...</td>\n",
       "      <td>...</td>\n",
       "      <td>...</td>\n",
       "      <td>...</td>\n",
       "      <td>...</td>\n",
       "      <td>...</td>\n",
       "      <td>...</td>\n",
       "      <td>...</td>\n",
       "      <td>...</td>\n",
       "      <td>...</td>\n",
       "      <td>...</td>\n",
       "      <td>...</td>\n",
       "    </tr>\n",
       "    <tr>\n",
       "      <th>2915</th>\n",
       "      <td>21.0</td>\n",
       "      <td>0.0</td>\n",
       "      <td>0.0</td>\n",
       "      <td>0.0</td>\n",
       "      <td>546.0</td>\n",
       "      <td>546.0</td>\n",
       "      <td>0.0</td>\n",
       "      <td>0.0</td>\n",
       "      <td>NaN</td>\n",
       "      <td>0.0</td>\n",
       "      <td>0.0</td>\n",
       "      <td>NaN</td>\n",
       "    </tr>\n",
       "    <tr>\n",
       "      <th>2916</th>\n",
       "      <td>21.0</td>\n",
       "      <td>0.0</td>\n",
       "      <td>252.0</td>\n",
       "      <td>0.0</td>\n",
       "      <td>294.0</td>\n",
       "      <td>546.0</td>\n",
       "      <td>0.0</td>\n",
       "      <td>0.0</td>\n",
       "      <td>1970.0</td>\n",
       "      <td>1.0</td>\n",
       "      <td>286.0</td>\n",
       "      <td>NaN</td>\n",
       "    </tr>\n",
       "    <tr>\n",
       "      <th>2917</th>\n",
       "      <td>160.0</td>\n",
       "      <td>0.0</td>\n",
       "      <td>1224.0</td>\n",
       "      <td>0.0</td>\n",
       "      <td>0.0</td>\n",
       "      <td>1224.0</td>\n",
       "      <td>1.0</td>\n",
       "      <td>0.0</td>\n",
       "      <td>1960.0</td>\n",
       "      <td>2.0</td>\n",
       "      <td>576.0</td>\n",
       "      <td>NaN</td>\n",
       "    </tr>\n",
       "    <tr>\n",
       "      <th>2918</th>\n",
       "      <td>62.0</td>\n",
       "      <td>0.0</td>\n",
       "      <td>337.0</td>\n",
       "      <td>0.0</td>\n",
       "      <td>575.0</td>\n",
       "      <td>912.0</td>\n",
       "      <td>0.0</td>\n",
       "      <td>1.0</td>\n",
       "      <td>NaN</td>\n",
       "      <td>0.0</td>\n",
       "      <td>0.0</td>\n",
       "      <td>NaN</td>\n",
       "    </tr>\n",
       "    <tr>\n",
       "      <th>2919</th>\n",
       "      <td>74.0</td>\n",
       "      <td>94.0</td>\n",
       "      <td>758.0</td>\n",
       "      <td>0.0</td>\n",
       "      <td>238.0</td>\n",
       "      <td>996.0</td>\n",
       "      <td>0.0</td>\n",
       "      <td>0.0</td>\n",
       "      <td>1993.0</td>\n",
       "      <td>3.0</td>\n",
       "      <td>650.0</td>\n",
       "      <td>NaN</td>\n",
       "    </tr>\n",
       "  </tbody>\n",
       "</table>\n",
       "<p>2919 rows × 12 columns</p>\n",
       "</div>"
      ],
      "text/plain": [
       "      LotFrontage  MasVnrArea  BsmtFinSF1  BsmtFinSF2  BsmtUnfSF  TotalBsmtSF  \\\n",
       "Id                                                                              \n",
       "1            65.0       196.0       706.0         0.0      150.0        856.0   \n",
       "2            80.0         0.0       978.0         0.0      284.0       1262.0   \n",
       "3            68.0       162.0       486.0         0.0      434.0        920.0   \n",
       "4            60.0         0.0       216.0         0.0      540.0        756.0   \n",
       "5            84.0       350.0       655.0         0.0      490.0       1145.0   \n",
       "...           ...         ...         ...         ...        ...          ...   \n",
       "2915         21.0         0.0         0.0         0.0      546.0        546.0   \n",
       "2916         21.0         0.0       252.0         0.0      294.0        546.0   \n",
       "2917        160.0         0.0      1224.0         0.0        0.0       1224.0   \n",
       "2918         62.0         0.0       337.0         0.0      575.0        912.0   \n",
       "2919         74.0        94.0       758.0         0.0      238.0        996.0   \n",
       "\n",
       "      BsmtFullBath  BsmtHalfBath  GarageYrBlt  GarageCars  GarageArea  \\\n",
       "Id                                                                      \n",
       "1              1.0           0.0       2003.0         2.0       548.0   \n",
       "2              0.0           1.0       1976.0         2.0       460.0   \n",
       "3              1.0           0.0       2001.0         2.0       608.0   \n",
       "4              1.0           0.0       1998.0         3.0       642.0   \n",
       "5              1.0           0.0       2000.0         3.0       836.0   \n",
       "...            ...           ...          ...         ...         ...   \n",
       "2915           0.0           0.0          NaN         0.0         0.0   \n",
       "2916           0.0           0.0       1970.0         1.0       286.0   \n",
       "2917           1.0           0.0       1960.0         2.0       576.0   \n",
       "2918           0.0           1.0          NaN         0.0         0.0   \n",
       "2919           0.0           0.0       1993.0         3.0       650.0   \n",
       "\n",
       "      SalePrice  \n",
       "Id               \n",
       "1      208500.0  \n",
       "2      181500.0  \n",
       "3      223500.0  \n",
       "4      140000.0  \n",
       "5      250000.0  \n",
       "...         ...  \n",
       "2915        NaN  \n",
       "2916        NaN  \n",
       "2917        NaN  \n",
       "2918        NaN  \n",
       "2919        NaN  \n",
       "\n",
       "[2919 rows x 12 columns]"
      ]
     },
     "execution_count": 13,
     "metadata": {},
     "output_type": "execute_result"
    }
   ],
   "source": [
    "df_num_non"
   ]
  },
  {
   "cell_type": "code",
   "execution_count": 14,
   "id": "6c69128d",
   "metadata": {
    "execution": {
     "iopub.execute_input": "2022-02-04T17:36:07.148060Z",
     "iopub.status.busy": "2022-02-04T17:36:07.147477Z",
     "iopub.status.idle": "2022-02-04T17:36:07.150897Z",
     "shell.execute_reply": "2022-02-04T17:36:07.150522Z",
     "shell.execute_reply.started": "2022-02-04T13:01:13.366786Z"
    },
    "papermill": {
     "duration": 0.050537,
     "end_time": "2022-02-04T17:36:07.151002",
     "exception": false,
     "start_time": "2022-02-04T17:36:07.100465",
     "status": "completed"
    },
    "tags": []
   },
   "outputs": [
    {
     "data": {
      "text/plain": [
       "False"
      ]
     },
     "execution_count": 14,
     "metadata": {},
     "output_type": "execute_result"
    }
   ],
   "source": [
    "df[\"LotFrontage\"].fillna(df[\"LotFrontage\"].mean(), inplace=True)\n",
    "df[\"LotFrontage\"].isnull().any()"
   ]
  },
  {
   "cell_type": "code",
   "execution_count": 15,
   "id": "49278107",
   "metadata": {
    "execution": {
     "iopub.execute_input": "2022-02-04T17:36:07.240651Z",
     "iopub.status.busy": "2022-02-04T17:36:07.239707Z",
     "iopub.status.idle": "2022-02-04T17:36:07.247301Z",
     "shell.execute_reply": "2022-02-04T17:36:07.247757Z",
     "shell.execute_reply.started": "2022-02-04T13:01:13.524207Z"
    },
    "papermill": {
     "duration": 0.054104,
     "end_time": "2022-02-04T17:36:07.247903",
     "exception": false,
     "start_time": "2022-02-04T17:36:07.193799",
     "status": "completed"
    },
    "tags": []
   },
   "outputs": [
    {
     "data": {
      "text/plain": [
       "False"
      ]
     },
     "execution_count": 15,
     "metadata": {},
     "output_type": "execute_result"
    }
   ],
   "source": [
    "df[\"MasVnrArea\"].fillna(df[\"MasVnrArea\"].mean(), inplace=True)\n",
    "df[\"MasVnrArea\"].isnull().any()"
   ]
  },
  {
   "cell_type": "code",
   "execution_count": 16,
   "id": "94d3d1db",
   "metadata": {
    "execution": {
     "iopub.execute_input": "2022-02-04T17:36:07.337974Z",
     "iopub.status.busy": "2022-02-04T17:36:07.335854Z",
     "iopub.status.idle": "2022-02-04T17:36:07.340635Z",
     "shell.execute_reply": "2022-02-04T17:36:07.341155Z",
     "shell.execute_reply.started": "2022-02-04T13:01:13.656685Z"
    },
    "papermill": {
     "duration": 0.05119,
     "end_time": "2022-02-04T17:36:07.341323",
     "exception": false,
     "start_time": "2022-02-04T17:36:07.290133",
     "status": "completed"
    },
    "tags": []
   },
   "outputs": [
    {
     "data": {
      "text/plain": [
       "False"
      ]
     },
     "execution_count": 16,
     "metadata": {},
     "output_type": "execute_result"
    }
   ],
   "source": [
    "df[\"BsmtFinSF1\"].fillna(df[\"BsmtFinSF1\"].mean(), inplace=True)\n",
    "df[\"BsmtFinSF1\"].isnull().any()"
   ]
  },
  {
   "cell_type": "code",
   "execution_count": 17,
   "id": "10a33c28",
   "metadata": {
    "execution": {
     "iopub.execute_input": "2022-02-04T17:36:07.480425Z",
     "iopub.status.busy": "2022-02-04T17:36:07.479722Z",
     "iopub.status.idle": "2022-02-04T17:36:07.484769Z",
     "shell.execute_reply": "2022-02-04T17:36:07.485165Z",
     "shell.execute_reply.started": "2022-02-04T13:01:13.788274Z"
    },
    "papermill": {
     "duration": 0.075759,
     "end_time": "2022-02-04T17:36:07.485278",
     "exception": false,
     "start_time": "2022-02-04T17:36:07.409519",
     "status": "completed"
    },
    "tags": []
   },
   "outputs": [
    {
     "data": {
      "text/plain": [
       "False"
      ]
     },
     "execution_count": 17,
     "metadata": {},
     "output_type": "execute_result"
    }
   ],
   "source": [
    "df[\"BsmtFinSF2\"].fillna(df[\"BsmtFinSF2\"].median(), inplace=True)\n",
    "df[\"BsmtFinSF2\"].isnull().any()"
   ]
  },
  {
   "cell_type": "code",
   "execution_count": 18,
   "id": "2c8e82a0",
   "metadata": {
    "execution": {
     "iopub.execute_input": "2022-02-04T17:36:07.573527Z",
     "iopub.status.busy": "2022-02-04T17:36:07.572807Z",
     "iopub.status.idle": "2022-02-04T17:36:07.578862Z",
     "shell.execute_reply": "2022-02-04T17:36:07.579278Z",
     "shell.execute_reply.started": "2022-02-04T13:01:13.978575Z"
    },
    "papermill": {
     "duration": 0.052522,
     "end_time": "2022-02-04T17:36:07.579446",
     "exception": false,
     "start_time": "2022-02-04T17:36:07.526924",
     "status": "completed"
    },
    "tags": []
   },
   "outputs": [
    {
     "data": {
      "text/plain": [
       "False"
      ]
     },
     "execution_count": 18,
     "metadata": {},
     "output_type": "execute_result"
    }
   ],
   "source": [
    "df[\"BsmtUnfSF\"].fillna(df[\"BsmtUnfSF\"].mean(), inplace=True)\n",
    "df[\"BsmtUnfSF\"].isnull().any()"
   ]
  },
  {
   "cell_type": "code",
   "execution_count": 19,
   "id": "46954c48",
   "metadata": {
    "execution": {
     "iopub.execute_input": "2022-02-04T17:36:07.674974Z",
     "iopub.status.busy": "2022-02-04T17:36:07.674432Z",
     "iopub.status.idle": "2022-02-04T17:36:07.678165Z",
     "shell.execute_reply": "2022-02-04T17:36:07.677586Z",
     "shell.execute_reply.started": "2022-02-04T13:01:14.053930Z"
    },
    "papermill": {
     "duration": 0.054229,
     "end_time": "2022-02-04T17:36:07.678314",
     "exception": false,
     "start_time": "2022-02-04T17:36:07.624085",
     "status": "completed"
    },
    "tags": []
   },
   "outputs": [
    {
     "data": {
      "text/plain": [
       "False"
      ]
     },
     "execution_count": 19,
     "metadata": {},
     "output_type": "execute_result"
    }
   ],
   "source": [
    "df[\"TotalBsmtSF\"].fillna(df[\"TotalBsmtSF\"].mean(), inplace=True)\n",
    "df[\"TotalBsmtSF\"].isnull().any()"
   ]
  },
  {
   "cell_type": "code",
   "execution_count": 20,
   "id": "820d83e0",
   "metadata": {
    "execution": {
     "iopub.execute_input": "2022-02-04T17:36:07.818605Z",
     "iopub.status.busy": "2022-02-04T17:36:07.817949Z",
     "iopub.status.idle": "2022-02-04T17:36:07.822772Z",
     "shell.execute_reply": "2022-02-04T17:36:07.823241Z",
     "shell.execute_reply.started": "2022-02-04T13:01:14.237155Z"
    },
    "papermill": {
     "duration": 0.076645,
     "end_time": "2022-02-04T17:36:07.823424",
     "exception": false,
     "start_time": "2022-02-04T17:36:07.746779",
     "status": "completed"
    },
    "tags": []
   },
   "outputs": [
    {
     "data": {
      "text/plain": [
       "dtype('O')"
      ]
     },
     "execution_count": 20,
     "metadata": {},
     "output_type": "execute_result"
    }
   ],
   "source": [
    "df[\"BsmtFullBath\"]=df[\"BsmtFullBath\"].astype(\"object\")\n",
    "df[\"BsmtFullBath\"].dtypes"
   ]
  },
  {
   "cell_type": "code",
   "execution_count": 21,
   "id": "fe218ab1",
   "metadata": {
    "execution": {
     "iopub.execute_input": "2022-02-04T17:36:07.965135Z",
     "iopub.status.busy": "2022-02-04T17:36:07.964532Z",
     "iopub.status.idle": "2022-02-04T17:36:07.970554Z",
     "shell.execute_reply": "2022-02-04T17:36:07.971009Z",
     "shell.execute_reply.started": "2022-02-04T13:01:14.324526Z"
    },
    "papermill": {
     "duration": 0.078831,
     "end_time": "2022-02-04T17:36:07.971179",
     "exception": false,
     "start_time": "2022-02-04T17:36:07.892348",
     "status": "completed"
    },
    "tags": []
   },
   "outputs": [
    {
     "data": {
      "text/plain": [
       "dtype('O')"
      ]
     },
     "execution_count": 21,
     "metadata": {},
     "output_type": "execute_result"
    }
   ],
   "source": [
    "df[\"BsmtHalfBath\"]=df[\"BsmtHalfBath\"].astype(\"object\")\n",
    "df[\"BsmtHalfBath\"].dtypes"
   ]
  },
  {
   "cell_type": "code",
   "execution_count": 22,
   "id": "f683c087",
   "metadata": {
    "execution": {
     "iopub.execute_input": "2022-02-04T17:36:08.114545Z",
     "iopub.status.busy": "2022-02-04T17:36:08.113304Z",
     "iopub.status.idle": "2022-02-04T17:36:08.117517Z",
     "shell.execute_reply": "2022-02-04T17:36:08.116870Z",
     "shell.execute_reply.started": "2022-02-04T13:01:14.493001Z"
    },
    "papermill": {
     "duration": 0.077739,
     "end_time": "2022-02-04T17:36:08.117649",
     "exception": false,
     "start_time": "2022-02-04T17:36:08.039910",
     "status": "completed"
    },
    "tags": []
   },
   "outputs": [
    {
     "data": {
      "text/plain": [
       "False"
      ]
     },
     "execution_count": 22,
     "metadata": {},
     "output_type": "execute_result"
    }
   ],
   "source": [
    "df[\"GarageYrBlt\"].fillna(df[\"GarageYrBlt\"].median(), inplace=True)\n",
    "df[\"GarageYrBlt\"].isnull().any()"
   ]
  },
  {
   "cell_type": "code",
   "execution_count": 23,
   "id": "df7d2af5",
   "metadata": {
    "execution": {
     "iopub.execute_input": "2022-02-04T17:36:08.266246Z",
     "iopub.status.busy": "2022-02-04T17:36:08.265402Z",
     "iopub.status.idle": "2022-02-04T17:36:08.268167Z",
     "shell.execute_reply": "2022-02-04T17:36:08.268687Z",
     "shell.execute_reply.started": "2022-02-04T13:01:14.627714Z"
    },
    "papermill": {
     "duration": 0.080821,
     "end_time": "2022-02-04T17:36:08.268866",
     "exception": false,
     "start_time": "2022-02-04T17:36:08.188045",
     "status": "completed"
    },
    "tags": []
   },
   "outputs": [
    {
     "data": {
      "text/plain": [
       "dtype('O')"
      ]
     },
     "execution_count": 23,
     "metadata": {},
     "output_type": "execute_result"
    }
   ],
   "source": [
    "df[\"GarageCars\"]=df[\"GarageCars\"].astype(\"object\")\n",
    "df[\"GarageCars\"].dtypes"
   ]
  },
  {
   "cell_type": "code",
   "execution_count": 24,
   "id": "6075a665",
   "metadata": {
    "execution": {
     "iopub.execute_input": "2022-02-04T17:36:08.413269Z",
     "iopub.status.busy": "2022-02-04T17:36:08.412670Z",
     "iopub.status.idle": "2022-02-04T17:36:08.418189Z",
     "shell.execute_reply": "2022-02-04T17:36:08.418708Z",
     "shell.execute_reply.started": "2022-02-04T13:01:15.076203Z"
    },
    "papermill": {
     "duration": 0.079747,
     "end_time": "2022-02-04T17:36:08.418848",
     "exception": false,
     "start_time": "2022-02-04T17:36:08.339101",
     "status": "completed"
    },
    "tags": []
   },
   "outputs": [
    {
     "data": {
      "text/plain": [
       "False"
      ]
     },
     "execution_count": 24,
     "metadata": {},
     "output_type": "execute_result"
    }
   ],
   "source": [
    "df[\"GarageArea\"].fillna(df[\"GarageArea\"].mean(), inplace=True)\n",
    "df[\"GarageArea\"].isnull().any()"
   ]
  },
  {
   "cell_type": "code",
   "execution_count": 25,
   "id": "849107c4",
   "metadata": {
    "execution": {
     "iopub.execute_input": "2022-02-04T17:36:08.564824Z",
     "iopub.status.busy": "2022-02-04T17:36:08.564185Z",
     "iopub.status.idle": "2022-02-04T17:36:08.566568Z",
     "shell.execute_reply": "2022-02-04T17:36:08.567044Z",
     "shell.execute_reply.started": "2022-02-04T13:01:15.131055Z"
    },
    "papermill": {
     "duration": 0.077333,
     "end_time": "2022-02-04T17:36:08.567199",
     "exception": false,
     "start_time": "2022-02-04T17:36:08.489866",
     "status": "completed"
    },
    "tags": []
   },
   "outputs": [
    {
     "data": {
      "text/plain": [
       "Index(['MSZoning', 'Alley', 'Exterior1st', 'Exterior2nd', 'MasVnrType',\n",
       "       'BsmtQual', 'BsmtCond', 'BsmtExposure', 'BsmtFinType1', 'BsmtFinType2',\n",
       "       'Electrical', 'KitchenQual', 'Functional', 'FireplaceQu', 'GarageType',\n",
       "       'GarageFinish', 'GarageQual', 'GarageCond', 'PoolQC', 'Fence',\n",
       "       'MiscFeature', 'SaleType'],\n",
       "      dtype='object')"
      ]
     },
     "execution_count": 25,
     "metadata": {},
     "output_type": "execute_result"
    }
   ],
   "source": [
    "df_obj_non.columns"
   ]
  },
  {
   "cell_type": "code",
   "execution_count": 26,
   "id": "1a6c2b93",
   "metadata": {
    "execution": {
     "iopub.execute_input": "2022-02-04T17:36:08.714767Z",
     "iopub.status.busy": "2022-02-04T17:36:08.713973Z",
     "iopub.status.idle": "2022-02-04T17:36:08.719309Z",
     "shell.execute_reply": "2022-02-04T17:36:08.718657Z",
     "shell.execute_reply.started": "2022-02-04T13:01:15.180983Z"
    },
    "papermill": {
     "duration": 0.081608,
     "end_time": "2022-02-04T17:36:08.719463",
     "exception": false,
     "start_time": "2022-02-04T17:36:08.637855",
     "status": "completed"
    },
    "tags": []
   },
   "outputs": [
    {
     "data": {
      "text/plain": [
       "4"
      ]
     },
     "execution_count": 26,
     "metadata": {},
     "output_type": "execute_result"
    }
   ],
   "source": [
    "df[\"MSZoning\"].isnull().sum()"
   ]
  },
  {
   "cell_type": "code",
   "execution_count": 27,
   "id": "c063831e",
   "metadata": {
    "execution": {
     "iopub.execute_input": "2022-02-04T17:36:08.870030Z",
     "iopub.status.busy": "2022-02-04T17:36:08.869258Z",
     "iopub.status.idle": "2022-02-04T17:36:08.872128Z",
     "shell.execute_reply": "2022-02-04T17:36:08.872639Z",
     "shell.execute_reply.started": "2022-02-04T13:01:15.227806Z"
    },
    "papermill": {
     "duration": 0.081685,
     "end_time": "2022-02-04T17:36:08.872793",
     "exception": false,
     "start_time": "2022-02-04T17:36:08.791108",
     "status": "completed"
    },
    "tags": []
   },
   "outputs": [
    {
     "data": {
      "text/plain": [
       "0"
      ]
     },
     "execution_count": 27,
     "metadata": {},
     "output_type": "execute_result"
    }
   ],
   "source": [
    "df[\"MSZoning\"].fillna(df[\"MSZoning\"].mode()[0], inplace=True)\n",
    "df[\"MSZoning\"].isnull().sum()"
   ]
  },
  {
   "cell_type": "code",
   "execution_count": 28,
   "id": "d3aec2cf",
   "metadata": {
    "execution": {
     "iopub.execute_input": "2022-02-04T17:36:09.024954Z",
     "iopub.status.busy": "2022-02-04T17:36:09.024198Z",
     "iopub.status.idle": "2022-02-04T17:36:09.028325Z",
     "shell.execute_reply": "2022-02-04T17:36:09.027798Z",
     "shell.execute_reply.started": "2022-02-04T13:01:15.308988Z"
    },
    "papermill": {
     "duration": 0.08362,
     "end_time": "2022-02-04T17:36:09.028483",
     "exception": false,
     "start_time": "2022-02-04T17:36:08.944863",
     "status": "completed"
    },
    "tags": []
   },
   "outputs": [
    {
     "data": {
      "text/plain": [
       "0"
      ]
     },
     "execution_count": 28,
     "metadata": {},
     "output_type": "execute_result"
    }
   ],
   "source": [
    "df[\"Electrical\"].fillna(df[\"Electrical\"].mode()[0], inplace=True)\n",
    "df[\"Electrical\"].isnull().sum()"
   ]
  },
  {
   "cell_type": "code",
   "execution_count": 29,
   "id": "86a776dc",
   "metadata": {
    "execution": {
     "iopub.execute_input": "2022-02-04T17:36:09.179953Z",
     "iopub.status.busy": "2022-02-04T17:36:09.179461Z",
     "iopub.status.idle": "2022-02-04T17:36:09.182461Z",
     "shell.execute_reply": "2022-02-04T17:36:09.182883Z",
     "shell.execute_reply.started": "2022-02-04T13:01:15.421217Z"
    },
    "papermill": {
     "duration": 0.082394,
     "end_time": "2022-02-04T17:36:09.183032",
     "exception": false,
     "start_time": "2022-02-04T17:36:09.100638",
     "status": "completed"
    },
    "tags": []
   },
   "outputs": [
    {
     "data": {
      "text/plain": [
       "0"
      ]
     },
     "execution_count": 29,
     "metadata": {},
     "output_type": "execute_result"
    }
   ],
   "source": [
    "df[\"KitchenQual\"].fillna(df[\"KitchenQual\"].mode()[0], inplace=True)\n",
    "df[\"KitchenQual\"].isnull().sum()"
   ]
  },
  {
   "cell_type": "code",
   "execution_count": 30,
   "id": "e81fcbda",
   "metadata": {
    "execution": {
     "iopub.execute_input": "2022-02-04T17:36:09.279851Z",
     "iopub.status.busy": "2022-02-04T17:36:09.279395Z",
     "iopub.status.idle": "2022-02-04T17:36:09.286969Z",
     "shell.execute_reply": "2022-02-04T17:36:09.287392Z",
     "shell.execute_reply.started": "2022-02-04T13:01:15.629087Z"
    },
    "papermill": {
     "duration": 0.057186,
     "end_time": "2022-02-04T17:36:09.287540",
     "exception": false,
     "start_time": "2022-02-04T17:36:09.230354",
     "status": "completed"
    },
    "tags": []
   },
   "outputs": [
    {
     "data": {
      "text/plain": [
       "0"
      ]
     },
     "execution_count": 30,
     "metadata": {},
     "output_type": "execute_result"
    }
   ],
   "source": [
    "df[\"Functional\"].fillna(df[\"Functional\"].mode()[0], inplace=True)\n",
    "df[\"Functional\"].isnull().sum()"
   ]
  },
  {
   "cell_type": "code",
   "execution_count": 31,
   "id": "427321e4",
   "metadata": {
    "execution": {
     "iopub.execute_input": "2022-02-04T17:36:09.385243Z",
     "iopub.status.busy": "2022-02-04T17:36:09.384750Z",
     "iopub.status.idle": "2022-02-04T17:36:09.389948Z",
     "shell.execute_reply": "2022-02-04T17:36:09.390346Z",
     "shell.execute_reply.started": "2022-02-04T13:01:15.755773Z"
    },
    "papermill": {
     "duration": 0.055484,
     "end_time": "2022-02-04T17:36:09.390499",
     "exception": false,
     "start_time": "2022-02-04T17:36:09.335015",
     "status": "completed"
    },
    "tags": []
   },
   "outputs": [
    {
     "data": {
      "text/plain": [
       "0"
      ]
     },
     "execution_count": 31,
     "metadata": {},
     "output_type": "execute_result"
    }
   ],
   "source": [
    "df[\"SaleType\"].fillna(df[\"SaleType\"].mode()[0], inplace=True)\n",
    "df[\"SaleType\"].isnull().sum()"
   ]
  },
  {
   "cell_type": "code",
   "execution_count": 32,
   "id": "db08a3a8",
   "metadata": {
    "execution": {
     "iopub.execute_input": "2022-02-04T17:36:09.489032Z",
     "iopub.status.busy": "2022-02-04T17:36:09.488532Z",
     "iopub.status.idle": "2022-02-04T17:36:09.504979Z",
     "shell.execute_reply": "2022-02-04T17:36:09.505418Z",
     "shell.execute_reply.started": "2022-02-04T13:01:15.923975Z"
    },
    "papermill": {
     "duration": 0.067498,
     "end_time": "2022-02-04T17:36:09.505544",
     "exception": false,
     "start_time": "2022-02-04T17:36:09.438046",
     "status": "completed"
    },
    "tags": []
   },
   "outputs": [
    {
     "name": "stdout",
     "output_type": "stream",
     "text": [
      "SalePrice\n"
     ]
    }
   ],
   "source": [
    "l = ()\n",
    "for col in df.columns:\n",
    "    if df[col].isnull().any == True:\n",
    "        l += (col,)\n",
    "print(col)"
   ]
  },
  {
   "cell_type": "code",
   "execution_count": 33,
   "id": "38e8d088",
   "metadata": {
    "execution": {
     "iopub.execute_input": "2022-02-04T17:36:09.603978Z",
     "iopub.status.busy": "2022-02-04T17:36:09.603538Z",
     "iopub.status.idle": "2022-02-04T17:36:10.679219Z",
     "shell.execute_reply": "2022-02-04T17:36:10.678556Z",
     "shell.execute_reply.started": "2022-02-04T13:01:16.024593Z"
    },
    "papermill": {
     "duration": 1.125807,
     "end_time": "2022-02-04T17:36:10.679328",
     "exception": false,
     "start_time": "2022-02-04T17:36:09.553521",
     "status": "completed"
    },
    "tags": []
   },
   "outputs": [],
   "source": [
    "from sklearn.preprocessing import LabelEncoder\n",
    "lbe = LabelEncoder()"
   ]
  },
  {
   "cell_type": "code",
   "execution_count": 34,
   "id": "83838f0e",
   "metadata": {
    "execution": {
     "iopub.execute_input": "2022-02-04T17:36:10.784320Z",
     "iopub.status.busy": "2022-02-04T17:36:10.783754Z",
     "iopub.status.idle": "2022-02-04T17:36:10.840386Z",
     "shell.execute_reply": "2022-02-04T17:36:10.840791Z",
     "shell.execute_reply.started": "2022-02-04T13:01:16.830886Z"
    },
    "papermill": {
     "duration": 0.112749,
     "end_time": "2022-02-04T17:36:10.840923",
     "exception": false,
     "start_time": "2022-02-04T17:36:10.728174",
     "status": "completed"
    },
    "tags": []
   },
   "outputs": [],
   "source": [
    "df[df_cat.columns] = df[df_cat.columns].astype(str).apply(lbe.fit_transform)"
   ]
  },
  {
   "cell_type": "code",
   "execution_count": 35,
   "id": "bb1e6c67",
   "metadata": {
    "execution": {
     "iopub.execute_input": "2022-02-04T17:36:10.942279Z",
     "iopub.status.busy": "2022-02-04T17:36:10.941780Z",
     "iopub.status.idle": "2022-02-04T17:36:10.951186Z",
     "shell.execute_reply": "2022-02-04T17:36:10.950760Z",
     "shell.execute_reply.started": "2022-02-04T13:01:16.905059Z"
    },
    "papermill": {
     "duration": 0.062583,
     "end_time": "2022-02-04T17:36:10.951297",
     "exception": false,
     "start_time": "2022-02-04T17:36:10.888714",
     "status": "completed"
    },
    "tags": []
   },
   "outputs": [],
   "source": [
    "df[[\"BsmtFullBath\",\"BsmtHalfBath\",\"GarageCars\"]] = df[[\"BsmtFullBath\",\"BsmtHalfBath\",\"GarageCars\"]].astype(str).apply(lbe.fit_transform)"
   ]
  },
  {
   "cell_type": "code",
   "execution_count": 36,
   "id": "4e0c35de",
   "metadata": {
    "execution": {
     "iopub.execute_input": "2022-02-04T17:36:11.052579Z",
     "iopub.status.busy": "2022-02-04T17:36:11.051863Z",
     "iopub.status.idle": "2022-02-04T17:36:11.053877Z",
     "shell.execute_reply": "2022-02-04T17:36:11.054328Z",
     "shell.execute_reply.started": "2022-02-04T13:01:16.922935Z"
    },
    "papermill": {
     "duration": 0.054629,
     "end_time": "2022-02-04T17:36:11.054482",
     "exception": false,
     "start_time": "2022-02-04T17:36:10.999853",
     "status": "completed"
    },
    "tags": []
   },
   "outputs": [],
   "source": [
    "train_fixed = df[:1460]\n",
    "test_fixed = df[1460:]"
   ]
  },
  {
   "cell_type": "code",
   "execution_count": 37,
   "id": "4ffedff7",
   "metadata": {
    "execution": {
     "iopub.execute_input": "2022-02-04T17:36:11.153734Z",
     "iopub.status.busy": "2022-02-04T17:36:11.153238Z",
     "iopub.status.idle": "2022-02-04T17:36:11.158599Z",
     "shell.execute_reply": "2022-02-04T17:36:11.158974Z",
     "shell.execute_reply.started": "2022-02-04T13:01:16.928876Z"
    },
    "papermill": {
     "duration": 0.056437,
     "end_time": "2022-02-04T17:36:11.159094",
     "exception": false,
     "start_time": "2022-02-04T17:36:11.102657",
     "status": "completed"
    },
    "tags": []
   },
   "outputs": [],
   "source": [
    "X_train = train_fixed.drop(\"SalePrice\", axis=1)\n",
    "y_train = train_fixed[\"SalePrice\"]\n",
    "X_test = test_fixed.drop(\"SalePrice\", axis=1)\n",
    "y_test = test_fixed[\"SalePrice\"]"
   ]
  },
  {
   "cell_type": "code",
   "execution_count": 38,
   "id": "c48f611b",
   "metadata": {
    "execution": {
     "iopub.execute_input": "2022-02-04T17:36:11.259444Z",
     "iopub.status.busy": "2022-02-04T17:36:11.258698Z",
     "iopub.status.idle": "2022-02-04T17:36:11.309855Z",
     "shell.execute_reply": "2022-02-04T17:36:11.310215Z",
     "shell.execute_reply.started": "2022-02-04T13:01:16.940487Z"
    },
    "papermill": {
     "duration": 0.103105,
     "end_time": "2022-02-04T17:36:11.310354",
     "exception": false,
     "start_time": "2022-02-04T17:36:11.207249",
     "status": "completed"
    },
    "tags": []
   },
   "outputs": [],
   "source": [
    "from sklearn.model_selection import train_test_split, GridSearchCV, cross_val_score"
   ]
  },
  {
   "cell_type": "code",
   "execution_count": 39,
   "id": "158f94dc",
   "metadata": {
    "execution": {
     "iopub.execute_input": "2022-02-04T17:36:11.413153Z",
     "iopub.status.busy": "2022-02-04T17:36:11.409943Z",
     "iopub.status.idle": "2022-02-04T17:36:11.419539Z",
     "shell.execute_reply": "2022-02-04T17:36:11.419085Z",
     "shell.execute_reply.started": "2022-02-04T13:01:17.066058Z"
    },
    "papermill": {
     "duration": 0.060189,
     "end_time": "2022-02-04T17:36:11.419668",
     "exception": false,
     "start_time": "2022-02-04T17:36:11.359479",
     "status": "completed"
    },
    "tags": []
   },
   "outputs": [],
   "source": [
    "a_train, a_test, b_train, b_test = train_test_split(X_train, y_train, test_size=0.25)"
   ]
  },
  {
   "cell_type": "code",
   "execution_count": 40,
   "id": "70ca1efd",
   "metadata": {
    "execution": {
     "iopub.execute_input": "2022-02-04T17:36:11.522952Z",
     "iopub.status.busy": "2022-02-04T17:36:11.522464Z",
     "iopub.status.idle": "2022-02-04T17:36:11.526420Z",
     "shell.execute_reply": "2022-02-04T17:36:11.525700Z",
     "shell.execute_reply.started": "2022-02-04T13:01:17.240810Z"
    },
    "papermill": {
     "duration": 0.058664,
     "end_time": "2022-02-04T17:36:11.526632",
     "exception": false,
     "start_time": "2022-02-04T17:36:11.467968",
     "status": "completed"
    },
    "tags": []
   },
   "outputs": [
    {
     "data": {
      "text/plain": [
       "0"
      ]
     },
     "execution_count": 40,
     "metadata": {},
     "output_type": "execute_result"
    }
   ],
   "source": [
    "X_test[\"BsmtFullBath\"].fillna(X_test[\"BsmtFullBath\"].mode()[0], inplace=True)\n",
    "X_test[\"BsmtFullBath\"].isnull().sum()"
   ]
  },
  {
   "cell_type": "code",
   "execution_count": 41,
   "id": "34ad013a",
   "metadata": {
    "execution": {
     "iopub.execute_input": "2022-02-04T17:36:11.629202Z",
     "iopub.status.busy": "2022-02-04T17:36:11.628702Z",
     "iopub.status.idle": "2022-02-04T17:36:11.633702Z",
     "shell.execute_reply": "2022-02-04T17:36:11.634083Z",
     "shell.execute_reply.started": "2022-02-04T13:01:17.389381Z"
    },
    "papermill": {
     "duration": 0.057948,
     "end_time": "2022-02-04T17:36:11.634214",
     "exception": false,
     "start_time": "2022-02-04T17:36:11.576266",
     "status": "completed"
    },
    "tags": []
   },
   "outputs": [
    {
     "data": {
      "text/plain": [
       "0"
      ]
     },
     "execution_count": 41,
     "metadata": {},
     "output_type": "execute_result"
    }
   ],
   "source": [
    "X_test[\"BsmtHalfBath\"].fillna(X_test[\"BsmtHalfBath\"].mode()[0], inplace=True)\n",
    "X_test[\"BsmtHalfBath\"].isnull().sum()"
   ]
  },
  {
   "cell_type": "code",
   "execution_count": 42,
   "id": "bd71c5ee",
   "metadata": {
    "execution": {
     "iopub.execute_input": "2022-02-04T17:36:11.733654Z",
     "iopub.status.busy": "2022-02-04T17:36:11.733162Z",
     "iopub.status.idle": "2022-02-04T17:36:11.740332Z",
     "shell.execute_reply": "2022-02-04T17:36:11.739648Z",
     "shell.execute_reply.started": "2022-02-04T13:01:17.556994Z"
    },
    "papermill": {
     "duration": 0.060084,
     "end_time": "2022-02-04T17:36:11.740524",
     "exception": false,
     "start_time": "2022-02-04T17:36:11.680440",
     "status": "completed"
    },
    "tags": []
   },
   "outputs": [
    {
     "data": {
      "text/plain": [
       "0"
      ]
     },
     "execution_count": 42,
     "metadata": {},
     "output_type": "execute_result"
    }
   ],
   "source": [
    "X_test[\"GarageCars\"].fillna(X_test[\"GarageCars\"].mode()[0], inplace=True)\n",
    "X_test[\"GarageCars\"].isnull().sum()"
   ]
  },
  {
   "cell_type": "code",
   "execution_count": null,
   "id": "1f522ac1",
   "metadata": {
    "papermill": {
     "duration": 0.076179,
     "end_time": "2022-02-04T17:36:11.892836",
     "exception": false,
     "start_time": "2022-02-04T17:36:11.816657",
     "status": "completed"
    },
    "tags": []
   },
   "outputs": [],
   "source": []
  },
  {
   "cell_type": "code",
   "execution_count": 43,
   "id": "6b044cc5",
   "metadata": {
    "execution": {
     "iopub.execute_input": "2022-02-04T17:36:12.049235Z",
     "iopub.status.busy": "2022-02-04T17:36:12.048584Z",
     "iopub.status.idle": "2022-02-04T17:36:12.056175Z",
     "shell.execute_reply": "2022-02-04T17:36:12.055675Z",
     "shell.execute_reply.started": "2022-02-04T13:01:17.936402Z"
    },
    "papermill": {
     "duration": 0.087794,
     "end_time": "2022-02-04T17:36:12.056280",
     "exception": false,
     "start_time": "2022-02-04T17:36:11.968486",
     "status": "completed"
    },
    "tags": []
   },
   "outputs": [
    {
     "data": {
      "text/html": [
       "<div>\n",
       "<style scoped>\n",
       "    .dataframe tbody tr th:only-of-type {\n",
       "        vertical-align: middle;\n",
       "    }\n",
       "\n",
       "    .dataframe tbody tr th {\n",
       "        vertical-align: top;\n",
       "    }\n",
       "\n",
       "    .dataframe thead th {\n",
       "        text-align: right;\n",
       "    }\n",
       "</style>\n",
       "<table border=\"1\" class=\"dataframe\">\n",
       "  <thead>\n",
       "    <tr style=\"text-align: right;\">\n",
       "      <th></th>\n",
       "    </tr>\n",
       "    <tr>\n",
       "      <th>Id</th>\n",
       "    </tr>\n",
       "  </thead>\n",
       "  <tbody>\n",
       "    <tr>\n",
       "      <th>1</th>\n",
       "    </tr>\n",
       "    <tr>\n",
       "      <th>2</th>\n",
       "    </tr>\n",
       "    <tr>\n",
       "      <th>3</th>\n",
       "    </tr>\n",
       "    <tr>\n",
       "      <th>4</th>\n",
       "    </tr>\n",
       "    <tr>\n",
       "      <th>5</th>\n",
       "    </tr>\n",
       "    <tr>\n",
       "      <th>...</th>\n",
       "    </tr>\n",
       "    <tr>\n",
       "      <th>2915</th>\n",
       "    </tr>\n",
       "    <tr>\n",
       "      <th>2916</th>\n",
       "    </tr>\n",
       "    <tr>\n",
       "      <th>2917</th>\n",
       "    </tr>\n",
       "    <tr>\n",
       "      <th>2918</th>\n",
       "    </tr>\n",
       "    <tr>\n",
       "      <th>2919</th>\n",
       "    </tr>\n",
       "  </tbody>\n",
       "</table>\n",
       "<p>2919 rows × 0 columns</p>\n",
       "</div>"
      ],
      "text/plain": [
       "Empty DataFrame\n",
       "Columns: []\n",
       "Index: [1, 2, 3, 4, 5, 6, 7, 8, 9, 10, 11, 12, 13, 14, 15, 16, 17, 18, 19, 20, 21, 22, 23, 24, 25, 26, 27, 28, 29, 30, 31, 32, 33, 34, 35, 36, 37, 38, 39, 40, 41, 42, 43, 44, 45, 46, 47, 48, 49, 50, 51, 52, 53, 54, 55, 56, 57, 58, 59, 60, 61, 62, 63, 64, 65, 66, 67, 68, 69, 70, 71, 72, 73, 74, 75, 76, 77, 78, 79, 80, 81, 82, 83, 84, 85, 86, 87, 88, 89, 90, 91, 92, 93, 94, 95, 96, 97, 98, 99, 100, ...]\n",
       "\n",
       "[2919 rows x 0 columns]"
      ]
     },
     "execution_count": 43,
     "metadata": {},
     "output_type": "execute_result"
    }
   ],
   "source": [
    "df.select_dtypes(\"object\")"
   ]
  },
  {
   "cell_type": "markdown",
   "id": "5411ed72",
   "metadata": {
    "papermill": {
     "duration": 0.048204,
     "end_time": "2022-02-04T17:36:12.153331",
     "exception": false,
     "start_time": "2022-02-04T17:36:12.105127",
     "status": "completed"
    },
    "tags": []
   },
   "source": [
    "# XGBoost"
   ]
  },
  {
   "cell_type": "code",
   "execution_count": 44,
   "id": "dd997a6c",
   "metadata": {
    "execution": {
     "iopub.execute_input": "2022-02-04T17:36:12.255731Z",
     "iopub.status.busy": "2022-02-04T17:36:12.254987Z",
     "iopub.status.idle": "2022-02-04T17:36:12.348500Z",
     "shell.execute_reply": "2022-02-04T17:36:12.348052Z",
     "shell.execute_reply.started": "2022-02-04T13:01:18.219830Z"
    },
    "papermill": {
     "duration": 0.1468,
     "end_time": "2022-02-04T17:36:12.348626",
     "exception": false,
     "start_time": "2022-02-04T17:36:12.201826",
     "status": "completed"
    },
    "tags": []
   },
   "outputs": [],
   "source": [
    "from xgboost import XGBRegressor"
   ]
  },
  {
   "cell_type": "code",
   "execution_count": 45,
   "id": "a4f03412",
   "metadata": {
    "execution": {
     "iopub.execute_input": "2022-02-04T17:36:12.454334Z",
     "iopub.status.busy": "2022-02-04T17:36:12.453828Z",
     "iopub.status.idle": "2022-02-04T17:36:12.960739Z",
     "shell.execute_reply": "2022-02-04T17:36:12.960289Z",
     "shell.execute_reply.started": "2022-02-04T13:01:18.362661Z"
    },
    "papermill": {
     "duration": 0.563037,
     "end_time": "2022-02-04T17:36:12.960849",
     "exception": false,
     "start_time": "2022-02-04T17:36:12.397812",
     "status": "completed"
    },
    "tags": []
   },
   "outputs": [],
   "source": [
    "xgb_model = XGBRegressor().fit(a_train,b_train)"
   ]
  },
  {
   "cell_type": "markdown",
   "id": "7fa76fac",
   "metadata": {
    "papermill": {
     "duration": 0.04986,
     "end_time": "2022-02-04T17:36:13.060937",
     "exception": false,
     "start_time": "2022-02-04T17:36:13.011077",
     "status": "completed"
    },
    "tags": []
   },
   "source": [
    "# Predict"
   ]
  },
  {
   "cell_type": "code",
   "execution_count": 46,
   "id": "9f9be732",
   "metadata": {
    "execution": {
     "iopub.execute_input": "2022-02-04T17:36:13.163857Z",
     "iopub.status.busy": "2022-02-04T17:36:13.163347Z",
     "iopub.status.idle": "2022-02-04T17:36:13.181674Z",
     "shell.execute_reply": "2022-02-04T17:36:13.182198Z",
     "shell.execute_reply.started": "2022-02-04T13:01:47.857244Z"
    },
    "papermill": {
     "duration": 0.072177,
     "end_time": "2022-02-04T17:36:13.182348",
     "exception": false,
     "start_time": "2022-02-04T17:36:13.110171",
     "status": "completed"
    },
    "tags": []
   },
   "outputs": [
    {
     "data": {
      "text/plain": [
       "array([156295.12, 196909.88, 177052.16, 249203.17, 147141.75],\n",
       "      dtype=float32)"
      ]
     },
     "execution_count": 46,
     "metadata": {},
     "output_type": "execute_result"
    }
   ],
   "source": [
    "xgb_model.predict(a_test)[0:5]"
   ]
  },
  {
   "cell_type": "code",
   "execution_count": 47,
   "id": "b93bc13c",
   "metadata": {
    "execution": {
     "iopub.execute_input": "2022-02-04T17:36:13.282111Z",
     "iopub.status.busy": "2022-02-04T17:36:13.281610Z",
     "iopub.status.idle": "2022-02-04T17:36:13.300323Z",
     "shell.execute_reply": "2022-02-04T17:36:13.300782Z",
     "shell.execute_reply.started": "2022-02-04T13:01:49.682289Z"
    },
    "papermill": {
     "duration": 0.070793,
     "end_time": "2022-02-04T17:36:13.300943",
     "exception": false,
     "start_time": "2022-02-04T17:36:13.230150",
     "status": "completed"
    },
    "tags": []
   },
   "outputs": [],
   "source": [
    "b_pred = xgb_model.predict(a_test)"
   ]
  },
  {
   "cell_type": "code",
   "execution_count": 48,
   "id": "b062b930",
   "metadata": {
    "execution": {
     "iopub.execute_input": "2022-02-04T17:36:13.402451Z",
     "iopub.status.busy": "2022-02-04T17:36:13.401905Z",
     "iopub.status.idle": "2022-02-04T17:36:13.407773Z",
     "shell.execute_reply": "2022-02-04T17:36:13.408163Z",
     "shell.execute_reply.started": "2022-02-04T13:01:51.728797Z"
    },
    "papermill": {
     "duration": 0.058238,
     "end_time": "2022-02-04T17:36:13.408318",
     "exception": false,
     "start_time": "2022-02-04T17:36:13.350080",
     "status": "completed"
    },
    "tags": []
   },
   "outputs": [
    {
     "data": {
      "text/plain": [
       "32996.60631924617"
      ]
     },
     "execution_count": 48,
     "metadata": {},
     "output_type": "execute_result"
    }
   ],
   "source": [
    "from sklearn.metrics import mean_squared_error\n",
    "np.sqrt(mean_squared_error(b_test,b_pred))"
   ]
  },
  {
   "cell_type": "markdown",
   "id": "2e34b832",
   "metadata": {
    "papermill": {
     "duration": 0.05048,
     "end_time": "2022-02-04T17:36:13.508083",
     "exception": false,
     "start_time": "2022-02-04T17:36:13.457603",
     "status": "completed"
    },
    "tags": []
   },
   "source": [
    "# Model Tuning"
   ]
  },
  {
   "cell_type": "code",
   "execution_count": 49,
   "id": "d775d04e",
   "metadata": {
    "execution": {
     "iopub.execute_input": "2022-02-04T17:36:13.611197Z",
     "iopub.status.busy": "2022-02-04T17:36:13.610721Z",
     "iopub.status.idle": "2022-02-04T17:36:13.613590Z",
     "shell.execute_reply": "2022-02-04T17:36:13.613946Z",
     "shell.execute_reply.started": "2022-02-04T13:01:53.964590Z"
    },
    "papermill": {
     "duration": 0.055816,
     "end_time": "2022-02-04T17:36:13.614077",
     "exception": false,
     "start_time": "2022-02-04T17:36:13.558261",
     "status": "completed"
    },
    "tags": []
   },
   "outputs": [],
   "source": [
    "xgb_params = {\"colsample_bytree\": [0.4, 0.6, 0.9, 1],\n",
    "              \"max_depth\" : [2,3,4,5],\n",
    "              \"learning_rate\": [0.1, 0.01, 0.5],\n",
    "              \"n_estimators\" : [100,200,500,1000,2000]}"
   ]
  },
  {
   "cell_type": "code",
   "execution_count": 50,
   "id": "005bf5a1",
   "metadata": {
    "execution": {
     "iopub.execute_input": "2022-02-04T17:36:13.719962Z",
     "iopub.status.busy": "2022-02-04T17:36:13.719453Z",
     "iopub.status.idle": "2022-02-04T17:36:13.722722Z",
     "shell.execute_reply": "2022-02-04T17:36:13.722259Z",
     "shell.execute_reply.started": "2022-02-04T13:01:55.831996Z"
    },
    "papermill": {
     "duration": 0.058406,
     "end_time": "2022-02-04T17:36:13.722824",
     "exception": false,
     "start_time": "2022-02-04T17:36:13.664418",
     "status": "completed"
    },
    "tags": []
   },
   "outputs": [],
   "source": [
    "xgb_model = XGBRegressor()"
   ]
  },
  {
   "cell_type": "code",
   "execution_count": 51,
   "id": "d6fe8d4e",
   "metadata": {
    "execution": {
     "iopub.execute_input": "2022-02-04T17:36:13.826198Z",
     "iopub.status.busy": "2022-02-04T17:36:13.825529Z",
     "iopub.status.idle": "2022-02-04T17:36:13.830947Z",
     "shell.execute_reply": "2022-02-04T17:36:13.830423Z",
     "shell.execute_reply.started": "2022-02-04T13:02:05.464171Z"
    },
    "papermill": {
     "duration": 0.058334,
     "end_time": "2022-02-04T17:36:13.831066",
     "exception": false,
     "start_time": "2022-02-04T17:36:13.772732",
     "status": "completed"
    },
    "tags": []
   },
   "outputs": [],
   "source": [
    "# xgb_cv_model = GridSearchCV(xgb_model, xgb_params, cv=10, n_jobs=-1, verbose=2)"
   ]
  },
  {
   "cell_type": "code",
   "execution_count": 52,
   "id": "1e7ed7ac",
   "metadata": {
    "collapsed": true,
    "execution": {
     "iopub.execute_input": "2022-02-04T17:36:13.935530Z",
     "iopub.status.busy": "2022-02-04T17:36:13.934939Z",
     "iopub.status.idle": "2022-02-04T17:36:13.937566Z",
     "shell.execute_reply": "2022-02-04T17:36:13.937909Z",
     "shell.execute_reply.started": "2022-02-04T13:02:07.515158Z"
    },
    "jupyter": {
     "outputs_hidden": true
    },
    "papermill": {
     "duration": 0.056332,
     "end_time": "2022-02-04T17:36:13.938037",
     "exception": false,
     "start_time": "2022-02-04T17:36:13.881705",
     "status": "completed"
    },
    "tags": []
   },
   "outputs": [],
   "source": [
    "#xgb_cv_model.fit(a_train,b_train)"
   ]
  },
  {
   "cell_type": "code",
   "execution_count": 53,
   "id": "31c7376c",
   "metadata": {
    "execution": {
     "iopub.execute_input": "2022-02-04T17:36:14.041856Z",
     "iopub.status.busy": "2022-02-04T17:36:14.041129Z",
     "iopub.status.idle": "2022-02-04T17:36:14.045165Z",
     "shell.execute_reply": "2022-02-04T17:36:14.045578Z",
     "shell.execute_reply.started": "2022-02-04T16:58:54.027575Z"
    },
    "papermill": {
     "duration": 0.057179,
     "end_time": "2022-02-04T17:36:14.045714",
     "exception": false,
     "start_time": "2022-02-04T17:36:13.988535",
     "status": "completed"
    },
    "tags": []
   },
   "outputs": [],
   "source": [
    "#xgb_cv_model.best_params_\n",
    "# output is \n",
    "#{'colsample_bytree': 0.4,\n",
    "#'learning_rate': 0.01,\n",
    "#'max_depth': 4,\n",
    "#'n_estimators': 2000}"
   ]
  },
  {
   "cell_type": "code",
   "execution_count": 54,
   "id": "7b38343b",
   "metadata": {
    "execution": {
     "iopub.execute_input": "2022-02-04T17:36:14.148006Z",
     "iopub.status.busy": "2022-02-04T17:36:14.147401Z",
     "iopub.status.idle": "2022-02-04T17:36:14.152013Z",
     "shell.execute_reply": "2022-02-04T17:36:14.151570Z",
     "shell.execute_reply.started": "2022-02-04T17:30:05.140962Z"
    },
    "papermill": {
     "duration": 0.057104,
     "end_time": "2022-02-04T17:36:14.152120",
     "exception": false,
     "start_time": "2022-02-04T17:36:14.095016",
     "status": "completed"
    },
    "tags": []
   },
   "outputs": [],
   "source": [
    "xgb_tuned = XGBRegressor(max_depth = 4,\n",
    "                         learning_rate = 0.01,\n",
    "                         n_estimators = 2000,\n",
    "                         colsample_bytree = 0.4)"
   ]
  },
  {
   "cell_type": "code",
   "execution_count": 55,
   "id": "bd89514d",
   "metadata": {
    "execution": {
     "iopub.execute_input": "2022-02-04T17:36:14.248386Z",
     "iopub.status.busy": "2022-02-04T17:36:14.247920Z",
     "iopub.status.idle": "2022-02-04T17:36:20.373095Z",
     "shell.execute_reply": "2022-02-04T17:36:20.373559Z",
     "shell.execute_reply.started": "2022-02-04T17:30:08.271607Z"
    },
    "papermill": {
     "duration": 6.175251,
     "end_time": "2022-02-04T17:36:20.373685",
     "exception": false,
     "start_time": "2022-02-04T17:36:14.198434",
     "status": "completed"
    },
    "tags": []
   },
   "outputs": [
    {
     "data": {
      "text/plain": [
       "XGBRegressor(base_score=0.5, booster='gbtree', colsample_bylevel=1,\n",
       "             colsample_bynode=1, colsample_bytree=0.4, enable_categorical=False,\n",
       "             gamma=0, gpu_id=-1, importance_type=None,\n",
       "             interaction_constraints='', learning_rate=0.01, max_delta_step=0,\n",
       "             max_depth=4, min_child_weight=1, missing=nan,\n",
       "             monotone_constraints='()', n_estimators=2000, n_jobs=4,\n",
       "             num_parallel_tree=1, predictor='auto', random_state=0, reg_alpha=0,\n",
       "             reg_lambda=1, scale_pos_weight=1, subsample=1, tree_method='exact',\n",
       "             validate_parameters=1, verbosity=None)"
      ]
     },
     "execution_count": 55,
     "metadata": {},
     "output_type": "execute_result"
    }
   ],
   "source": [
    "xgb_tuned.fit(a_train, b_train)"
   ]
  },
  {
   "cell_type": "code",
   "execution_count": 56,
   "id": "63860af5",
   "metadata": {
    "execution": {
     "iopub.execute_input": "2022-02-04T17:36:20.472082Z",
     "iopub.status.busy": "2022-02-04T17:36:20.471591Z",
     "iopub.status.idle": "2022-02-04T17:36:20.491450Z",
     "shell.execute_reply": "2022-02-04T17:36:20.491934Z",
     "shell.execute_reply.started": "2022-02-04T17:30:37.790126Z"
    },
    "papermill": {
     "duration": 0.071344,
     "end_time": "2022-02-04T17:36:20.492094",
     "exception": false,
     "start_time": "2022-02-04T17:36:20.420750",
     "status": "completed"
    },
    "tags": []
   },
   "outputs": [],
   "source": [
    "b_pred = xgb_tuned.predict(a_test)"
   ]
  },
  {
   "cell_type": "code",
   "execution_count": 57,
   "id": "0accf19f",
   "metadata": {
    "execution": {
     "iopub.execute_input": "2022-02-04T17:36:20.599377Z",
     "iopub.status.busy": "2022-02-04T17:36:20.598726Z",
     "iopub.status.idle": "2022-02-04T17:36:20.602145Z",
     "shell.execute_reply": "2022-02-04T17:36:20.602508Z",
     "shell.execute_reply.started": "2022-02-04T17:30:40.900670Z"
    },
    "papermill": {
     "duration": 0.058621,
     "end_time": "2022-02-04T17:36:20.602640",
     "exception": false,
     "start_time": "2022-02-04T17:36:20.544019",
     "status": "completed"
    },
    "tags": []
   },
   "outputs": [
    {
     "data": {
      "text/plain": [
       "31304.13399929225"
      ]
     },
     "execution_count": 57,
     "metadata": {},
     "output_type": "execute_result"
    }
   ],
   "source": [
    "np.sqrt(mean_squared_error(b_test,b_pred))"
   ]
  },
  {
   "cell_type": "code",
   "execution_count": 58,
   "id": "fe38735f",
   "metadata": {
    "execution": {
     "iopub.execute_input": "2022-02-04T17:36:20.706987Z",
     "iopub.status.busy": "2022-02-04T17:36:20.706558Z",
     "iopub.status.idle": "2022-02-04T17:36:20.739129Z",
     "shell.execute_reply": "2022-02-04T17:36:20.739551Z",
     "shell.execute_reply.started": "2022-02-04T17:31:17.204989Z"
    },
    "papermill": {
     "duration": 0.086812,
     "end_time": "2022-02-04T17:36:20.739690",
     "exception": false,
     "start_time": "2022-02-04T17:36:20.652878",
     "status": "completed"
    },
    "tags": []
   },
   "outputs": [],
   "source": [
    "y_pred = xgb_tuned.predict(X_test)"
   ]
  },
  {
   "cell_type": "code",
   "execution_count": 59,
   "id": "f7634048",
   "metadata": {
    "execution": {
     "iopub.execute_input": "2022-02-04T17:36:20.841265Z",
     "iopub.status.busy": "2022-02-04T17:36:20.840845Z",
     "iopub.status.idle": "2022-02-04T17:36:20.849403Z",
     "shell.execute_reply": "2022-02-04T17:36:20.849734Z",
     "shell.execute_reply.started": "2022-02-04T17:31:59.526765Z"
    },
    "papermill": {
     "duration": 0.06119,
     "end_time": "2022-02-04T17:36:20.849861",
     "exception": false,
     "start_time": "2022-02-04T17:36:20.788671",
     "status": "completed"
    },
    "tags": []
   },
   "outputs": [],
   "source": [
    "output = pd.DataFrame({'Id': test.index,\n",
    "                       'SalePrice': y_pred})\n",
    "output.to_csv('submission.csv', index=False)"
   ]
  },
  {
   "cell_type": "code",
   "execution_count": null,
   "id": "c920a449",
   "metadata": {
    "papermill": {
     "duration": 0.047599,
     "end_time": "2022-02-04T17:36:20.945433",
     "exception": false,
     "start_time": "2022-02-04T17:36:20.897834",
     "status": "completed"
    },
    "tags": []
   },
   "outputs": [],
   "source": []
  }
 ],
 "metadata": {
  "kernelspec": {
   "display_name": "Python 3",
   "language": "python",
   "name": "python3"
  },
  "language_info": {
   "codemirror_mode": {
    "name": "ipython",
    "version": 3
   },
   "file_extension": ".py",
   "mimetype": "text/x-python",
   "name": "python",
   "nbconvert_exporter": "python",
   "pygments_lexer": "ipython3",
   "version": "3.7.12"
  },
  "papermill": {
   "default_parameters": {},
   "duration": 27.17157,
   "end_time": "2022-02-04T17:36:21.802442",
   "environment_variables": {},
   "exception": null,
   "input_path": "__notebook__.ipynb",
   "output_path": "__notebook__.ipynb",
   "parameters": {},
   "start_time": "2022-02-04T17:35:54.630872",
   "version": "2.3.3"
  }
 },
 "nbformat": 4,
 "nbformat_minor": 5
}
