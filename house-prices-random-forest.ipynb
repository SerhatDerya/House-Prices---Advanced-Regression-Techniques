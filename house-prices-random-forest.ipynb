{
 "cells": [
  {
   "cell_type": "code",
   "execution_count": 1,
   "id": "1bb3fe72",
   "metadata": {
    "_cell_guid": "b1076dfc-b9ad-4769-8c92-a6c4dae69d19",
    "_uuid": "8f2839f25d086af736a60e9eeb907d3b93b6e0e5",
    "execution": {
     "iopub.execute_input": "2022-02-04T08:34:36.656885Z",
     "iopub.status.busy": "2022-02-04T08:34:36.655676Z",
     "iopub.status.idle": "2022-02-04T08:34:36.668431Z",
     "shell.execute_reply": "2022-02-04T08:34:36.667465Z",
     "shell.execute_reply.started": "2022-02-04T05:46:39.942162Z"
    },
    "papermill": {
     "duration": 0.063772,
     "end_time": "2022-02-04T08:34:36.668625",
     "exception": false,
     "start_time": "2022-02-04T08:34:36.604853",
     "status": "completed"
    },
    "tags": []
   },
   "outputs": [
    {
     "name": "stdout",
     "output_type": "stream",
     "text": [
      "/kaggle/input/house-prices-advanced-regression-techniques/sample_submission.csv\n",
      "/kaggle/input/house-prices-advanced-regression-techniques/data_description.txt\n",
      "/kaggle/input/house-prices-advanced-regression-techniques/train.csv\n",
      "/kaggle/input/house-prices-advanced-regression-techniques/test.csv\n"
     ]
    }
   ],
   "source": [
    "# This Python 3 environment comes with many helpful analytics libraries installed\n",
    "# It is defined by the kaggle/python Docker image: https://github.com/kaggle/docker-python\n",
    "# For example, here's several helpful packages to load\n",
    "\n",
    "import numpy as np # linear algebra\n",
    "import pandas as pd # data processing, CSV file I/O (e.g. pd.read_csv)\n",
    "\n",
    "# Input data files are available in the read-only \"../input/\" directory\n",
    "# For example, running this (by clicking run or pressing Shift+Enter) will list all files under the input directory\n",
    "\n",
    "import os\n",
    "for dirname, _, filenames in os.walk('/kaggle/input'):\n",
    "    for filename in filenames:\n",
    "        print(os.path.join(dirname, filename))\n",
    "\n",
    "# You can write up to 20GB to the current directory (/kaggle/working/) that gets preserved as output when you create a version using \"Save & Run All\" \n",
    "# You can also write temporary files to /kaggle/temp/, but they won't be saved outside of the current session"
   ]
  },
  {
   "cell_type": "code",
   "execution_count": 2,
   "id": "f3545f00",
   "metadata": {
    "execution": {
     "iopub.execute_input": "2022-02-04T08:34:36.771197Z",
     "iopub.status.busy": "2022-02-04T08:34:36.770562Z",
     "iopub.status.idle": "2022-02-04T08:34:36.900355Z",
     "shell.execute_reply": "2022-02-04T08:34:36.901045Z",
     "shell.execute_reply.started": "2022-02-04T05:46:39.953106Z"
    },
    "papermill": {
     "duration": 0.183501,
     "end_time": "2022-02-04T08:34:36.901274",
     "exception": false,
     "start_time": "2022-02-04T08:34:36.717773",
     "status": "completed"
    },
    "tags": []
   },
   "outputs": [
    {
     "data": {
      "text/html": [
       "<div>\n",
       "<style scoped>\n",
       "    .dataframe tbody tr th:only-of-type {\n",
       "        vertical-align: middle;\n",
       "    }\n",
       "\n",
       "    .dataframe tbody tr th {\n",
       "        vertical-align: top;\n",
       "    }\n",
       "\n",
       "    .dataframe thead th {\n",
       "        text-align: right;\n",
       "    }\n",
       "</style>\n",
       "<table border=\"1\" class=\"dataframe\">\n",
       "  <thead>\n",
       "    <tr style=\"text-align: right;\">\n",
       "      <th></th>\n",
       "      <th>Id</th>\n",
       "      <th>MSSubClass</th>\n",
       "      <th>MSZoning</th>\n",
       "      <th>LotFrontage</th>\n",
       "      <th>LotArea</th>\n",
       "      <th>Street</th>\n",
       "      <th>Alley</th>\n",
       "      <th>LotShape</th>\n",
       "      <th>LandContour</th>\n",
       "      <th>Utilities</th>\n",
       "      <th>...</th>\n",
       "      <th>PoolArea</th>\n",
       "      <th>PoolQC</th>\n",
       "      <th>Fence</th>\n",
       "      <th>MiscFeature</th>\n",
       "      <th>MiscVal</th>\n",
       "      <th>MoSold</th>\n",
       "      <th>YrSold</th>\n",
       "      <th>SaleType</th>\n",
       "      <th>SaleCondition</th>\n",
       "      <th>SalePrice</th>\n",
       "    </tr>\n",
       "  </thead>\n",
       "  <tbody>\n",
       "    <tr>\n",
       "      <th>0</th>\n",
       "      <td>1</td>\n",
       "      <td>60</td>\n",
       "      <td>RL</td>\n",
       "      <td>65.0</td>\n",
       "      <td>8450</td>\n",
       "      <td>Pave</td>\n",
       "      <td>NaN</td>\n",
       "      <td>Reg</td>\n",
       "      <td>Lvl</td>\n",
       "      <td>AllPub</td>\n",
       "      <td>...</td>\n",
       "      <td>0</td>\n",
       "      <td>NaN</td>\n",
       "      <td>NaN</td>\n",
       "      <td>NaN</td>\n",
       "      <td>0</td>\n",
       "      <td>2</td>\n",
       "      <td>2008</td>\n",
       "      <td>WD</td>\n",
       "      <td>Normal</td>\n",
       "      <td>208500.0</td>\n",
       "    </tr>\n",
       "    <tr>\n",
       "      <th>1</th>\n",
       "      <td>2</td>\n",
       "      <td>20</td>\n",
       "      <td>RL</td>\n",
       "      <td>80.0</td>\n",
       "      <td>9600</td>\n",
       "      <td>Pave</td>\n",
       "      <td>NaN</td>\n",
       "      <td>Reg</td>\n",
       "      <td>Lvl</td>\n",
       "      <td>AllPub</td>\n",
       "      <td>...</td>\n",
       "      <td>0</td>\n",
       "      <td>NaN</td>\n",
       "      <td>NaN</td>\n",
       "      <td>NaN</td>\n",
       "      <td>0</td>\n",
       "      <td>5</td>\n",
       "      <td>2007</td>\n",
       "      <td>WD</td>\n",
       "      <td>Normal</td>\n",
       "      <td>181500.0</td>\n",
       "    </tr>\n",
       "    <tr>\n",
       "      <th>2</th>\n",
       "      <td>3</td>\n",
       "      <td>60</td>\n",
       "      <td>RL</td>\n",
       "      <td>68.0</td>\n",
       "      <td>11250</td>\n",
       "      <td>Pave</td>\n",
       "      <td>NaN</td>\n",
       "      <td>IR1</td>\n",
       "      <td>Lvl</td>\n",
       "      <td>AllPub</td>\n",
       "      <td>...</td>\n",
       "      <td>0</td>\n",
       "      <td>NaN</td>\n",
       "      <td>NaN</td>\n",
       "      <td>NaN</td>\n",
       "      <td>0</td>\n",
       "      <td>9</td>\n",
       "      <td>2008</td>\n",
       "      <td>WD</td>\n",
       "      <td>Normal</td>\n",
       "      <td>223500.0</td>\n",
       "    </tr>\n",
       "    <tr>\n",
       "      <th>3</th>\n",
       "      <td>4</td>\n",
       "      <td>70</td>\n",
       "      <td>RL</td>\n",
       "      <td>60.0</td>\n",
       "      <td>9550</td>\n",
       "      <td>Pave</td>\n",
       "      <td>NaN</td>\n",
       "      <td>IR1</td>\n",
       "      <td>Lvl</td>\n",
       "      <td>AllPub</td>\n",
       "      <td>...</td>\n",
       "      <td>0</td>\n",
       "      <td>NaN</td>\n",
       "      <td>NaN</td>\n",
       "      <td>NaN</td>\n",
       "      <td>0</td>\n",
       "      <td>2</td>\n",
       "      <td>2006</td>\n",
       "      <td>WD</td>\n",
       "      <td>Abnorml</td>\n",
       "      <td>140000.0</td>\n",
       "    </tr>\n",
       "    <tr>\n",
       "      <th>4</th>\n",
       "      <td>5</td>\n",
       "      <td>60</td>\n",
       "      <td>RL</td>\n",
       "      <td>84.0</td>\n",
       "      <td>14260</td>\n",
       "      <td>Pave</td>\n",
       "      <td>NaN</td>\n",
       "      <td>IR1</td>\n",
       "      <td>Lvl</td>\n",
       "      <td>AllPub</td>\n",
       "      <td>...</td>\n",
       "      <td>0</td>\n",
       "      <td>NaN</td>\n",
       "      <td>NaN</td>\n",
       "      <td>NaN</td>\n",
       "      <td>0</td>\n",
       "      <td>12</td>\n",
       "      <td>2008</td>\n",
       "      <td>WD</td>\n",
       "      <td>Normal</td>\n",
       "      <td>250000.0</td>\n",
       "    </tr>\n",
       "    <tr>\n",
       "      <th>...</th>\n",
       "      <td>...</td>\n",
       "      <td>...</td>\n",
       "      <td>...</td>\n",
       "      <td>...</td>\n",
       "      <td>...</td>\n",
       "      <td>...</td>\n",
       "      <td>...</td>\n",
       "      <td>...</td>\n",
       "      <td>...</td>\n",
       "      <td>...</td>\n",
       "      <td>...</td>\n",
       "      <td>...</td>\n",
       "      <td>...</td>\n",
       "      <td>...</td>\n",
       "      <td>...</td>\n",
       "      <td>...</td>\n",
       "      <td>...</td>\n",
       "      <td>...</td>\n",
       "      <td>...</td>\n",
       "      <td>...</td>\n",
       "      <td>...</td>\n",
       "    </tr>\n",
       "    <tr>\n",
       "      <th>1454</th>\n",
       "      <td>2915</td>\n",
       "      <td>160</td>\n",
       "      <td>RM</td>\n",
       "      <td>21.0</td>\n",
       "      <td>1936</td>\n",
       "      <td>Pave</td>\n",
       "      <td>NaN</td>\n",
       "      <td>Reg</td>\n",
       "      <td>Lvl</td>\n",
       "      <td>AllPub</td>\n",
       "      <td>...</td>\n",
       "      <td>0</td>\n",
       "      <td>NaN</td>\n",
       "      <td>NaN</td>\n",
       "      <td>NaN</td>\n",
       "      <td>0</td>\n",
       "      <td>6</td>\n",
       "      <td>2006</td>\n",
       "      <td>WD</td>\n",
       "      <td>Normal</td>\n",
       "      <td>NaN</td>\n",
       "    </tr>\n",
       "    <tr>\n",
       "      <th>1455</th>\n",
       "      <td>2916</td>\n",
       "      <td>160</td>\n",
       "      <td>RM</td>\n",
       "      <td>21.0</td>\n",
       "      <td>1894</td>\n",
       "      <td>Pave</td>\n",
       "      <td>NaN</td>\n",
       "      <td>Reg</td>\n",
       "      <td>Lvl</td>\n",
       "      <td>AllPub</td>\n",
       "      <td>...</td>\n",
       "      <td>0</td>\n",
       "      <td>NaN</td>\n",
       "      <td>NaN</td>\n",
       "      <td>NaN</td>\n",
       "      <td>0</td>\n",
       "      <td>4</td>\n",
       "      <td>2006</td>\n",
       "      <td>WD</td>\n",
       "      <td>Abnorml</td>\n",
       "      <td>NaN</td>\n",
       "    </tr>\n",
       "    <tr>\n",
       "      <th>1456</th>\n",
       "      <td>2917</td>\n",
       "      <td>20</td>\n",
       "      <td>RL</td>\n",
       "      <td>160.0</td>\n",
       "      <td>20000</td>\n",
       "      <td>Pave</td>\n",
       "      <td>NaN</td>\n",
       "      <td>Reg</td>\n",
       "      <td>Lvl</td>\n",
       "      <td>AllPub</td>\n",
       "      <td>...</td>\n",
       "      <td>0</td>\n",
       "      <td>NaN</td>\n",
       "      <td>NaN</td>\n",
       "      <td>NaN</td>\n",
       "      <td>0</td>\n",
       "      <td>9</td>\n",
       "      <td>2006</td>\n",
       "      <td>WD</td>\n",
       "      <td>Abnorml</td>\n",
       "      <td>NaN</td>\n",
       "    </tr>\n",
       "    <tr>\n",
       "      <th>1457</th>\n",
       "      <td>2918</td>\n",
       "      <td>85</td>\n",
       "      <td>RL</td>\n",
       "      <td>62.0</td>\n",
       "      <td>10441</td>\n",
       "      <td>Pave</td>\n",
       "      <td>NaN</td>\n",
       "      <td>Reg</td>\n",
       "      <td>Lvl</td>\n",
       "      <td>AllPub</td>\n",
       "      <td>...</td>\n",
       "      <td>0</td>\n",
       "      <td>NaN</td>\n",
       "      <td>MnPrv</td>\n",
       "      <td>Shed</td>\n",
       "      <td>700</td>\n",
       "      <td>7</td>\n",
       "      <td>2006</td>\n",
       "      <td>WD</td>\n",
       "      <td>Normal</td>\n",
       "      <td>NaN</td>\n",
       "    </tr>\n",
       "    <tr>\n",
       "      <th>1458</th>\n",
       "      <td>2919</td>\n",
       "      <td>60</td>\n",
       "      <td>RL</td>\n",
       "      <td>74.0</td>\n",
       "      <td>9627</td>\n",
       "      <td>Pave</td>\n",
       "      <td>NaN</td>\n",
       "      <td>Reg</td>\n",
       "      <td>Lvl</td>\n",
       "      <td>AllPub</td>\n",
       "      <td>...</td>\n",
       "      <td>0</td>\n",
       "      <td>NaN</td>\n",
       "      <td>NaN</td>\n",
       "      <td>NaN</td>\n",
       "      <td>0</td>\n",
       "      <td>11</td>\n",
       "      <td>2006</td>\n",
       "      <td>WD</td>\n",
       "      <td>Normal</td>\n",
       "      <td>NaN</td>\n",
       "    </tr>\n",
       "  </tbody>\n",
       "</table>\n",
       "<p>2919 rows × 81 columns</p>\n",
       "</div>"
      ],
      "text/plain": [
       "        Id  MSSubClass MSZoning  LotFrontage  LotArea Street Alley LotShape  \\\n",
       "0        1          60       RL         65.0     8450   Pave   NaN      Reg   \n",
       "1        2          20       RL         80.0     9600   Pave   NaN      Reg   \n",
       "2        3          60       RL         68.0    11250   Pave   NaN      IR1   \n",
       "3        4          70       RL         60.0     9550   Pave   NaN      IR1   \n",
       "4        5          60       RL         84.0    14260   Pave   NaN      IR1   \n",
       "...    ...         ...      ...          ...      ...    ...   ...      ...   \n",
       "1454  2915         160       RM         21.0     1936   Pave   NaN      Reg   \n",
       "1455  2916         160       RM         21.0     1894   Pave   NaN      Reg   \n",
       "1456  2917          20       RL        160.0    20000   Pave   NaN      Reg   \n",
       "1457  2918          85       RL         62.0    10441   Pave   NaN      Reg   \n",
       "1458  2919          60       RL         74.0     9627   Pave   NaN      Reg   \n",
       "\n",
       "     LandContour Utilities  ... PoolArea PoolQC  Fence MiscFeature MiscVal  \\\n",
       "0            Lvl    AllPub  ...        0    NaN    NaN         NaN       0   \n",
       "1            Lvl    AllPub  ...        0    NaN    NaN         NaN       0   \n",
       "2            Lvl    AllPub  ...        0    NaN    NaN         NaN       0   \n",
       "3            Lvl    AllPub  ...        0    NaN    NaN         NaN       0   \n",
       "4            Lvl    AllPub  ...        0    NaN    NaN         NaN       0   \n",
       "...          ...       ...  ...      ...    ...    ...         ...     ...   \n",
       "1454         Lvl    AllPub  ...        0    NaN    NaN         NaN       0   \n",
       "1455         Lvl    AllPub  ...        0    NaN    NaN         NaN       0   \n",
       "1456         Lvl    AllPub  ...        0    NaN    NaN         NaN       0   \n",
       "1457         Lvl    AllPub  ...        0    NaN  MnPrv        Shed     700   \n",
       "1458         Lvl    AllPub  ...        0    NaN    NaN         NaN       0   \n",
       "\n",
       "     MoSold YrSold  SaleType  SaleCondition  SalePrice  \n",
       "0         2   2008        WD         Normal   208500.0  \n",
       "1         5   2007        WD         Normal   181500.0  \n",
       "2         9   2008        WD         Normal   223500.0  \n",
       "3         2   2006        WD        Abnorml   140000.0  \n",
       "4        12   2008        WD         Normal   250000.0  \n",
       "...     ...    ...       ...            ...        ...  \n",
       "1454      6   2006        WD         Normal        NaN  \n",
       "1455      4   2006        WD        Abnorml        NaN  \n",
       "1456      9   2006        WD        Abnorml        NaN  \n",
       "1457      7   2006        WD         Normal        NaN  \n",
       "1458     11   2006        WD         Normal        NaN  \n",
       "\n",
       "[2919 rows x 81 columns]"
      ]
     },
     "execution_count": 2,
     "metadata": {},
     "output_type": "execute_result"
    }
   ],
   "source": [
    "train = pd.read_csv(\"../input/house-prices-advanced-regression-techniques/train.csv\")\n",
    "test = pd.read_csv(\"../input/house-prices-advanced-regression-techniques/test.csv\")\n",
    "df = train.append(test)\n",
    "df"
   ]
  },
  {
   "cell_type": "code",
   "execution_count": 3,
   "id": "93ac55a2",
   "metadata": {
    "execution": {
     "iopub.execute_input": "2022-02-04T08:34:37.028003Z",
     "iopub.status.busy": "2022-02-04T08:34:37.027376Z",
     "iopub.status.idle": "2022-02-04T08:34:37.039859Z",
     "shell.execute_reply": "2022-02-04T08:34:37.040299Z",
     "shell.execute_reply.started": "2022-02-04T05:46:40.037518Z"
    },
    "papermill": {
     "duration": 0.075002,
     "end_time": "2022-02-04T08:34:37.040516",
     "exception": false,
     "start_time": "2022-02-04T08:34:36.965514",
     "status": "completed"
    },
    "tags": []
   },
   "outputs": [],
   "source": [
    "df.index = df[\"Id\"]\n",
    "df = df.drop(\"Id\", axis=1)\n",
    "\n",
    "train.index = train[\"Id\"]\n",
    "train = train.drop(\"Id\", axis=1)\n",
    "\n",
    "test.index = test[\"Id\"]\n",
    "test = test.drop(\"Id\", axis=1)"
   ]
  },
  {
   "cell_type": "code",
   "execution_count": 4,
   "id": "9a7a944f",
   "metadata": {
    "execution": {
     "iopub.execute_input": "2022-02-04T08:34:37.141824Z",
     "iopub.status.busy": "2022-02-04T08:34:37.141196Z",
     "iopub.status.idle": "2022-02-04T08:34:37.171723Z",
     "shell.execute_reply": "2022-02-04T08:34:37.172181Z",
     "shell.execute_reply.started": "2022-02-04T05:46:40.054512Z"
    },
    "papermill": {
     "duration": 0.081874,
     "end_time": "2022-02-04T08:34:37.172348",
     "exception": false,
     "start_time": "2022-02-04T08:34:37.090474",
     "status": "completed"
    },
    "tags": []
   },
   "outputs": [
    {
     "data": {
      "text/html": [
       "<div>\n",
       "<style scoped>\n",
       "    .dataframe tbody tr th:only-of-type {\n",
       "        vertical-align: middle;\n",
       "    }\n",
       "\n",
       "    .dataframe tbody tr th {\n",
       "        vertical-align: top;\n",
       "    }\n",
       "\n",
       "    .dataframe thead th {\n",
       "        text-align: right;\n",
       "    }\n",
       "</style>\n",
       "<table border=\"1\" class=\"dataframe\">\n",
       "  <thead>\n",
       "    <tr style=\"text-align: right;\">\n",
       "      <th></th>\n",
       "      <th>MSSubClass</th>\n",
       "      <th>MSZoning</th>\n",
       "      <th>LotFrontage</th>\n",
       "      <th>LotArea</th>\n",
       "      <th>Street</th>\n",
       "      <th>Alley</th>\n",
       "      <th>LotShape</th>\n",
       "      <th>LandContour</th>\n",
       "      <th>Utilities</th>\n",
       "      <th>LotConfig</th>\n",
       "      <th>...</th>\n",
       "      <th>PoolArea</th>\n",
       "      <th>PoolQC</th>\n",
       "      <th>Fence</th>\n",
       "      <th>MiscFeature</th>\n",
       "      <th>MiscVal</th>\n",
       "      <th>MoSold</th>\n",
       "      <th>YrSold</th>\n",
       "      <th>SaleType</th>\n",
       "      <th>SaleCondition</th>\n",
       "      <th>SalePrice</th>\n",
       "    </tr>\n",
       "    <tr>\n",
       "      <th>Id</th>\n",
       "      <th></th>\n",
       "      <th></th>\n",
       "      <th></th>\n",
       "      <th></th>\n",
       "      <th></th>\n",
       "      <th></th>\n",
       "      <th></th>\n",
       "      <th></th>\n",
       "      <th></th>\n",
       "      <th></th>\n",
       "      <th></th>\n",
       "      <th></th>\n",
       "      <th></th>\n",
       "      <th></th>\n",
       "      <th></th>\n",
       "      <th></th>\n",
       "      <th></th>\n",
       "      <th></th>\n",
       "      <th></th>\n",
       "      <th></th>\n",
       "      <th></th>\n",
       "    </tr>\n",
       "  </thead>\n",
       "  <tbody>\n",
       "    <tr>\n",
       "      <th>1</th>\n",
       "      <td>60</td>\n",
       "      <td>RL</td>\n",
       "      <td>65.0</td>\n",
       "      <td>8450</td>\n",
       "      <td>Pave</td>\n",
       "      <td>NaN</td>\n",
       "      <td>Reg</td>\n",
       "      <td>Lvl</td>\n",
       "      <td>AllPub</td>\n",
       "      <td>Inside</td>\n",
       "      <td>...</td>\n",
       "      <td>0</td>\n",
       "      <td>NaN</td>\n",
       "      <td>NaN</td>\n",
       "      <td>NaN</td>\n",
       "      <td>0</td>\n",
       "      <td>2</td>\n",
       "      <td>2008</td>\n",
       "      <td>WD</td>\n",
       "      <td>Normal</td>\n",
       "      <td>208500.0</td>\n",
       "    </tr>\n",
       "    <tr>\n",
       "      <th>2</th>\n",
       "      <td>20</td>\n",
       "      <td>RL</td>\n",
       "      <td>80.0</td>\n",
       "      <td>9600</td>\n",
       "      <td>Pave</td>\n",
       "      <td>NaN</td>\n",
       "      <td>Reg</td>\n",
       "      <td>Lvl</td>\n",
       "      <td>AllPub</td>\n",
       "      <td>FR2</td>\n",
       "      <td>...</td>\n",
       "      <td>0</td>\n",
       "      <td>NaN</td>\n",
       "      <td>NaN</td>\n",
       "      <td>NaN</td>\n",
       "      <td>0</td>\n",
       "      <td>5</td>\n",
       "      <td>2007</td>\n",
       "      <td>WD</td>\n",
       "      <td>Normal</td>\n",
       "      <td>181500.0</td>\n",
       "    </tr>\n",
       "    <tr>\n",
       "      <th>3</th>\n",
       "      <td>60</td>\n",
       "      <td>RL</td>\n",
       "      <td>68.0</td>\n",
       "      <td>11250</td>\n",
       "      <td>Pave</td>\n",
       "      <td>NaN</td>\n",
       "      <td>IR1</td>\n",
       "      <td>Lvl</td>\n",
       "      <td>AllPub</td>\n",
       "      <td>Inside</td>\n",
       "      <td>...</td>\n",
       "      <td>0</td>\n",
       "      <td>NaN</td>\n",
       "      <td>NaN</td>\n",
       "      <td>NaN</td>\n",
       "      <td>0</td>\n",
       "      <td>9</td>\n",
       "      <td>2008</td>\n",
       "      <td>WD</td>\n",
       "      <td>Normal</td>\n",
       "      <td>223500.0</td>\n",
       "    </tr>\n",
       "    <tr>\n",
       "      <th>4</th>\n",
       "      <td>70</td>\n",
       "      <td>RL</td>\n",
       "      <td>60.0</td>\n",
       "      <td>9550</td>\n",
       "      <td>Pave</td>\n",
       "      <td>NaN</td>\n",
       "      <td>IR1</td>\n",
       "      <td>Lvl</td>\n",
       "      <td>AllPub</td>\n",
       "      <td>Corner</td>\n",
       "      <td>...</td>\n",
       "      <td>0</td>\n",
       "      <td>NaN</td>\n",
       "      <td>NaN</td>\n",
       "      <td>NaN</td>\n",
       "      <td>0</td>\n",
       "      <td>2</td>\n",
       "      <td>2006</td>\n",
       "      <td>WD</td>\n",
       "      <td>Abnorml</td>\n",
       "      <td>140000.0</td>\n",
       "    </tr>\n",
       "    <tr>\n",
       "      <th>5</th>\n",
       "      <td>60</td>\n",
       "      <td>RL</td>\n",
       "      <td>84.0</td>\n",
       "      <td>14260</td>\n",
       "      <td>Pave</td>\n",
       "      <td>NaN</td>\n",
       "      <td>IR1</td>\n",
       "      <td>Lvl</td>\n",
       "      <td>AllPub</td>\n",
       "      <td>FR2</td>\n",
       "      <td>...</td>\n",
       "      <td>0</td>\n",
       "      <td>NaN</td>\n",
       "      <td>NaN</td>\n",
       "      <td>NaN</td>\n",
       "      <td>0</td>\n",
       "      <td>12</td>\n",
       "      <td>2008</td>\n",
       "      <td>WD</td>\n",
       "      <td>Normal</td>\n",
       "      <td>250000.0</td>\n",
       "    </tr>\n",
       "    <tr>\n",
       "      <th>...</th>\n",
       "      <td>...</td>\n",
       "      <td>...</td>\n",
       "      <td>...</td>\n",
       "      <td>...</td>\n",
       "      <td>...</td>\n",
       "      <td>...</td>\n",
       "      <td>...</td>\n",
       "      <td>...</td>\n",
       "      <td>...</td>\n",
       "      <td>...</td>\n",
       "      <td>...</td>\n",
       "      <td>...</td>\n",
       "      <td>...</td>\n",
       "      <td>...</td>\n",
       "      <td>...</td>\n",
       "      <td>...</td>\n",
       "      <td>...</td>\n",
       "      <td>...</td>\n",
       "      <td>...</td>\n",
       "      <td>...</td>\n",
       "      <td>...</td>\n",
       "    </tr>\n",
       "    <tr>\n",
       "      <th>2915</th>\n",
       "      <td>160</td>\n",
       "      <td>RM</td>\n",
       "      <td>21.0</td>\n",
       "      <td>1936</td>\n",
       "      <td>Pave</td>\n",
       "      <td>NaN</td>\n",
       "      <td>Reg</td>\n",
       "      <td>Lvl</td>\n",
       "      <td>AllPub</td>\n",
       "      <td>Inside</td>\n",
       "      <td>...</td>\n",
       "      <td>0</td>\n",
       "      <td>NaN</td>\n",
       "      <td>NaN</td>\n",
       "      <td>NaN</td>\n",
       "      <td>0</td>\n",
       "      <td>6</td>\n",
       "      <td>2006</td>\n",
       "      <td>WD</td>\n",
       "      <td>Normal</td>\n",
       "      <td>NaN</td>\n",
       "    </tr>\n",
       "    <tr>\n",
       "      <th>2916</th>\n",
       "      <td>160</td>\n",
       "      <td>RM</td>\n",
       "      <td>21.0</td>\n",
       "      <td>1894</td>\n",
       "      <td>Pave</td>\n",
       "      <td>NaN</td>\n",
       "      <td>Reg</td>\n",
       "      <td>Lvl</td>\n",
       "      <td>AllPub</td>\n",
       "      <td>Inside</td>\n",
       "      <td>...</td>\n",
       "      <td>0</td>\n",
       "      <td>NaN</td>\n",
       "      <td>NaN</td>\n",
       "      <td>NaN</td>\n",
       "      <td>0</td>\n",
       "      <td>4</td>\n",
       "      <td>2006</td>\n",
       "      <td>WD</td>\n",
       "      <td>Abnorml</td>\n",
       "      <td>NaN</td>\n",
       "    </tr>\n",
       "    <tr>\n",
       "      <th>2917</th>\n",
       "      <td>20</td>\n",
       "      <td>RL</td>\n",
       "      <td>160.0</td>\n",
       "      <td>20000</td>\n",
       "      <td>Pave</td>\n",
       "      <td>NaN</td>\n",
       "      <td>Reg</td>\n",
       "      <td>Lvl</td>\n",
       "      <td>AllPub</td>\n",
       "      <td>Inside</td>\n",
       "      <td>...</td>\n",
       "      <td>0</td>\n",
       "      <td>NaN</td>\n",
       "      <td>NaN</td>\n",
       "      <td>NaN</td>\n",
       "      <td>0</td>\n",
       "      <td>9</td>\n",
       "      <td>2006</td>\n",
       "      <td>WD</td>\n",
       "      <td>Abnorml</td>\n",
       "      <td>NaN</td>\n",
       "    </tr>\n",
       "    <tr>\n",
       "      <th>2918</th>\n",
       "      <td>85</td>\n",
       "      <td>RL</td>\n",
       "      <td>62.0</td>\n",
       "      <td>10441</td>\n",
       "      <td>Pave</td>\n",
       "      <td>NaN</td>\n",
       "      <td>Reg</td>\n",
       "      <td>Lvl</td>\n",
       "      <td>AllPub</td>\n",
       "      <td>Inside</td>\n",
       "      <td>...</td>\n",
       "      <td>0</td>\n",
       "      <td>NaN</td>\n",
       "      <td>MnPrv</td>\n",
       "      <td>Shed</td>\n",
       "      <td>700</td>\n",
       "      <td>7</td>\n",
       "      <td>2006</td>\n",
       "      <td>WD</td>\n",
       "      <td>Normal</td>\n",
       "      <td>NaN</td>\n",
       "    </tr>\n",
       "    <tr>\n",
       "      <th>2919</th>\n",
       "      <td>60</td>\n",
       "      <td>RL</td>\n",
       "      <td>74.0</td>\n",
       "      <td>9627</td>\n",
       "      <td>Pave</td>\n",
       "      <td>NaN</td>\n",
       "      <td>Reg</td>\n",
       "      <td>Lvl</td>\n",
       "      <td>AllPub</td>\n",
       "      <td>Inside</td>\n",
       "      <td>...</td>\n",
       "      <td>0</td>\n",
       "      <td>NaN</td>\n",
       "      <td>NaN</td>\n",
       "      <td>NaN</td>\n",
       "      <td>0</td>\n",
       "      <td>11</td>\n",
       "      <td>2006</td>\n",
       "      <td>WD</td>\n",
       "      <td>Normal</td>\n",
       "      <td>NaN</td>\n",
       "    </tr>\n",
       "  </tbody>\n",
       "</table>\n",
       "<p>2919 rows × 80 columns</p>\n",
       "</div>"
      ],
      "text/plain": [
       "      MSSubClass MSZoning  LotFrontage  LotArea Street Alley LotShape  \\\n",
       "Id                                                                      \n",
       "1             60       RL         65.0     8450   Pave   NaN      Reg   \n",
       "2             20       RL         80.0     9600   Pave   NaN      Reg   \n",
       "3             60       RL         68.0    11250   Pave   NaN      IR1   \n",
       "4             70       RL         60.0     9550   Pave   NaN      IR1   \n",
       "5             60       RL         84.0    14260   Pave   NaN      IR1   \n",
       "...          ...      ...          ...      ...    ...   ...      ...   \n",
       "2915         160       RM         21.0     1936   Pave   NaN      Reg   \n",
       "2916         160       RM         21.0     1894   Pave   NaN      Reg   \n",
       "2917          20       RL        160.0    20000   Pave   NaN      Reg   \n",
       "2918          85       RL         62.0    10441   Pave   NaN      Reg   \n",
       "2919          60       RL         74.0     9627   Pave   NaN      Reg   \n",
       "\n",
       "     LandContour Utilities LotConfig  ... PoolArea PoolQC  Fence MiscFeature  \\\n",
       "Id                                    ...                                      \n",
       "1            Lvl    AllPub    Inside  ...        0    NaN    NaN         NaN   \n",
       "2            Lvl    AllPub       FR2  ...        0    NaN    NaN         NaN   \n",
       "3            Lvl    AllPub    Inside  ...        0    NaN    NaN         NaN   \n",
       "4            Lvl    AllPub    Corner  ...        0    NaN    NaN         NaN   \n",
       "5            Lvl    AllPub       FR2  ...        0    NaN    NaN         NaN   \n",
       "...          ...       ...       ...  ...      ...    ...    ...         ...   \n",
       "2915         Lvl    AllPub    Inside  ...        0    NaN    NaN         NaN   \n",
       "2916         Lvl    AllPub    Inside  ...        0    NaN    NaN         NaN   \n",
       "2917         Lvl    AllPub    Inside  ...        0    NaN    NaN         NaN   \n",
       "2918         Lvl    AllPub    Inside  ...        0    NaN  MnPrv        Shed   \n",
       "2919         Lvl    AllPub    Inside  ...        0    NaN    NaN         NaN   \n",
       "\n",
       "     MiscVal MoSold  YrSold  SaleType  SaleCondition  SalePrice  \n",
       "Id                                                               \n",
       "1          0      2    2008        WD         Normal   208500.0  \n",
       "2          0      5    2007        WD         Normal   181500.0  \n",
       "3          0      9    2008        WD         Normal   223500.0  \n",
       "4          0      2    2006        WD        Abnorml   140000.0  \n",
       "5          0     12    2008        WD         Normal   250000.0  \n",
       "...      ...    ...     ...       ...            ...        ...  \n",
       "2915       0      6    2006        WD         Normal        NaN  \n",
       "2916       0      4    2006        WD        Abnorml        NaN  \n",
       "2917       0      9    2006        WD        Abnorml        NaN  \n",
       "2918     700      7    2006        WD         Normal        NaN  \n",
       "2919       0     11    2006        WD         Normal        NaN  \n",
       "\n",
       "[2919 rows x 80 columns]"
      ]
     },
     "execution_count": 4,
     "metadata": {},
     "output_type": "execute_result"
    }
   ],
   "source": [
    "df"
   ]
  },
  {
   "cell_type": "code",
   "execution_count": 5,
   "id": "3fbb2851",
   "metadata": {
    "execution": {
     "iopub.execute_input": "2022-02-04T08:34:37.272623Z",
     "iopub.status.busy": "2022-02-04T08:34:37.271995Z",
     "iopub.status.idle": "2022-02-04T08:34:37.277775Z",
     "shell.execute_reply": "2022-02-04T08:34:37.278257Z",
     "shell.execute_reply.started": "2022-02-04T05:46:40.085272Z"
    },
    "papermill": {
     "duration": 0.057251,
     "end_time": "2022-02-04T08:34:37.278456",
     "exception": false,
     "start_time": "2022-02-04T08:34:37.221205",
     "status": "completed"
    },
    "tags": []
   },
   "outputs": [
    {
     "data": {
      "text/plain": [
       "dtype('O')"
      ]
     },
     "execution_count": 5,
     "metadata": {},
     "output_type": "execute_result"
    }
   ],
   "source": [
    "df[\"MSSubClass\"]=df[\"MSSubClass\"].astype(\"object\")\n",
    "df[\"MSSubClass\"].dtypes"
   ]
  },
  {
   "cell_type": "code",
   "execution_count": 6,
   "id": "0ae2dbfd",
   "metadata": {
    "execution": {
     "iopub.execute_input": "2022-02-04T08:34:37.381168Z",
     "iopub.status.busy": "2022-02-04T08:34:37.380207Z",
     "iopub.status.idle": "2022-02-04T08:34:37.389845Z",
     "shell.execute_reply": "2022-02-04T08:34:37.389166Z",
     "shell.execute_reply.started": "2022-02-04T05:46:40.093072Z"
    },
    "papermill": {
     "duration": 0.062263,
     "end_time": "2022-02-04T08:34:37.389978",
     "exception": false,
     "start_time": "2022-02-04T08:34:37.327715",
     "status": "completed"
    },
    "tags": []
   },
   "outputs": [
    {
     "data": {
      "text/plain": [
       "AllPub    2916\n",
       "NoSeWa       1\n",
       "Name: Utilities, dtype: int64"
      ]
     },
     "execution_count": 6,
     "metadata": {},
     "output_type": "execute_result"
    }
   ],
   "source": [
    "df[\"Utilities\"].value_counts()"
   ]
  },
  {
   "cell_type": "code",
   "execution_count": 7,
   "id": "e91e590c",
   "metadata": {
    "execution": {
     "iopub.execute_input": "2022-02-04T08:34:37.494277Z",
     "iopub.status.busy": "2022-02-04T08:34:37.492138Z",
     "iopub.status.idle": "2022-02-04T08:34:37.501674Z",
     "shell.execute_reply": "2022-02-04T08:34:37.502131Z",
     "shell.execute_reply.started": "2022-02-04T05:46:40.106862Z"
    },
    "papermill": {
     "duration": 0.062857,
     "end_time": "2022-02-04T08:34:37.502309",
     "exception": false,
     "start_time": "2022-02-04T08:34:37.439452",
     "status": "completed"
    },
    "tags": []
   },
   "outputs": [],
   "source": [
    "df = df.drop(\"Utilities\", axis=1)"
   ]
  },
  {
   "cell_type": "code",
   "execution_count": 8,
   "id": "e743b364",
   "metadata": {
    "execution": {
     "iopub.execute_input": "2022-02-04T08:34:37.606995Z",
     "iopub.status.busy": "2022-02-04T08:34:37.606407Z",
     "iopub.status.idle": "2022-02-04T08:34:37.610429Z",
     "shell.execute_reply": "2022-02-04T08:34:37.610889Z",
     "shell.execute_reply.started": "2022-02-04T05:46:40.121339Z"
    },
    "papermill": {
     "duration": 0.058869,
     "end_time": "2022-02-04T08:34:37.611047",
     "exception": false,
     "start_time": "2022-02-04T08:34:37.552178",
     "status": "completed"
    },
    "tags": []
   },
   "outputs": [],
   "source": [
    "df = df.drop(\"MiscVal\", axis=1)"
   ]
  },
  {
   "cell_type": "code",
   "execution_count": 9,
   "id": "3adc5156",
   "metadata": {
    "execution": {
     "iopub.execute_input": "2022-02-04T08:34:37.734449Z",
     "iopub.status.busy": "2022-02-04T08:34:37.733641Z",
     "iopub.status.idle": "2022-02-04T08:34:37.736852Z",
     "shell.execute_reply": "2022-02-04T08:34:37.737370Z",
     "shell.execute_reply.started": "2022-02-04T05:46:40.130020Z"
    },
    "papermill": {
     "duration": 0.076708,
     "end_time": "2022-02-04T08:34:37.737526",
     "exception": false,
     "start_time": "2022-02-04T08:34:37.660818",
     "status": "completed"
    },
    "tags": []
   },
   "outputs": [
    {
     "data": {
      "text/html": [
       "<div>\n",
       "<style scoped>\n",
       "    .dataframe tbody tr th:only-of-type {\n",
       "        vertical-align: middle;\n",
       "    }\n",
       "\n",
       "    .dataframe tbody tr th {\n",
       "        vertical-align: top;\n",
       "    }\n",
       "\n",
       "    .dataframe thead th {\n",
       "        text-align: right;\n",
       "    }\n",
       "</style>\n",
       "<table border=\"1\" class=\"dataframe\">\n",
       "  <thead>\n",
       "    <tr style=\"text-align: right;\">\n",
       "      <th></th>\n",
       "      <th>MSSubClass</th>\n",
       "      <th>MSZoning</th>\n",
       "      <th>LotFrontage</th>\n",
       "      <th>LotArea</th>\n",
       "      <th>Street</th>\n",
       "      <th>Alley</th>\n",
       "      <th>LotShape</th>\n",
       "      <th>LandContour</th>\n",
       "      <th>LotConfig</th>\n",
       "      <th>LandSlope</th>\n",
       "      <th>...</th>\n",
       "      <th>ScreenPorch</th>\n",
       "      <th>PoolArea</th>\n",
       "      <th>PoolQC</th>\n",
       "      <th>Fence</th>\n",
       "      <th>MiscFeature</th>\n",
       "      <th>MoSold</th>\n",
       "      <th>YrSold</th>\n",
       "      <th>SaleType</th>\n",
       "      <th>SaleCondition</th>\n",
       "      <th>SalePrice</th>\n",
       "    </tr>\n",
       "    <tr>\n",
       "      <th>Id</th>\n",
       "      <th></th>\n",
       "      <th></th>\n",
       "      <th></th>\n",
       "      <th></th>\n",
       "      <th></th>\n",
       "      <th></th>\n",
       "      <th></th>\n",
       "      <th></th>\n",
       "      <th></th>\n",
       "      <th></th>\n",
       "      <th></th>\n",
       "      <th></th>\n",
       "      <th></th>\n",
       "      <th></th>\n",
       "      <th></th>\n",
       "      <th></th>\n",
       "      <th></th>\n",
       "      <th></th>\n",
       "      <th></th>\n",
       "      <th></th>\n",
       "      <th></th>\n",
       "    </tr>\n",
       "  </thead>\n",
       "  <tbody>\n",
       "    <tr>\n",
       "      <th>1</th>\n",
       "      <td>60</td>\n",
       "      <td>RL</td>\n",
       "      <td>65.0</td>\n",
       "      <td>8450</td>\n",
       "      <td>Pave</td>\n",
       "      <td>NaN</td>\n",
       "      <td>Reg</td>\n",
       "      <td>Lvl</td>\n",
       "      <td>Inside</td>\n",
       "      <td>Gtl</td>\n",
       "      <td>...</td>\n",
       "      <td>0</td>\n",
       "      <td>0</td>\n",
       "      <td>NaN</td>\n",
       "      <td>NaN</td>\n",
       "      <td>NaN</td>\n",
       "      <td>2</td>\n",
       "      <td>2008</td>\n",
       "      <td>WD</td>\n",
       "      <td>Normal</td>\n",
       "      <td>208500.0</td>\n",
       "    </tr>\n",
       "    <tr>\n",
       "      <th>2</th>\n",
       "      <td>20</td>\n",
       "      <td>RL</td>\n",
       "      <td>80.0</td>\n",
       "      <td>9600</td>\n",
       "      <td>Pave</td>\n",
       "      <td>NaN</td>\n",
       "      <td>Reg</td>\n",
       "      <td>Lvl</td>\n",
       "      <td>FR2</td>\n",
       "      <td>Gtl</td>\n",
       "      <td>...</td>\n",
       "      <td>0</td>\n",
       "      <td>0</td>\n",
       "      <td>NaN</td>\n",
       "      <td>NaN</td>\n",
       "      <td>NaN</td>\n",
       "      <td>5</td>\n",
       "      <td>2007</td>\n",
       "      <td>WD</td>\n",
       "      <td>Normal</td>\n",
       "      <td>181500.0</td>\n",
       "    </tr>\n",
       "    <tr>\n",
       "      <th>3</th>\n",
       "      <td>60</td>\n",
       "      <td>RL</td>\n",
       "      <td>68.0</td>\n",
       "      <td>11250</td>\n",
       "      <td>Pave</td>\n",
       "      <td>NaN</td>\n",
       "      <td>IR1</td>\n",
       "      <td>Lvl</td>\n",
       "      <td>Inside</td>\n",
       "      <td>Gtl</td>\n",
       "      <td>...</td>\n",
       "      <td>0</td>\n",
       "      <td>0</td>\n",
       "      <td>NaN</td>\n",
       "      <td>NaN</td>\n",
       "      <td>NaN</td>\n",
       "      <td>9</td>\n",
       "      <td>2008</td>\n",
       "      <td>WD</td>\n",
       "      <td>Normal</td>\n",
       "      <td>223500.0</td>\n",
       "    </tr>\n",
       "    <tr>\n",
       "      <th>4</th>\n",
       "      <td>70</td>\n",
       "      <td>RL</td>\n",
       "      <td>60.0</td>\n",
       "      <td>9550</td>\n",
       "      <td>Pave</td>\n",
       "      <td>NaN</td>\n",
       "      <td>IR1</td>\n",
       "      <td>Lvl</td>\n",
       "      <td>Corner</td>\n",
       "      <td>Gtl</td>\n",
       "      <td>...</td>\n",
       "      <td>0</td>\n",
       "      <td>0</td>\n",
       "      <td>NaN</td>\n",
       "      <td>NaN</td>\n",
       "      <td>NaN</td>\n",
       "      <td>2</td>\n",
       "      <td>2006</td>\n",
       "      <td>WD</td>\n",
       "      <td>Abnorml</td>\n",
       "      <td>140000.0</td>\n",
       "    </tr>\n",
       "    <tr>\n",
       "      <th>5</th>\n",
       "      <td>60</td>\n",
       "      <td>RL</td>\n",
       "      <td>84.0</td>\n",
       "      <td>14260</td>\n",
       "      <td>Pave</td>\n",
       "      <td>NaN</td>\n",
       "      <td>IR1</td>\n",
       "      <td>Lvl</td>\n",
       "      <td>FR2</td>\n",
       "      <td>Gtl</td>\n",
       "      <td>...</td>\n",
       "      <td>0</td>\n",
       "      <td>0</td>\n",
       "      <td>NaN</td>\n",
       "      <td>NaN</td>\n",
       "      <td>NaN</td>\n",
       "      <td>12</td>\n",
       "      <td>2008</td>\n",
       "      <td>WD</td>\n",
       "      <td>Normal</td>\n",
       "      <td>250000.0</td>\n",
       "    </tr>\n",
       "  </tbody>\n",
       "</table>\n",
       "<p>5 rows × 78 columns</p>\n",
       "</div>"
      ],
      "text/plain": [
       "   MSSubClass MSZoning  LotFrontage  LotArea Street Alley LotShape  \\\n",
       "Id                                                                   \n",
       "1          60       RL         65.0     8450   Pave   NaN      Reg   \n",
       "2          20       RL         80.0     9600   Pave   NaN      Reg   \n",
       "3          60       RL         68.0    11250   Pave   NaN      IR1   \n",
       "4          70       RL         60.0     9550   Pave   NaN      IR1   \n",
       "5          60       RL         84.0    14260   Pave   NaN      IR1   \n",
       "\n",
       "   LandContour LotConfig LandSlope  ... ScreenPorch PoolArea PoolQC Fence  \\\n",
       "Id                                  ...                                     \n",
       "1          Lvl    Inside       Gtl  ...           0        0    NaN   NaN   \n",
       "2          Lvl       FR2       Gtl  ...           0        0    NaN   NaN   \n",
       "3          Lvl    Inside       Gtl  ...           0        0    NaN   NaN   \n",
       "4          Lvl    Corner       Gtl  ...           0        0    NaN   NaN   \n",
       "5          Lvl       FR2       Gtl  ...           0        0    NaN   NaN   \n",
       "\n",
       "   MiscFeature  MoSold  YrSold  SaleType  SaleCondition SalePrice  \n",
       "Id                                                                 \n",
       "1          NaN       2    2008        WD         Normal  208500.0  \n",
       "2          NaN       5    2007        WD         Normal  181500.0  \n",
       "3          NaN       9    2008        WD         Normal  223500.0  \n",
       "4          NaN       2    2006        WD        Abnorml  140000.0  \n",
       "5          NaN      12    2008        WD         Normal  250000.0  \n",
       "\n",
       "[5 rows x 78 columns]"
      ]
     },
     "execution_count": 9,
     "metadata": {},
     "output_type": "execute_result"
    }
   ],
   "source": [
    "df.head()"
   ]
  },
  {
   "cell_type": "code",
   "execution_count": 10,
   "id": "84804252",
   "metadata": {
    "execution": {
     "iopub.execute_input": "2022-02-04T08:34:37.840785Z",
     "iopub.status.busy": "2022-02-04T08:34:37.839889Z",
     "iopub.status.idle": "2022-02-04T08:34:37.873354Z",
     "shell.execute_reply": "2022-02-04T08:34:37.872889Z",
     "shell.execute_reply.started": "2022-02-04T05:46:40.158712Z"
    },
    "papermill": {
     "duration": 0.086749,
     "end_time": "2022-02-04T08:34:37.873527",
     "exception": false,
     "start_time": "2022-02-04T08:34:37.786778",
     "status": "completed"
    },
    "tags": []
   },
   "outputs": [
    {
     "data": {
      "text/html": [
       "<div>\n",
       "<style scoped>\n",
       "    .dataframe tbody tr th:only-of-type {\n",
       "        vertical-align: middle;\n",
       "    }\n",
       "\n",
       "    .dataframe tbody tr th {\n",
       "        vertical-align: top;\n",
       "    }\n",
       "\n",
       "    .dataframe thead th {\n",
       "        text-align: right;\n",
       "    }\n",
       "</style>\n",
       "<table border=\"1\" class=\"dataframe\">\n",
       "  <thead>\n",
       "    <tr style=\"text-align: right;\">\n",
       "      <th></th>\n",
       "      <th>LotFrontage</th>\n",
       "      <th>LotArea</th>\n",
       "      <th>OverallQual</th>\n",
       "      <th>OverallCond</th>\n",
       "      <th>YearBuilt</th>\n",
       "      <th>YearRemodAdd</th>\n",
       "      <th>MasVnrArea</th>\n",
       "      <th>BsmtFinSF1</th>\n",
       "      <th>BsmtFinSF2</th>\n",
       "      <th>BsmtUnfSF</th>\n",
       "      <th>...</th>\n",
       "      <th>GarageArea</th>\n",
       "      <th>WoodDeckSF</th>\n",
       "      <th>OpenPorchSF</th>\n",
       "      <th>EnclosedPorch</th>\n",
       "      <th>3SsnPorch</th>\n",
       "      <th>ScreenPorch</th>\n",
       "      <th>PoolArea</th>\n",
       "      <th>MoSold</th>\n",
       "      <th>YrSold</th>\n",
       "      <th>SalePrice</th>\n",
       "    </tr>\n",
       "    <tr>\n",
       "      <th>Id</th>\n",
       "      <th></th>\n",
       "      <th></th>\n",
       "      <th></th>\n",
       "      <th></th>\n",
       "      <th></th>\n",
       "      <th></th>\n",
       "      <th></th>\n",
       "      <th></th>\n",
       "      <th></th>\n",
       "      <th></th>\n",
       "      <th></th>\n",
       "      <th></th>\n",
       "      <th></th>\n",
       "      <th></th>\n",
       "      <th></th>\n",
       "      <th></th>\n",
       "      <th></th>\n",
       "      <th></th>\n",
       "      <th></th>\n",
       "      <th></th>\n",
       "      <th></th>\n",
       "    </tr>\n",
       "  </thead>\n",
       "  <tbody>\n",
       "    <tr>\n",
       "      <th>1</th>\n",
       "      <td>65.0</td>\n",
       "      <td>8450</td>\n",
       "      <td>7</td>\n",
       "      <td>5</td>\n",
       "      <td>2003</td>\n",
       "      <td>2003</td>\n",
       "      <td>196.0</td>\n",
       "      <td>706.0</td>\n",
       "      <td>0.0</td>\n",
       "      <td>150.0</td>\n",
       "      <td>...</td>\n",
       "      <td>548.0</td>\n",
       "      <td>0</td>\n",
       "      <td>61</td>\n",
       "      <td>0</td>\n",
       "      <td>0</td>\n",
       "      <td>0</td>\n",
       "      <td>0</td>\n",
       "      <td>2</td>\n",
       "      <td>2008</td>\n",
       "      <td>208500.0</td>\n",
       "    </tr>\n",
       "    <tr>\n",
       "      <th>2</th>\n",
       "      <td>80.0</td>\n",
       "      <td>9600</td>\n",
       "      <td>6</td>\n",
       "      <td>8</td>\n",
       "      <td>1976</td>\n",
       "      <td>1976</td>\n",
       "      <td>0.0</td>\n",
       "      <td>978.0</td>\n",
       "      <td>0.0</td>\n",
       "      <td>284.0</td>\n",
       "      <td>...</td>\n",
       "      <td>460.0</td>\n",
       "      <td>298</td>\n",
       "      <td>0</td>\n",
       "      <td>0</td>\n",
       "      <td>0</td>\n",
       "      <td>0</td>\n",
       "      <td>0</td>\n",
       "      <td>5</td>\n",
       "      <td>2007</td>\n",
       "      <td>181500.0</td>\n",
       "    </tr>\n",
       "    <tr>\n",
       "      <th>3</th>\n",
       "      <td>68.0</td>\n",
       "      <td>11250</td>\n",
       "      <td>7</td>\n",
       "      <td>5</td>\n",
       "      <td>2001</td>\n",
       "      <td>2002</td>\n",
       "      <td>162.0</td>\n",
       "      <td>486.0</td>\n",
       "      <td>0.0</td>\n",
       "      <td>434.0</td>\n",
       "      <td>...</td>\n",
       "      <td>608.0</td>\n",
       "      <td>0</td>\n",
       "      <td>42</td>\n",
       "      <td>0</td>\n",
       "      <td>0</td>\n",
       "      <td>0</td>\n",
       "      <td>0</td>\n",
       "      <td>9</td>\n",
       "      <td>2008</td>\n",
       "      <td>223500.0</td>\n",
       "    </tr>\n",
       "    <tr>\n",
       "      <th>4</th>\n",
       "      <td>60.0</td>\n",
       "      <td>9550</td>\n",
       "      <td>7</td>\n",
       "      <td>5</td>\n",
       "      <td>1915</td>\n",
       "      <td>1970</td>\n",
       "      <td>0.0</td>\n",
       "      <td>216.0</td>\n",
       "      <td>0.0</td>\n",
       "      <td>540.0</td>\n",
       "      <td>...</td>\n",
       "      <td>642.0</td>\n",
       "      <td>0</td>\n",
       "      <td>35</td>\n",
       "      <td>272</td>\n",
       "      <td>0</td>\n",
       "      <td>0</td>\n",
       "      <td>0</td>\n",
       "      <td>2</td>\n",
       "      <td>2006</td>\n",
       "      <td>140000.0</td>\n",
       "    </tr>\n",
       "    <tr>\n",
       "      <th>5</th>\n",
       "      <td>84.0</td>\n",
       "      <td>14260</td>\n",
       "      <td>8</td>\n",
       "      <td>5</td>\n",
       "      <td>2000</td>\n",
       "      <td>2000</td>\n",
       "      <td>350.0</td>\n",
       "      <td>655.0</td>\n",
       "      <td>0.0</td>\n",
       "      <td>490.0</td>\n",
       "      <td>...</td>\n",
       "      <td>836.0</td>\n",
       "      <td>192</td>\n",
       "      <td>84</td>\n",
       "      <td>0</td>\n",
       "      <td>0</td>\n",
       "      <td>0</td>\n",
       "      <td>0</td>\n",
       "      <td>12</td>\n",
       "      <td>2008</td>\n",
       "      <td>250000.0</td>\n",
       "    </tr>\n",
       "    <tr>\n",
       "      <th>...</th>\n",
       "      <td>...</td>\n",
       "      <td>...</td>\n",
       "      <td>...</td>\n",
       "      <td>...</td>\n",
       "      <td>...</td>\n",
       "      <td>...</td>\n",
       "      <td>...</td>\n",
       "      <td>...</td>\n",
       "      <td>...</td>\n",
       "      <td>...</td>\n",
       "      <td>...</td>\n",
       "      <td>...</td>\n",
       "      <td>...</td>\n",
       "      <td>...</td>\n",
       "      <td>...</td>\n",
       "      <td>...</td>\n",
       "      <td>...</td>\n",
       "      <td>...</td>\n",
       "      <td>...</td>\n",
       "      <td>...</td>\n",
       "      <td>...</td>\n",
       "    </tr>\n",
       "    <tr>\n",
       "      <th>2915</th>\n",
       "      <td>21.0</td>\n",
       "      <td>1936</td>\n",
       "      <td>4</td>\n",
       "      <td>7</td>\n",
       "      <td>1970</td>\n",
       "      <td>1970</td>\n",
       "      <td>0.0</td>\n",
       "      <td>0.0</td>\n",
       "      <td>0.0</td>\n",
       "      <td>546.0</td>\n",
       "      <td>...</td>\n",
       "      <td>0.0</td>\n",
       "      <td>0</td>\n",
       "      <td>0</td>\n",
       "      <td>0</td>\n",
       "      <td>0</td>\n",
       "      <td>0</td>\n",
       "      <td>0</td>\n",
       "      <td>6</td>\n",
       "      <td>2006</td>\n",
       "      <td>NaN</td>\n",
       "    </tr>\n",
       "    <tr>\n",
       "      <th>2916</th>\n",
       "      <td>21.0</td>\n",
       "      <td>1894</td>\n",
       "      <td>4</td>\n",
       "      <td>5</td>\n",
       "      <td>1970</td>\n",
       "      <td>1970</td>\n",
       "      <td>0.0</td>\n",
       "      <td>252.0</td>\n",
       "      <td>0.0</td>\n",
       "      <td>294.0</td>\n",
       "      <td>...</td>\n",
       "      <td>286.0</td>\n",
       "      <td>0</td>\n",
       "      <td>24</td>\n",
       "      <td>0</td>\n",
       "      <td>0</td>\n",
       "      <td>0</td>\n",
       "      <td>0</td>\n",
       "      <td>4</td>\n",
       "      <td>2006</td>\n",
       "      <td>NaN</td>\n",
       "    </tr>\n",
       "    <tr>\n",
       "      <th>2917</th>\n",
       "      <td>160.0</td>\n",
       "      <td>20000</td>\n",
       "      <td>5</td>\n",
       "      <td>7</td>\n",
       "      <td>1960</td>\n",
       "      <td>1996</td>\n",
       "      <td>0.0</td>\n",
       "      <td>1224.0</td>\n",
       "      <td>0.0</td>\n",
       "      <td>0.0</td>\n",
       "      <td>...</td>\n",
       "      <td>576.0</td>\n",
       "      <td>474</td>\n",
       "      <td>0</td>\n",
       "      <td>0</td>\n",
       "      <td>0</td>\n",
       "      <td>0</td>\n",
       "      <td>0</td>\n",
       "      <td>9</td>\n",
       "      <td>2006</td>\n",
       "      <td>NaN</td>\n",
       "    </tr>\n",
       "    <tr>\n",
       "      <th>2918</th>\n",
       "      <td>62.0</td>\n",
       "      <td>10441</td>\n",
       "      <td>5</td>\n",
       "      <td>5</td>\n",
       "      <td>1992</td>\n",
       "      <td>1992</td>\n",
       "      <td>0.0</td>\n",
       "      <td>337.0</td>\n",
       "      <td>0.0</td>\n",
       "      <td>575.0</td>\n",
       "      <td>...</td>\n",
       "      <td>0.0</td>\n",
       "      <td>80</td>\n",
       "      <td>32</td>\n",
       "      <td>0</td>\n",
       "      <td>0</td>\n",
       "      <td>0</td>\n",
       "      <td>0</td>\n",
       "      <td>7</td>\n",
       "      <td>2006</td>\n",
       "      <td>NaN</td>\n",
       "    </tr>\n",
       "    <tr>\n",
       "      <th>2919</th>\n",
       "      <td>74.0</td>\n",
       "      <td>9627</td>\n",
       "      <td>7</td>\n",
       "      <td>5</td>\n",
       "      <td>1993</td>\n",
       "      <td>1994</td>\n",
       "      <td>94.0</td>\n",
       "      <td>758.0</td>\n",
       "      <td>0.0</td>\n",
       "      <td>238.0</td>\n",
       "      <td>...</td>\n",
       "      <td>650.0</td>\n",
       "      <td>190</td>\n",
       "      <td>48</td>\n",
       "      <td>0</td>\n",
       "      <td>0</td>\n",
       "      <td>0</td>\n",
       "      <td>0</td>\n",
       "      <td>11</td>\n",
       "      <td>2006</td>\n",
       "      <td>NaN</td>\n",
       "    </tr>\n",
       "  </tbody>\n",
       "</table>\n",
       "<p>2919 rows × 35 columns</p>\n",
       "</div>"
      ],
      "text/plain": [
       "      LotFrontage  LotArea  OverallQual  OverallCond  YearBuilt  YearRemodAdd  \\\n",
       "Id                                                                              \n",
       "1            65.0     8450            7            5       2003          2003   \n",
       "2            80.0     9600            6            8       1976          1976   \n",
       "3            68.0    11250            7            5       2001          2002   \n",
       "4            60.0     9550            7            5       1915          1970   \n",
       "5            84.0    14260            8            5       2000          2000   \n",
       "...           ...      ...          ...          ...        ...           ...   \n",
       "2915         21.0     1936            4            7       1970          1970   \n",
       "2916         21.0     1894            4            5       1970          1970   \n",
       "2917        160.0    20000            5            7       1960          1996   \n",
       "2918         62.0    10441            5            5       1992          1992   \n",
       "2919         74.0     9627            7            5       1993          1994   \n",
       "\n",
       "      MasVnrArea  BsmtFinSF1  BsmtFinSF2  BsmtUnfSF  ...  GarageArea  \\\n",
       "Id                                                   ...               \n",
       "1          196.0       706.0         0.0      150.0  ...       548.0   \n",
       "2            0.0       978.0         0.0      284.0  ...       460.0   \n",
       "3          162.0       486.0         0.0      434.0  ...       608.0   \n",
       "4            0.0       216.0         0.0      540.0  ...       642.0   \n",
       "5          350.0       655.0         0.0      490.0  ...       836.0   \n",
       "...          ...         ...         ...        ...  ...         ...   \n",
       "2915         0.0         0.0         0.0      546.0  ...         0.0   \n",
       "2916         0.0       252.0         0.0      294.0  ...       286.0   \n",
       "2917         0.0      1224.0         0.0        0.0  ...       576.0   \n",
       "2918         0.0       337.0         0.0      575.0  ...         0.0   \n",
       "2919        94.0       758.0         0.0      238.0  ...       650.0   \n",
       "\n",
       "      WoodDeckSF  OpenPorchSF  EnclosedPorch  3SsnPorch  ScreenPorch  \\\n",
       "Id                                                                     \n",
       "1              0           61              0          0            0   \n",
       "2            298            0              0          0            0   \n",
       "3              0           42              0          0            0   \n",
       "4              0           35            272          0            0   \n",
       "5            192           84              0          0            0   \n",
       "...          ...          ...            ...        ...          ...   \n",
       "2915           0            0              0          0            0   \n",
       "2916           0           24              0          0            0   \n",
       "2917         474            0              0          0            0   \n",
       "2918          80           32              0          0            0   \n",
       "2919         190           48              0          0            0   \n",
       "\n",
       "      PoolArea  MoSold  YrSold  SalePrice  \n",
       "Id                                         \n",
       "1            0       2    2008   208500.0  \n",
       "2            0       5    2007   181500.0  \n",
       "3            0       9    2008   223500.0  \n",
       "4            0       2    2006   140000.0  \n",
       "5            0      12    2008   250000.0  \n",
       "...        ...     ...     ...        ...  \n",
       "2915         0       6    2006        NaN  \n",
       "2916         0       4    2006        NaN  \n",
       "2917         0       9    2006        NaN  \n",
       "2918         0       7    2006        NaN  \n",
       "2919         0      11    2006        NaN  \n",
       "\n",
       "[2919 rows x 35 columns]"
      ]
     },
     "execution_count": 10,
     "metadata": {},
     "output_type": "execute_result"
    }
   ],
   "source": [
    "df_cat = df.select_dtypes(include =\"object\")\n",
    "df_num = df.select_dtypes(include =\"number\")\n",
    "df_num"
   ]
  },
  {
   "cell_type": "code",
   "execution_count": 11,
   "id": "15c332d0",
   "metadata": {
    "execution": {
     "iopub.execute_input": "2022-02-04T08:34:37.998133Z",
     "iopub.status.busy": "2022-02-04T08:34:37.997270Z",
     "iopub.status.idle": "2022-02-04T08:34:38.013631Z",
     "shell.execute_reply": "2022-02-04T08:34:38.014088Z",
     "shell.execute_reply.started": "2022-02-04T05:46:40.196492Z"
    },
    "papermill": {
     "duration": 0.088011,
     "end_time": "2022-02-04T08:34:38.014258",
     "exception": false,
     "start_time": "2022-02-04T08:34:37.926247",
     "status": "completed"
    },
    "tags": []
   },
   "outputs": [
    {
     "name": "stdout",
     "output_type": "stream",
     "text": [
      "('MSZoning', 'LotFrontage', 'Alley', 'Exterior1st', 'Exterior2nd', 'MasVnrType', 'MasVnrArea', 'BsmtQual', 'BsmtCond', 'BsmtExposure', 'BsmtFinType1', 'BsmtFinSF1', 'BsmtFinType2', 'BsmtFinSF2', 'BsmtUnfSF', 'TotalBsmtSF', 'Electrical', 'BsmtFullBath', 'BsmtHalfBath', 'KitchenQual', 'Functional', 'FireplaceQu', 'GarageType', 'GarageYrBlt', 'GarageFinish', 'GarageCars', 'GarageArea', 'GarageQual', 'GarageCond', 'PoolQC', 'Fence', 'MiscFeature', 'SaleType', 'SalePrice')\n"
     ]
    }
   ],
   "source": [
    "col_nan = ()\n",
    "for col in df.columns:\n",
    "    if df[col].isnull().any() == True:\n",
    "        col_nan += (col,)\n",
    "print(col_nan)"
   ]
  },
  {
   "cell_type": "code",
   "execution_count": 12,
   "id": "b2133230",
   "metadata": {
    "execution": {
     "iopub.execute_input": "2022-02-04T08:34:38.125375Z",
     "iopub.status.busy": "2022-02-04T08:34:38.122108Z",
     "iopub.status.idle": "2022-02-04T08:34:38.130592Z",
     "shell.execute_reply": "2022-02-04T08:34:38.131086Z",
     "shell.execute_reply.started": "2022-02-04T05:46:40.231258Z"
    },
    "papermill": {
     "duration": 0.065616,
     "end_time": "2022-02-04T08:34:38.131253",
     "exception": false,
     "start_time": "2022-02-04T08:34:38.065637",
     "status": "completed"
    },
    "tags": []
   },
   "outputs": [],
   "source": [
    "df_num_non = df[list(col_nan)].select_dtypes(exclude=\"object\")\n",
    "df_obj_non = df[list(col_nan)].select_dtypes(exclude=\"number\")"
   ]
  },
  {
   "cell_type": "code",
   "execution_count": 13,
   "id": "60f25099",
   "metadata": {
    "execution": {
     "iopub.execute_input": "2022-02-04T08:34:38.237352Z",
     "iopub.status.busy": "2022-02-04T08:34:38.236776Z",
     "iopub.status.idle": "2022-02-04T08:34:38.263611Z",
     "shell.execute_reply": "2022-02-04T08:34:38.262998Z",
     "shell.execute_reply.started": "2022-02-04T05:46:40.247560Z"
    },
    "papermill": {
     "duration": 0.080999,
     "end_time": "2022-02-04T08:34:38.263746",
     "exception": false,
     "start_time": "2022-02-04T08:34:38.182747",
     "status": "completed"
    },
    "tags": []
   },
   "outputs": [
    {
     "data": {
      "text/html": [
       "<div>\n",
       "<style scoped>\n",
       "    .dataframe tbody tr th:only-of-type {\n",
       "        vertical-align: middle;\n",
       "    }\n",
       "\n",
       "    .dataframe tbody tr th {\n",
       "        vertical-align: top;\n",
       "    }\n",
       "\n",
       "    .dataframe thead th {\n",
       "        text-align: right;\n",
       "    }\n",
       "</style>\n",
       "<table border=\"1\" class=\"dataframe\">\n",
       "  <thead>\n",
       "    <tr style=\"text-align: right;\">\n",
       "      <th></th>\n",
       "      <th>LotFrontage</th>\n",
       "      <th>MasVnrArea</th>\n",
       "      <th>BsmtFinSF1</th>\n",
       "      <th>BsmtFinSF2</th>\n",
       "      <th>BsmtUnfSF</th>\n",
       "      <th>TotalBsmtSF</th>\n",
       "      <th>BsmtFullBath</th>\n",
       "      <th>BsmtHalfBath</th>\n",
       "      <th>GarageYrBlt</th>\n",
       "      <th>GarageCars</th>\n",
       "      <th>GarageArea</th>\n",
       "      <th>SalePrice</th>\n",
       "    </tr>\n",
       "    <tr>\n",
       "      <th>Id</th>\n",
       "      <th></th>\n",
       "      <th></th>\n",
       "      <th></th>\n",
       "      <th></th>\n",
       "      <th></th>\n",
       "      <th></th>\n",
       "      <th></th>\n",
       "      <th></th>\n",
       "      <th></th>\n",
       "      <th></th>\n",
       "      <th></th>\n",
       "      <th></th>\n",
       "    </tr>\n",
       "  </thead>\n",
       "  <tbody>\n",
       "    <tr>\n",
       "      <th>1</th>\n",
       "      <td>65.0</td>\n",
       "      <td>196.0</td>\n",
       "      <td>706.0</td>\n",
       "      <td>0.0</td>\n",
       "      <td>150.0</td>\n",
       "      <td>856.0</td>\n",
       "      <td>1.0</td>\n",
       "      <td>0.0</td>\n",
       "      <td>2003.0</td>\n",
       "      <td>2.0</td>\n",
       "      <td>548.0</td>\n",
       "      <td>208500.0</td>\n",
       "    </tr>\n",
       "    <tr>\n",
       "      <th>2</th>\n",
       "      <td>80.0</td>\n",
       "      <td>0.0</td>\n",
       "      <td>978.0</td>\n",
       "      <td>0.0</td>\n",
       "      <td>284.0</td>\n",
       "      <td>1262.0</td>\n",
       "      <td>0.0</td>\n",
       "      <td>1.0</td>\n",
       "      <td>1976.0</td>\n",
       "      <td>2.0</td>\n",
       "      <td>460.0</td>\n",
       "      <td>181500.0</td>\n",
       "    </tr>\n",
       "    <tr>\n",
       "      <th>3</th>\n",
       "      <td>68.0</td>\n",
       "      <td>162.0</td>\n",
       "      <td>486.0</td>\n",
       "      <td>0.0</td>\n",
       "      <td>434.0</td>\n",
       "      <td>920.0</td>\n",
       "      <td>1.0</td>\n",
       "      <td>0.0</td>\n",
       "      <td>2001.0</td>\n",
       "      <td>2.0</td>\n",
       "      <td>608.0</td>\n",
       "      <td>223500.0</td>\n",
       "    </tr>\n",
       "    <tr>\n",
       "      <th>4</th>\n",
       "      <td>60.0</td>\n",
       "      <td>0.0</td>\n",
       "      <td>216.0</td>\n",
       "      <td>0.0</td>\n",
       "      <td>540.0</td>\n",
       "      <td>756.0</td>\n",
       "      <td>1.0</td>\n",
       "      <td>0.0</td>\n",
       "      <td>1998.0</td>\n",
       "      <td>3.0</td>\n",
       "      <td>642.0</td>\n",
       "      <td>140000.0</td>\n",
       "    </tr>\n",
       "    <tr>\n",
       "      <th>5</th>\n",
       "      <td>84.0</td>\n",
       "      <td>350.0</td>\n",
       "      <td>655.0</td>\n",
       "      <td>0.0</td>\n",
       "      <td>490.0</td>\n",
       "      <td>1145.0</td>\n",
       "      <td>1.0</td>\n",
       "      <td>0.0</td>\n",
       "      <td>2000.0</td>\n",
       "      <td>3.0</td>\n",
       "      <td>836.0</td>\n",
       "      <td>250000.0</td>\n",
       "    </tr>\n",
       "    <tr>\n",
       "      <th>...</th>\n",
       "      <td>...</td>\n",
       "      <td>...</td>\n",
       "      <td>...</td>\n",
       "      <td>...</td>\n",
       "      <td>...</td>\n",
       "      <td>...</td>\n",
       "      <td>...</td>\n",
       "      <td>...</td>\n",
       "      <td>...</td>\n",
       "      <td>...</td>\n",
       "      <td>...</td>\n",
       "      <td>...</td>\n",
       "    </tr>\n",
       "    <tr>\n",
       "      <th>2915</th>\n",
       "      <td>21.0</td>\n",
       "      <td>0.0</td>\n",
       "      <td>0.0</td>\n",
       "      <td>0.0</td>\n",
       "      <td>546.0</td>\n",
       "      <td>546.0</td>\n",
       "      <td>0.0</td>\n",
       "      <td>0.0</td>\n",
       "      <td>NaN</td>\n",
       "      <td>0.0</td>\n",
       "      <td>0.0</td>\n",
       "      <td>NaN</td>\n",
       "    </tr>\n",
       "    <tr>\n",
       "      <th>2916</th>\n",
       "      <td>21.0</td>\n",
       "      <td>0.0</td>\n",
       "      <td>252.0</td>\n",
       "      <td>0.0</td>\n",
       "      <td>294.0</td>\n",
       "      <td>546.0</td>\n",
       "      <td>0.0</td>\n",
       "      <td>0.0</td>\n",
       "      <td>1970.0</td>\n",
       "      <td>1.0</td>\n",
       "      <td>286.0</td>\n",
       "      <td>NaN</td>\n",
       "    </tr>\n",
       "    <tr>\n",
       "      <th>2917</th>\n",
       "      <td>160.0</td>\n",
       "      <td>0.0</td>\n",
       "      <td>1224.0</td>\n",
       "      <td>0.0</td>\n",
       "      <td>0.0</td>\n",
       "      <td>1224.0</td>\n",
       "      <td>1.0</td>\n",
       "      <td>0.0</td>\n",
       "      <td>1960.0</td>\n",
       "      <td>2.0</td>\n",
       "      <td>576.0</td>\n",
       "      <td>NaN</td>\n",
       "    </tr>\n",
       "    <tr>\n",
       "      <th>2918</th>\n",
       "      <td>62.0</td>\n",
       "      <td>0.0</td>\n",
       "      <td>337.0</td>\n",
       "      <td>0.0</td>\n",
       "      <td>575.0</td>\n",
       "      <td>912.0</td>\n",
       "      <td>0.0</td>\n",
       "      <td>1.0</td>\n",
       "      <td>NaN</td>\n",
       "      <td>0.0</td>\n",
       "      <td>0.0</td>\n",
       "      <td>NaN</td>\n",
       "    </tr>\n",
       "    <tr>\n",
       "      <th>2919</th>\n",
       "      <td>74.0</td>\n",
       "      <td>94.0</td>\n",
       "      <td>758.0</td>\n",
       "      <td>0.0</td>\n",
       "      <td>238.0</td>\n",
       "      <td>996.0</td>\n",
       "      <td>0.0</td>\n",
       "      <td>0.0</td>\n",
       "      <td>1993.0</td>\n",
       "      <td>3.0</td>\n",
       "      <td>650.0</td>\n",
       "      <td>NaN</td>\n",
       "    </tr>\n",
       "  </tbody>\n",
       "</table>\n",
       "<p>2919 rows × 12 columns</p>\n",
       "</div>"
      ],
      "text/plain": [
       "      LotFrontage  MasVnrArea  BsmtFinSF1  BsmtFinSF2  BsmtUnfSF  TotalBsmtSF  \\\n",
       "Id                                                                              \n",
       "1            65.0       196.0       706.0         0.0      150.0        856.0   \n",
       "2            80.0         0.0       978.0         0.0      284.0       1262.0   \n",
       "3            68.0       162.0       486.0         0.0      434.0        920.0   \n",
       "4            60.0         0.0       216.0         0.0      540.0        756.0   \n",
       "5            84.0       350.0       655.0         0.0      490.0       1145.0   \n",
       "...           ...         ...         ...         ...        ...          ...   \n",
       "2915         21.0         0.0         0.0         0.0      546.0        546.0   \n",
       "2916         21.0         0.0       252.0         0.0      294.0        546.0   \n",
       "2917        160.0         0.0      1224.0         0.0        0.0       1224.0   \n",
       "2918         62.0         0.0       337.0         0.0      575.0        912.0   \n",
       "2919         74.0        94.0       758.0         0.0      238.0        996.0   \n",
       "\n",
       "      BsmtFullBath  BsmtHalfBath  GarageYrBlt  GarageCars  GarageArea  \\\n",
       "Id                                                                      \n",
       "1              1.0           0.0       2003.0         2.0       548.0   \n",
       "2              0.0           1.0       1976.0         2.0       460.0   \n",
       "3              1.0           0.0       2001.0         2.0       608.0   \n",
       "4              1.0           0.0       1998.0         3.0       642.0   \n",
       "5              1.0           0.0       2000.0         3.0       836.0   \n",
       "...            ...           ...          ...         ...         ...   \n",
       "2915           0.0           0.0          NaN         0.0         0.0   \n",
       "2916           0.0           0.0       1970.0         1.0       286.0   \n",
       "2917           1.0           0.0       1960.0         2.0       576.0   \n",
       "2918           0.0           1.0          NaN         0.0         0.0   \n",
       "2919           0.0           0.0       1993.0         3.0       650.0   \n",
       "\n",
       "      SalePrice  \n",
       "Id               \n",
       "1      208500.0  \n",
       "2      181500.0  \n",
       "3      223500.0  \n",
       "4      140000.0  \n",
       "5      250000.0  \n",
       "...         ...  \n",
       "2915        NaN  \n",
       "2916        NaN  \n",
       "2917        NaN  \n",
       "2918        NaN  \n",
       "2919        NaN  \n",
       "\n",
       "[2919 rows x 12 columns]"
      ]
     },
     "execution_count": 13,
     "metadata": {},
     "output_type": "execute_result"
    }
   ],
   "source": [
    "df_num_non"
   ]
  },
  {
   "cell_type": "code",
   "execution_count": 14,
   "id": "780a8f73",
   "metadata": {
    "execution": {
     "iopub.execute_input": "2022-02-04T08:34:38.373667Z",
     "iopub.status.busy": "2022-02-04T08:34:38.372893Z",
     "iopub.status.idle": "2022-02-04T08:34:38.376341Z",
     "shell.execute_reply": "2022-02-04T08:34:38.375846Z",
     "shell.execute_reply.started": "2022-02-04T05:46:40.277121Z"
    },
    "papermill": {
     "duration": 0.061432,
     "end_time": "2022-02-04T08:34:38.376482",
     "exception": false,
     "start_time": "2022-02-04T08:34:38.315050",
     "status": "completed"
    },
    "tags": []
   },
   "outputs": [
    {
     "data": {
      "text/plain": [
       "False"
      ]
     },
     "execution_count": 14,
     "metadata": {},
     "output_type": "execute_result"
    }
   ],
   "source": [
    "df[\"LotFrontage\"].fillna(df[\"LotFrontage\"].mean(), inplace=True)\n",
    "df[\"LotFrontage\"].isnull().any()"
   ]
  },
  {
   "cell_type": "code",
   "execution_count": 15,
   "id": "d521f65c",
   "metadata": {
    "execution": {
     "iopub.execute_input": "2022-02-04T08:34:38.486089Z",
     "iopub.status.busy": "2022-02-04T08:34:38.485184Z",
     "iopub.status.idle": "2022-02-04T08:34:38.488835Z",
     "shell.execute_reply": "2022-02-04T08:34:38.488269Z",
     "shell.execute_reply.started": "2022-02-04T05:46:40.286336Z"
    },
    "papermill": {
     "duration": 0.060874,
     "end_time": "2022-02-04T08:34:38.488951",
     "exception": false,
     "start_time": "2022-02-04T08:34:38.428077",
     "status": "completed"
    },
    "tags": []
   },
   "outputs": [
    {
     "data": {
      "text/plain": [
       "False"
      ]
     },
     "execution_count": 15,
     "metadata": {},
     "output_type": "execute_result"
    }
   ],
   "source": [
    "df[\"MasVnrArea\"].fillna(df[\"MasVnrArea\"].mean(), inplace=True)\n",
    "df[\"MasVnrArea\"].isnull().any()"
   ]
  },
  {
   "cell_type": "code",
   "execution_count": 16,
   "id": "523f594b",
   "metadata": {
    "execution": {
     "iopub.execute_input": "2022-02-04T08:34:38.598873Z",
     "iopub.status.busy": "2022-02-04T08:34:38.598000Z",
     "iopub.status.idle": "2022-02-04T08:34:38.601737Z",
     "shell.execute_reply": "2022-02-04T08:34:38.601186Z",
     "shell.execute_reply.started": "2022-02-04T05:46:40.295342Z"
    },
    "papermill": {
     "duration": 0.061394,
     "end_time": "2022-02-04T08:34:38.601881",
     "exception": false,
     "start_time": "2022-02-04T08:34:38.540487",
     "status": "completed"
    },
    "tags": []
   },
   "outputs": [
    {
     "data": {
      "text/plain": [
       "False"
      ]
     },
     "execution_count": 16,
     "metadata": {},
     "output_type": "execute_result"
    }
   ],
   "source": [
    "df[\"BsmtFinSF1\"].fillna(df[\"BsmtFinSF1\"].mean(), inplace=True)\n",
    "df[\"BsmtFinSF1\"].isnull().any()"
   ]
  },
  {
   "cell_type": "code",
   "execution_count": 17,
   "id": "69e05092",
   "metadata": {
    "execution": {
     "iopub.execute_input": "2022-02-04T08:34:38.713651Z",
     "iopub.status.busy": "2022-02-04T08:34:38.712990Z",
     "iopub.status.idle": "2022-02-04T08:34:38.715941Z",
     "shell.execute_reply": "2022-02-04T08:34:38.715309Z",
     "shell.execute_reply.started": "2022-02-04T05:46:40.306826Z"
    },
    "papermill": {
     "duration": 0.061686,
     "end_time": "2022-02-04T08:34:38.716068",
     "exception": false,
     "start_time": "2022-02-04T08:34:38.654382",
     "status": "completed"
    },
    "tags": []
   },
   "outputs": [
    {
     "data": {
      "text/plain": [
       "False"
      ]
     },
     "execution_count": 17,
     "metadata": {},
     "output_type": "execute_result"
    }
   ],
   "source": [
    "df[\"BsmtFinSF2\"].fillna(df[\"BsmtFinSF2\"].median(), inplace=True)\n",
    "df[\"BsmtFinSF2\"].isnull().any()"
   ]
  },
  {
   "cell_type": "code",
   "execution_count": 18,
   "id": "95a25080",
   "metadata": {
    "execution": {
     "iopub.execute_input": "2022-02-04T08:34:38.823304Z",
     "iopub.status.busy": "2022-02-04T08:34:38.822670Z",
     "iopub.status.idle": "2022-02-04T08:34:38.827992Z",
     "shell.execute_reply": "2022-02-04T08:34:38.828467Z",
     "shell.execute_reply.started": "2022-02-04T05:46:40.318461Z"
    },
    "papermill": {
     "duration": 0.060727,
     "end_time": "2022-02-04T08:34:38.828614",
     "exception": false,
     "start_time": "2022-02-04T08:34:38.767887",
     "status": "completed"
    },
    "tags": []
   },
   "outputs": [
    {
     "data": {
      "text/plain": [
       "False"
      ]
     },
     "execution_count": 18,
     "metadata": {},
     "output_type": "execute_result"
    }
   ],
   "source": [
    "df[\"BsmtUnfSF\"].fillna(df[\"BsmtUnfSF\"].mean(), inplace=True)\n",
    "df[\"BsmtUnfSF\"].isnull().any()"
   ]
  },
  {
   "cell_type": "code",
   "execution_count": 19,
   "id": "404f927d",
   "metadata": {
    "execution": {
     "iopub.execute_input": "2022-02-04T08:34:38.943169Z",
     "iopub.status.busy": "2022-02-04T08:34:38.942533Z",
     "iopub.status.idle": "2022-02-04T08:34:38.944855Z",
     "shell.execute_reply": "2022-02-04T08:34:38.945280Z",
     "shell.execute_reply.started": "2022-02-04T05:46:40.331445Z"
    },
    "papermill": {
     "duration": 0.063568,
     "end_time": "2022-02-04T08:34:38.945430",
     "exception": false,
     "start_time": "2022-02-04T08:34:38.881862",
     "status": "completed"
    },
    "tags": []
   },
   "outputs": [
    {
     "data": {
      "text/plain": [
       "False"
      ]
     },
     "execution_count": 19,
     "metadata": {},
     "output_type": "execute_result"
    }
   ],
   "source": [
    "df[\"TotalBsmtSF\"].fillna(df[\"TotalBsmtSF\"].mean(), inplace=True)\n",
    "df[\"TotalBsmtSF\"].isnull().any()"
   ]
  },
  {
   "cell_type": "code",
   "execution_count": 20,
   "id": "0a1f7905",
   "metadata": {
    "execution": {
     "iopub.execute_input": "2022-02-04T08:34:39.061840Z",
     "iopub.status.busy": "2022-02-04T08:34:39.061046Z",
     "iopub.status.idle": "2022-02-04T08:34:39.064545Z",
     "shell.execute_reply": "2022-02-04T08:34:39.064018Z",
     "shell.execute_reply.started": "2022-02-04T05:46:40.338671Z"
    },
    "papermill": {
     "duration": 0.065089,
     "end_time": "2022-02-04T08:34:39.064676",
     "exception": false,
     "start_time": "2022-02-04T08:34:38.999587",
     "status": "completed"
    },
    "tags": []
   },
   "outputs": [
    {
     "data": {
      "text/plain": [
       "dtype('O')"
      ]
     },
     "execution_count": 20,
     "metadata": {},
     "output_type": "execute_result"
    }
   ],
   "source": [
    "df[\"BsmtFullBath\"]=df[\"BsmtFullBath\"].astype(\"object\")\n",
    "df[\"BsmtFullBath\"].dtypes"
   ]
  },
  {
   "cell_type": "code",
   "execution_count": 21,
   "id": "a7f032a8",
   "metadata": {
    "execution": {
     "iopub.execute_input": "2022-02-04T08:34:39.178839Z",
     "iopub.status.busy": "2022-02-04T08:34:39.177897Z",
     "iopub.status.idle": "2022-02-04T08:34:39.181190Z",
     "shell.execute_reply": "2022-02-04T08:34:39.181679Z",
     "shell.execute_reply.started": "2022-02-04T05:46:40.350847Z"
    },
    "papermill": {
     "duration": 0.063124,
     "end_time": "2022-02-04T08:34:39.181850",
     "exception": false,
     "start_time": "2022-02-04T08:34:39.118726",
     "status": "completed"
    },
    "tags": []
   },
   "outputs": [
    {
     "data": {
      "text/plain": [
       "dtype('O')"
      ]
     },
     "execution_count": 21,
     "metadata": {},
     "output_type": "execute_result"
    }
   ],
   "source": [
    "df[\"BsmtHalfBath\"]=df[\"BsmtHalfBath\"].astype(\"object\")\n",
    "df[\"BsmtHalfBath\"].dtypes"
   ]
  },
  {
   "cell_type": "code",
   "execution_count": 22,
   "id": "b6cc3208",
   "metadata": {
    "execution": {
     "iopub.execute_input": "2022-02-04T08:34:39.296289Z",
     "iopub.status.busy": "2022-02-04T08:34:39.295708Z",
     "iopub.status.idle": "2022-02-04T08:34:39.298895Z",
     "shell.execute_reply": "2022-02-04T08:34:39.299276Z",
     "shell.execute_reply.started": "2022-02-04T05:46:40.359233Z"
    },
    "papermill": {
     "duration": 0.064225,
     "end_time": "2022-02-04T08:34:39.299455",
     "exception": false,
     "start_time": "2022-02-04T08:34:39.235230",
     "status": "completed"
    },
    "tags": []
   },
   "outputs": [
    {
     "data": {
      "text/plain": [
       "False"
      ]
     },
     "execution_count": 22,
     "metadata": {},
     "output_type": "execute_result"
    }
   ],
   "source": [
    "df[\"GarageYrBlt\"].fillna(df[\"GarageYrBlt\"].median(), inplace=True)\n",
    "df[\"GarageYrBlt\"].isnull().any()"
   ]
  },
  {
   "cell_type": "code",
   "execution_count": 23,
   "id": "0314cd79",
   "metadata": {
    "execution": {
     "iopub.execute_input": "2022-02-04T08:34:39.413610Z",
     "iopub.status.busy": "2022-02-04T08:34:39.412376Z",
     "iopub.status.idle": "2022-02-04T08:34:39.416999Z",
     "shell.execute_reply": "2022-02-04T08:34:39.417398Z",
     "shell.execute_reply.started": "2022-02-04T05:46:40.371129Z"
    },
    "papermill": {
     "duration": 0.063963,
     "end_time": "2022-02-04T08:34:39.417587",
     "exception": false,
     "start_time": "2022-02-04T08:34:39.353624",
     "status": "completed"
    },
    "tags": []
   },
   "outputs": [
    {
     "data": {
      "text/plain": [
       "dtype('O')"
      ]
     },
     "execution_count": 23,
     "metadata": {},
     "output_type": "execute_result"
    }
   ],
   "source": [
    "df[\"GarageCars\"]=df[\"GarageCars\"].astype(\"object\")\n",
    "df[\"GarageCars\"].dtypes"
   ]
  },
  {
   "cell_type": "code",
   "execution_count": 24,
   "id": "3ba883d4",
   "metadata": {
    "execution": {
     "iopub.execute_input": "2022-02-04T08:34:39.533013Z",
     "iopub.status.busy": "2022-02-04T08:34:39.532363Z",
     "iopub.status.idle": "2022-02-04T08:34:39.535978Z",
     "shell.execute_reply": "2022-02-04T08:34:39.535293Z",
     "shell.execute_reply.started": "2022-02-04T05:46:40.384190Z"
    },
    "papermill": {
     "duration": 0.064668,
     "end_time": "2022-02-04T08:34:39.536126",
     "exception": false,
     "start_time": "2022-02-04T08:34:39.471458",
     "status": "completed"
    },
    "tags": []
   },
   "outputs": [
    {
     "data": {
      "text/plain": [
       "False"
      ]
     },
     "execution_count": 24,
     "metadata": {},
     "output_type": "execute_result"
    }
   ],
   "source": [
    "df[\"GarageArea\"].fillna(df[\"GarageArea\"].mean(), inplace=True)\n",
    "df[\"GarageArea\"].isnull().any()"
   ]
  },
  {
   "cell_type": "code",
   "execution_count": 25,
   "id": "040fdf47",
   "metadata": {
    "execution": {
     "iopub.execute_input": "2022-02-04T08:34:39.658710Z",
     "iopub.status.busy": "2022-02-04T08:34:39.658086Z",
     "iopub.status.idle": "2022-02-04T08:34:39.661642Z",
     "shell.execute_reply": "2022-02-04T08:34:39.662143Z",
     "shell.execute_reply.started": "2022-02-04T05:46:40.393005Z"
    },
    "papermill": {
     "duration": 0.070034,
     "end_time": "2022-02-04T08:34:39.662304",
     "exception": false,
     "start_time": "2022-02-04T08:34:39.592270",
     "status": "completed"
    },
    "tags": []
   },
   "outputs": [
    {
     "data": {
      "text/plain": [
       "Index(['MSZoning', 'Alley', 'Exterior1st', 'Exterior2nd', 'MasVnrType',\n",
       "       'BsmtQual', 'BsmtCond', 'BsmtExposure', 'BsmtFinType1', 'BsmtFinType2',\n",
       "       'Electrical', 'KitchenQual', 'Functional', 'FireplaceQu', 'GarageType',\n",
       "       'GarageFinish', 'GarageQual', 'GarageCond', 'PoolQC', 'Fence',\n",
       "       'MiscFeature', 'SaleType'],\n",
       "      dtype='object')"
      ]
     },
     "execution_count": 25,
     "metadata": {},
     "output_type": "execute_result"
    }
   ],
   "source": [
    "df_obj_non.columns"
   ]
  },
  {
   "cell_type": "code",
   "execution_count": 26,
   "id": "1e8dcab4",
   "metadata": {
    "execution": {
     "iopub.execute_input": "2022-02-04T08:34:39.783696Z",
     "iopub.status.busy": "2022-02-04T08:34:39.783050Z",
     "iopub.status.idle": "2022-02-04T08:34:39.786367Z",
     "shell.execute_reply": "2022-02-04T08:34:39.785793Z",
     "shell.execute_reply.started": "2022-02-04T05:46:40.402252Z"
    },
    "papermill": {
     "duration": 0.065394,
     "end_time": "2022-02-04T08:34:39.786512",
     "exception": false,
     "start_time": "2022-02-04T08:34:39.721118",
     "status": "completed"
    },
    "tags": []
   },
   "outputs": [
    {
     "data": {
      "text/plain": [
       "4"
      ]
     },
     "execution_count": 26,
     "metadata": {},
     "output_type": "execute_result"
    }
   ],
   "source": [
    "df[\"MSZoning\"].isnull().sum()"
   ]
  },
  {
   "cell_type": "code",
   "execution_count": 27,
   "id": "eb45488e",
   "metadata": {
    "execution": {
     "iopub.execute_input": "2022-02-04T08:34:39.904467Z",
     "iopub.status.busy": "2022-02-04T08:34:39.903782Z",
     "iopub.status.idle": "2022-02-04T08:34:39.908854Z",
     "shell.execute_reply": "2022-02-04T08:34:39.908322Z",
     "shell.execute_reply.started": "2022-02-04T05:46:40.411867Z"
    },
    "papermill": {
     "duration": 0.067395,
     "end_time": "2022-02-04T08:34:39.908982",
     "exception": false,
     "start_time": "2022-02-04T08:34:39.841587",
     "status": "completed"
    },
    "tags": []
   },
   "outputs": [
    {
     "data": {
      "text/plain": [
       "0"
      ]
     },
     "execution_count": 27,
     "metadata": {},
     "output_type": "execute_result"
    }
   ],
   "source": [
    "df[\"MSZoning\"].fillna(df[\"MSZoning\"].mode()[0], inplace=True)\n",
    "df[\"MSZoning\"].isnull().sum()"
   ]
  },
  {
   "cell_type": "code",
   "execution_count": 28,
   "id": "cdbbf9f7",
   "metadata": {
    "execution": {
     "iopub.execute_input": "2022-02-04T08:34:40.026459Z",
     "iopub.status.busy": "2022-02-04T08:34:40.025390Z",
     "iopub.status.idle": "2022-02-04T08:34:40.033551Z",
     "shell.execute_reply": "2022-02-04T08:34:40.033982Z",
     "shell.execute_reply.started": "2022-02-04T05:46:40.422519Z"
    },
    "papermill": {
     "duration": 0.067463,
     "end_time": "2022-02-04T08:34:40.034125",
     "exception": false,
     "start_time": "2022-02-04T08:34:39.966662",
     "status": "completed"
    },
    "tags": []
   },
   "outputs": [
    {
     "data": {
      "text/plain": [
       "0"
      ]
     },
     "execution_count": 28,
     "metadata": {},
     "output_type": "execute_result"
    }
   ],
   "source": [
    "df[\"Electrical\"].fillna(df[\"Electrical\"].mode()[0], inplace=True)\n",
    "df[\"Electrical\"].isnull().sum()"
   ]
  },
  {
   "cell_type": "code",
   "execution_count": 29,
   "id": "e2abe399",
   "metadata": {
    "execution": {
     "iopub.execute_input": "2022-02-04T08:34:40.148745Z",
     "iopub.status.busy": "2022-02-04T08:34:40.147932Z",
     "iopub.status.idle": "2022-02-04T08:34:40.155753Z",
     "shell.execute_reply": "2022-02-04T08:34:40.156246Z",
     "shell.execute_reply.started": "2022-02-04T05:46:40.431311Z"
    },
    "papermill": {
     "duration": 0.066798,
     "end_time": "2022-02-04T08:34:40.156419",
     "exception": false,
     "start_time": "2022-02-04T08:34:40.089621",
     "status": "completed"
    },
    "tags": []
   },
   "outputs": [
    {
     "data": {
      "text/plain": [
       "0"
      ]
     },
     "execution_count": 29,
     "metadata": {},
     "output_type": "execute_result"
    }
   ],
   "source": [
    "df[\"KitchenQual\"].fillna(df[\"KitchenQual\"].mode()[0], inplace=True)\n",
    "df[\"KitchenQual\"].isnull().sum()"
   ]
  },
  {
   "cell_type": "code",
   "execution_count": 30,
   "id": "3ff10885",
   "metadata": {
    "execution": {
     "iopub.execute_input": "2022-02-04T08:34:40.271936Z",
     "iopub.status.busy": "2022-02-04T08:34:40.271000Z",
     "iopub.status.idle": "2022-02-04T08:34:40.279940Z",
     "shell.execute_reply": "2022-02-04T08:34:40.279278Z",
     "shell.execute_reply.started": "2022-02-04T05:46:40.441298Z"
    },
    "papermill": {
     "duration": 0.067795,
     "end_time": "2022-02-04T08:34:40.280074",
     "exception": false,
     "start_time": "2022-02-04T08:34:40.212279",
     "status": "completed"
    },
    "tags": []
   },
   "outputs": [
    {
     "data": {
      "text/plain": [
       "0"
      ]
     },
     "execution_count": 30,
     "metadata": {},
     "output_type": "execute_result"
    }
   ],
   "source": [
    "df[\"Functional\"].fillna(df[\"Functional\"].mode()[0], inplace=True)\n",
    "df[\"Functional\"].isnull().sum()"
   ]
  },
  {
   "cell_type": "code",
   "execution_count": 31,
   "id": "f8398c0b",
   "metadata": {
    "execution": {
     "iopub.execute_input": "2022-02-04T08:34:40.399837Z",
     "iopub.status.busy": "2022-02-04T08:34:40.399213Z",
     "iopub.status.idle": "2022-02-04T08:34:40.401541Z",
     "shell.execute_reply": "2022-02-04T08:34:40.402019Z",
     "shell.execute_reply.started": "2022-02-04T05:46:40.451431Z"
    },
    "papermill": {
     "duration": 0.065695,
     "end_time": "2022-02-04T08:34:40.402192",
     "exception": false,
     "start_time": "2022-02-04T08:34:40.336497",
     "status": "completed"
    },
    "tags": []
   },
   "outputs": [
    {
     "data": {
      "text/plain": [
       "0"
      ]
     },
     "execution_count": 31,
     "metadata": {},
     "output_type": "execute_result"
    }
   ],
   "source": [
    "df[\"SaleType\"].fillna(df[\"SaleType\"].mode()[0], inplace=True)\n",
    "df[\"SaleType\"].isnull().sum()"
   ]
  },
  {
   "cell_type": "code",
   "execution_count": 32,
   "id": "cc850065",
   "metadata": {
    "execution": {
     "iopub.execute_input": "2022-02-04T08:34:40.518504Z",
     "iopub.status.busy": "2022-02-04T08:34:40.517647Z",
     "iopub.status.idle": "2022-02-04T08:34:40.545214Z",
     "shell.execute_reply": "2022-02-04T08:34:40.545624Z",
     "shell.execute_reply.started": "2022-02-04T05:46:40.459367Z"
    },
    "papermill": {
     "duration": 0.087807,
     "end_time": "2022-02-04T08:34:40.545813",
     "exception": false,
     "start_time": "2022-02-04T08:34:40.458006",
     "status": "completed"
    },
    "tags": []
   },
   "outputs": [
    {
     "name": "stdout",
     "output_type": "stream",
     "text": [
      "SalePrice\n"
     ]
    }
   ],
   "source": [
    "l = ()\n",
    "for col in df.columns:\n",
    "    if df[col].isnull().any == True:\n",
    "        l += (col,)\n",
    "print(col)"
   ]
  },
  {
   "cell_type": "code",
   "execution_count": 33,
   "id": "914611c6",
   "metadata": {
    "execution": {
     "iopub.execute_input": "2022-02-04T08:34:40.664520Z",
     "iopub.status.busy": "2022-02-04T08:34:40.663932Z",
     "iopub.status.idle": "2022-02-04T08:34:41.667458Z",
     "shell.execute_reply": "2022-02-04T08:34:41.667915Z",
     "shell.execute_reply.started": "2022-02-04T06:01:42.554341Z"
    },
    "papermill": {
     "duration": 1.064613,
     "end_time": "2022-02-04T08:34:41.668078",
     "exception": false,
     "start_time": "2022-02-04T08:34:40.603465",
     "status": "completed"
    },
    "tags": []
   },
   "outputs": [],
   "source": [
    "from sklearn.preprocessing import LabelEncoder\n",
    "lbe = LabelEncoder()"
   ]
  },
  {
   "cell_type": "code",
   "execution_count": 34,
   "id": "bf76b719",
   "metadata": {
    "execution": {
     "iopub.execute_input": "2022-02-04T08:34:41.786145Z",
     "iopub.status.busy": "2022-02-04T08:34:41.785531Z",
     "iopub.status.idle": "2022-02-04T08:34:41.863991Z",
     "shell.execute_reply": "2022-02-04T08:34:41.863365Z",
     "shell.execute_reply.started": "2022-02-04T06:15:12.939327Z"
    },
    "papermill": {
     "duration": 0.138258,
     "end_time": "2022-02-04T08:34:41.864137",
     "exception": false,
     "start_time": "2022-02-04T08:34:41.725879",
     "status": "completed"
    },
    "tags": []
   },
   "outputs": [],
   "source": [
    "df[df_cat.columns] = df[df_cat.columns].astype(str).apply(lbe.fit_transform)"
   ]
  },
  {
   "cell_type": "code",
   "execution_count": 35,
   "id": "0b7f897d",
   "metadata": {
    "execution": {
     "iopub.execute_input": "2022-02-04T08:34:41.986903Z",
     "iopub.status.busy": "2022-02-04T08:34:41.986226Z",
     "iopub.status.idle": "2022-02-04T08:34:41.989757Z",
     "shell.execute_reply": "2022-02-04T08:34:41.990331Z",
     "shell.execute_reply.started": "2022-02-04T06:15:44.636581Z"
    },
    "papermill": {
     "duration": 0.067519,
     "end_time": "2022-02-04T08:34:41.990502",
     "exception": false,
     "start_time": "2022-02-04T08:34:41.922983",
     "status": "completed"
    },
    "tags": []
   },
   "outputs": [],
   "source": [
    "train_fixed = df[:1460]\n",
    "test_fixed = df[1460:]"
   ]
  },
  {
   "cell_type": "code",
   "execution_count": 36,
   "id": "b0ccb32a",
   "metadata": {
    "execution": {
     "iopub.execute_input": "2022-02-04T08:34:42.112617Z",
     "iopub.status.busy": "2022-02-04T08:34:42.112029Z",
     "iopub.status.idle": "2022-02-04T08:34:42.120357Z",
     "shell.execute_reply": "2022-02-04T08:34:42.120913Z",
     "shell.execute_reply.started": "2022-02-04T06:15:45.848733Z"
    },
    "papermill": {
     "duration": 0.070944,
     "end_time": "2022-02-04T08:34:42.121078",
     "exception": false,
     "start_time": "2022-02-04T08:34:42.050134",
     "status": "completed"
    },
    "tags": []
   },
   "outputs": [],
   "source": [
    "X_train = train_fixed.drop(\"SalePrice\", axis=1)\n",
    "y_train = train_fixed[\"SalePrice\"]\n",
    "X_test = test_fixed.drop(\"SalePrice\", axis=1)\n",
    "y_test = test_fixed[\"SalePrice\"]"
   ]
  },
  {
   "cell_type": "code",
   "execution_count": 37,
   "id": "cd12c297",
   "metadata": {
    "execution": {
     "iopub.execute_input": "2022-02-04T08:34:42.242280Z",
     "iopub.status.busy": "2022-02-04T08:34:42.241649Z",
     "iopub.status.idle": "2022-02-04T08:34:42.296261Z",
     "shell.execute_reply": "2022-02-04T08:34:42.296850Z",
     "shell.execute_reply.started": "2022-02-04T05:46:40.509181Z"
    },
    "papermill": {
     "duration": 0.117113,
     "end_time": "2022-02-04T08:34:42.297033",
     "exception": false,
     "start_time": "2022-02-04T08:34:42.179920",
     "status": "completed"
    },
    "tags": []
   },
   "outputs": [],
   "source": [
    "from sklearn.model_selection import train_test_split, GridSearchCV, cross_val_score"
   ]
  },
  {
   "cell_type": "code",
   "execution_count": 38,
   "id": "9f4ab077",
   "metadata": {
    "execution": {
     "iopub.execute_input": "2022-02-04T08:34:42.415309Z",
     "iopub.status.busy": "2022-02-04T08:34:42.414729Z",
     "iopub.status.idle": "2022-02-04T08:34:42.420664Z",
     "shell.execute_reply": "2022-02-04T08:34:42.421180Z",
     "shell.execute_reply.started": "2022-02-04T06:15:50.403822Z"
    },
    "papermill": {
     "duration": 0.066408,
     "end_time": "2022-02-04T08:34:42.421335",
     "exception": false,
     "start_time": "2022-02-04T08:34:42.354927",
     "status": "completed"
    },
    "tags": []
   },
   "outputs": [],
   "source": [
    "a_train, a_test, b_train, b_test = train_test_split(X_train, y_train, test_size=0.25)"
   ]
  },
  {
   "cell_type": "code",
   "execution_count": 39,
   "id": "5121f698",
   "metadata": {
    "execution": {
     "iopub.execute_input": "2022-02-04T08:34:42.539031Z",
     "iopub.status.busy": "2022-02-04T08:34:42.538441Z",
     "iopub.status.idle": "2022-02-04T08:34:42.712111Z",
     "shell.execute_reply": "2022-02-04T08:34:42.711425Z",
     "shell.execute_reply.started": "2022-02-04T05:53:58.145729Z"
    },
    "papermill": {
     "duration": 0.233902,
     "end_time": "2022-02-04T08:34:42.712233",
     "exception": false,
     "start_time": "2022-02-04T08:34:42.478331",
     "status": "completed"
    },
    "tags": []
   },
   "outputs": [],
   "source": [
    "from sklearn.ensemble import RandomForestRegressor"
   ]
  },
  {
   "cell_type": "markdown",
   "id": "4256243a",
   "metadata": {
    "papermill": {
     "duration": 0.057905,
     "end_time": "2022-02-04T08:34:42.827639",
     "exception": false,
     "start_time": "2022-02-04T08:34:42.769734",
     "status": "completed"
    },
    "tags": []
   },
   "source": [
    "# Random Forest"
   ]
  },
  {
   "cell_type": "code",
   "execution_count": 40,
   "id": "1885f84e",
   "metadata": {
    "execution": {
     "iopub.execute_input": "2022-02-04T08:34:42.950128Z",
     "iopub.status.busy": "2022-02-04T08:34:42.949502Z",
     "iopub.status.idle": "2022-02-04T08:34:44.643307Z",
     "shell.execute_reply": "2022-02-04T08:34:44.642641Z",
     "shell.execute_reply.started": "2022-02-04T06:15:56.437282Z"
    },
    "papermill": {
     "duration": 1.7586,
     "end_time": "2022-02-04T08:34:44.643463",
     "exception": false,
     "start_time": "2022-02-04T08:34:42.884863",
     "status": "completed"
    },
    "tags": []
   },
   "outputs": [
    {
     "data": {
      "text/plain": [
       "RandomForestRegressor()"
      ]
     },
     "execution_count": 40,
     "metadata": {},
     "output_type": "execute_result"
    }
   ],
   "source": [
    "rf_model = RandomForestRegressor()\n",
    "rf_model.fit(a_train, b_train)"
   ]
  },
  {
   "cell_type": "markdown",
   "id": "905c17c4",
   "metadata": {
    "papermill": {
     "duration": 0.058137,
     "end_time": "2022-02-04T08:34:44.759478",
     "exception": false,
     "start_time": "2022-02-04T08:34:44.701341",
     "status": "completed"
    },
    "tags": []
   },
   "source": [
    "# Predict"
   ]
  },
  {
   "cell_type": "code",
   "execution_count": 41,
   "id": "63d9946c",
   "metadata": {
    "execution": {
     "iopub.execute_input": "2022-02-04T08:34:44.879340Z",
     "iopub.status.busy": "2022-02-04T08:34:44.878712Z",
     "iopub.status.idle": "2022-02-04T08:34:44.908888Z",
     "shell.execute_reply": "2022-02-04T08:34:44.909372Z",
     "shell.execute_reply.started": "2022-02-04T06:17:15.191454Z"
    },
    "papermill": {
     "duration": 0.09228,
     "end_time": "2022-02-04T08:34:44.909578",
     "exception": false,
     "start_time": "2022-02-04T08:34:44.817298",
     "status": "completed"
    },
    "tags": []
   },
   "outputs": [
    {
     "data": {
      "text/plain": [
       "array([118593.5 , 265080.99, 150791.  , 133386.06, 219040.29])"
      ]
     },
     "execution_count": 41,
     "metadata": {},
     "output_type": "execute_result"
    }
   ],
   "source": [
    "rf_model.predict(a_test)[0:5]"
   ]
  },
  {
   "cell_type": "code",
   "execution_count": 42,
   "id": "55b131be",
   "metadata": {
    "execution": {
     "iopub.execute_input": "2022-02-04T08:34:45.029977Z",
     "iopub.status.busy": "2022-02-04T08:34:45.029369Z",
     "iopub.status.idle": "2022-02-04T08:34:45.052842Z",
     "shell.execute_reply": "2022-02-04T08:34:45.052337Z",
     "shell.execute_reply.started": "2022-02-04T06:18:49.942823Z"
    },
    "papermill": {
     "duration": 0.08439,
     "end_time": "2022-02-04T08:34:45.052964",
     "exception": false,
     "start_time": "2022-02-04T08:34:44.968574",
     "status": "completed"
    },
    "tags": []
   },
   "outputs": [],
   "source": [
    "b_pred = rf_model.predict(a_test)"
   ]
  },
  {
   "cell_type": "code",
   "execution_count": 43,
   "id": "0182baff",
   "metadata": {
    "execution": {
     "iopub.execute_input": "2022-02-04T08:34:45.176830Z",
     "iopub.status.busy": "2022-02-04T08:34:45.176166Z",
     "iopub.status.idle": "2022-02-04T08:34:45.179184Z",
     "shell.execute_reply": "2022-02-04T08:34:45.179663Z",
     "shell.execute_reply.started": "2022-02-04T06:20:15.166931Z"
    },
    "papermill": {
     "duration": 0.067482,
     "end_time": "2022-02-04T08:34:45.179805",
     "exception": false,
     "start_time": "2022-02-04T08:34:45.112323",
     "status": "completed"
    },
    "tags": []
   },
   "outputs": [
    {
     "data": {
      "text/plain": [
       "36695.65999299149"
      ]
     },
     "execution_count": 43,
     "metadata": {},
     "output_type": "execute_result"
    }
   ],
   "source": [
    "from sklearn.metrics import mean_squared_error\n",
    "np.sqrt(mean_squared_error(b_test,b_pred))"
   ]
  },
  {
   "cell_type": "markdown",
   "id": "eea14adf",
   "metadata": {
    "papermill": {
     "duration": 0.058747,
     "end_time": "2022-02-04T08:34:45.296316",
     "exception": false,
     "start_time": "2022-02-04T08:34:45.237569",
     "status": "completed"
    },
    "tags": []
   },
   "source": [
    "# Model Tuning"
   ]
  },
  {
   "cell_type": "code",
   "execution_count": 44,
   "id": "fa5777fb",
   "metadata": {
    "execution": {
     "iopub.execute_input": "2022-02-04T08:34:45.415220Z",
     "iopub.status.busy": "2022-02-04T08:34:45.414600Z",
     "iopub.status.idle": "2022-02-04T08:34:45.418408Z",
     "shell.execute_reply": "2022-02-04T08:34:45.418854Z",
     "shell.execute_reply.started": "2022-02-04T06:39:58.992156Z"
    },
    "papermill": {
     "duration": 0.064403,
     "end_time": "2022-02-04T08:34:45.419006",
     "exception": false,
     "start_time": "2022-02-04T08:34:45.354603",
     "status": "completed"
    },
    "tags": []
   },
   "outputs": [],
   "source": [
    "rf_params = {\"max_depth\" : list(range(1,30,2)),\n",
    "             \"max_features\" : [5,10,15,20],\n",
    "             \"n_estimators\" : [100,200,500,1000,2000]}"
   ]
  },
  {
   "cell_type": "code",
   "execution_count": 45,
   "id": "46969fd4",
   "metadata": {
    "execution": {
     "iopub.execute_input": "2022-02-04T08:34:45.538449Z",
     "iopub.status.busy": "2022-02-04T08:34:45.537865Z",
     "iopub.status.idle": "2022-02-04T08:34:45.540714Z",
     "shell.execute_reply": "2022-02-04T08:34:45.541189Z",
     "shell.execute_reply.started": "2022-02-04T06:41:14.560200Z"
    },
    "papermill": {
     "duration": 0.064384,
     "end_time": "2022-02-04T08:34:45.541337",
     "exception": false,
     "start_time": "2022-02-04T08:34:45.476953",
     "status": "completed"
    },
    "tags": []
   },
   "outputs": [],
   "source": [
    "rf_model = RandomForestRegressor()"
   ]
  },
  {
   "cell_type": "code",
   "execution_count": 46,
   "id": "4ec50504",
   "metadata": {
    "execution": {
     "iopub.execute_input": "2022-02-04T08:34:45.659827Z",
     "iopub.status.busy": "2022-02-04T08:34:45.659317Z",
     "iopub.status.idle": "2022-02-04T08:34:45.662457Z",
     "shell.execute_reply": "2022-02-04T08:34:45.662972Z",
     "shell.execute_reply.started": "2022-02-04T06:42:21.401608Z"
    },
    "papermill": {
     "duration": 0.0638,
     "end_time": "2022-02-04T08:34:45.663120",
     "exception": false,
     "start_time": "2022-02-04T08:34:45.599320",
     "status": "completed"
    },
    "tags": []
   },
   "outputs": [],
   "source": [
    "rf_cv_model = GridSearchCV(rf_model, rf_params, cv=10, n_jobs=-1)"
   ]
  },
  {
   "cell_type": "code",
   "execution_count": 47,
   "id": "f2864697",
   "metadata": {
    "execution": {
     "iopub.execute_input": "2022-02-04T08:34:45.781358Z",
     "iopub.status.busy": "2022-02-04T08:34:45.780772Z",
     "iopub.status.idle": "2022-02-04T09:28:00.376887Z",
     "shell.execute_reply": "2022-02-04T09:28:00.377449Z",
     "shell.execute_reply.started": "2022-02-04T06:42:49.011595Z"
    },
    "papermill": {
     "duration": 3194.656743,
     "end_time": "2022-02-04T09:28:00.377776",
     "exception": false,
     "start_time": "2022-02-04T08:34:45.721033",
     "status": "completed"
    },
    "tags": []
   },
   "outputs": [
    {
     "data": {
      "text/plain": [
       "GridSearchCV(cv=10, estimator=RandomForestRegressor(), n_jobs=-1,\n",
       "             param_grid={'max_depth': [1, 3, 5, 7, 9, 11, 13, 15, 17, 19, 21,\n",
       "                                       23, 25, 27, 29],\n",
       "                         'max_features': [5, 10, 15, 20],\n",
       "                         'n_estimators': [100, 200, 500, 1000, 2000]})"
      ]
     },
     "execution_count": 47,
     "metadata": {},
     "output_type": "execute_result"
    }
   ],
   "source": [
    "rf_cv_model.fit(a_train,b_train)"
   ]
  },
  {
   "cell_type": "code",
   "execution_count": 48,
   "id": "1bcae2f8",
   "metadata": {
    "execution": {
     "iopub.execute_input": "2022-02-04T09:28:00.497035Z",
     "iopub.status.busy": "2022-02-04T09:28:00.496053Z",
     "iopub.status.idle": "2022-02-04T09:28:00.502228Z",
     "shell.execute_reply": "2022-02-04T09:28:00.501614Z",
     "shell.execute_reply.started": "2022-02-04T07:34:58.506056Z"
    },
    "papermill": {
     "duration": 0.06729,
     "end_time": "2022-02-04T09:28:00.502366",
     "exception": false,
     "start_time": "2022-02-04T09:28:00.435076",
     "status": "completed"
    },
    "tags": []
   },
   "outputs": [
    {
     "data": {
      "text/plain": [
       "{'max_depth': 27, 'max_features': 20, 'n_estimators': 100}"
      ]
     },
     "execution_count": 48,
     "metadata": {},
     "output_type": "execute_result"
    }
   ],
   "source": [
    "rf_cv_model.best_params_"
   ]
  },
  {
   "cell_type": "code",
   "execution_count": 49,
   "id": "097e7ebf",
   "metadata": {
    "execution": {
     "iopub.execute_input": "2022-02-04T09:28:00.715984Z",
     "iopub.status.busy": "2022-02-04T09:28:00.712567Z",
     "iopub.status.idle": "2022-02-04T09:28:00.717660Z",
     "shell.execute_reply": "2022-02-04T09:28:00.718217Z",
     "shell.execute_reply.started": "2022-02-04T07:37:53.566904Z"
    },
    "papermill": {
     "duration": 0.157064,
     "end_time": "2022-02-04T09:28:00.718371",
     "exception": false,
     "start_time": "2022-02-04T09:28:00.561307",
     "status": "completed"
    },
    "tags": []
   },
   "outputs": [],
   "source": [
    "rf_tuned = RandomForestRegressor(max_depth = pd.Series(rf_cv_model.best_params_)[0],\n",
    "                                 max_features = pd.Series(rf_cv_model.best_params_)[1],\n",
    "                                 n_estimators = pd.Series(rf_cv_model.best_params_)[2])"
   ]
  },
  {
   "cell_type": "code",
   "execution_count": 50,
   "id": "afbcf0b0",
   "metadata": {
    "execution": {
     "iopub.execute_input": "2022-02-04T09:28:00.836351Z",
     "iopub.status.busy": "2022-02-04T09:28:00.835779Z",
     "iopub.status.idle": "2022-02-04T09:28:01.434322Z",
     "shell.execute_reply": "2022-02-04T09:28:01.434793Z",
     "shell.execute_reply.started": "2022-02-04T07:38:44.514760Z"
    },
    "papermill": {
     "duration": 0.658137,
     "end_time": "2022-02-04T09:28:01.434954",
     "exception": false,
     "start_time": "2022-02-04T09:28:00.776817",
     "status": "completed"
    },
    "tags": []
   },
   "outputs": [
    {
     "data": {
      "text/plain": [
       "RandomForestRegressor(max_depth=27, max_features=20)"
      ]
     },
     "execution_count": 50,
     "metadata": {},
     "output_type": "execute_result"
    }
   ],
   "source": [
    "rf_tuned.fit(a_train, b_train)"
   ]
  },
  {
   "cell_type": "code",
   "execution_count": 51,
   "id": "8e38a206",
   "metadata": {
    "execution": {
     "iopub.execute_input": "2022-02-04T09:28:01.570153Z",
     "iopub.status.busy": "2022-02-04T09:28:01.569247Z",
     "iopub.status.idle": "2022-02-04T09:28:01.592079Z",
     "shell.execute_reply": "2022-02-04T09:28:01.592692Z",
     "shell.execute_reply.started": "2022-02-04T07:39:16.599777Z"
    },
    "papermill": {
     "duration": 0.09835,
     "end_time": "2022-02-04T09:28:01.592838",
     "exception": false,
     "start_time": "2022-02-04T09:28:01.494488",
     "status": "completed"
    },
    "tags": []
   },
   "outputs": [],
   "source": [
    "b_pred = rf_tuned.predict(a_test)"
   ]
  },
  {
   "cell_type": "code",
   "execution_count": 52,
   "id": "6369eaee",
   "metadata": {
    "execution": {
     "iopub.execute_input": "2022-02-04T09:28:01.734928Z",
     "iopub.status.busy": "2022-02-04T09:28:01.734045Z",
     "iopub.status.idle": "2022-02-04T09:28:01.739777Z",
     "shell.execute_reply": "2022-02-04T09:28:01.740169Z",
     "shell.execute_reply.started": "2022-02-04T07:39:56.038414Z"
    },
    "papermill": {
     "duration": 0.083478,
     "end_time": "2022-02-04T09:28:01.740321",
     "exception": false,
     "start_time": "2022-02-04T09:28:01.656843",
     "status": "completed"
    },
    "tags": []
   },
   "outputs": [
    {
     "data": {
      "text/plain": [
       "34938.36667783865"
      ]
     },
     "execution_count": 52,
     "metadata": {},
     "output_type": "execute_result"
    }
   ],
   "source": [
    "np.sqrt(mean_squared_error(b_test,b_pred))"
   ]
  },
  {
   "cell_type": "code",
   "execution_count": 53,
   "id": "2ea80c51",
   "metadata": {
    "execution": {
     "iopub.execute_input": "2022-02-04T09:28:01.872514Z",
     "iopub.status.busy": "2022-02-04T09:28:01.871832Z",
     "iopub.status.idle": "2022-02-04T09:28:01.899791Z",
     "shell.execute_reply": "2022-02-04T09:28:01.900247Z",
     "shell.execute_reply.started": "2022-02-04T07:56:31.150721Z"
    },
    "papermill": {
     "duration": 0.096378,
     "end_time": "2022-02-04T09:28:01.900477",
     "exception": false,
     "start_time": "2022-02-04T09:28:01.804099",
     "status": "completed"
    },
    "tags": []
   },
   "outputs": [
    {
     "data": {
      "text/html": [
       "<div>\n",
       "<style scoped>\n",
       "    .dataframe tbody tr th:only-of-type {\n",
       "        vertical-align: middle;\n",
       "    }\n",
       "\n",
       "    .dataframe tbody tr th {\n",
       "        vertical-align: top;\n",
       "    }\n",
       "\n",
       "    .dataframe thead th {\n",
       "        text-align: right;\n",
       "    }\n",
       "</style>\n",
       "<table border=\"1\" class=\"dataframe\">\n",
       "  <thead>\n",
       "    <tr style=\"text-align: right;\">\n",
       "      <th></th>\n",
       "      <th>Importance</th>\n",
       "    </tr>\n",
       "  </thead>\n",
       "  <tbody>\n",
       "    <tr>\n",
       "      <th>OverallQual</th>\n",
       "      <td>21.118469</td>\n",
       "    </tr>\n",
       "    <tr>\n",
       "      <th>GrLivArea</th>\n",
       "      <td>14.968896</td>\n",
       "    </tr>\n",
       "    <tr>\n",
       "      <th>GarageCars</th>\n",
       "      <td>6.745733</td>\n",
       "    </tr>\n",
       "    <tr>\n",
       "      <th>YearBuilt</th>\n",
       "      <td>5.751166</td>\n",
       "    </tr>\n",
       "    <tr>\n",
       "      <th>TotalBsmtSF</th>\n",
       "      <td>5.485315</td>\n",
       "    </tr>\n",
       "    <tr>\n",
       "      <th>GarageArea</th>\n",
       "      <td>5.113661</td>\n",
       "    </tr>\n",
       "    <tr>\n",
       "      <th>ExterQual</th>\n",
       "      <td>5.110520</td>\n",
       "    </tr>\n",
       "    <tr>\n",
       "      <th>1stFlrSF</th>\n",
       "      <td>4.012633</td>\n",
       "    </tr>\n",
       "    <tr>\n",
       "      <th>KitchenQual</th>\n",
       "      <td>2.924743</td>\n",
       "    </tr>\n",
       "    <tr>\n",
       "      <th>BsmtFinSF1</th>\n",
       "      <td>2.088594</td>\n",
       "    </tr>\n",
       "  </tbody>\n",
       "</table>\n",
       "</div>"
      ],
      "text/plain": [
       "             Importance\n",
       "OverallQual   21.118469\n",
       "GrLivArea     14.968896\n",
       "GarageCars     6.745733\n",
       "YearBuilt      5.751166\n",
       "TotalBsmtSF    5.485315\n",
       "GarageArea     5.113661\n",
       "ExterQual      5.110520\n",
       "1stFlrSF       4.012633\n",
       "KitchenQual    2.924743\n",
       "BsmtFinSF1     2.088594"
      ]
     },
     "execution_count": 53,
     "metadata": {},
     "output_type": "execute_result"
    }
   ],
   "source": [
    "Importance = pd.DataFrame({\"Importance\": rf_tuned.feature_importances_*100},\n",
    "                          index = X_train.columns)\n",
    "Importance.sort_values(by=\"Importance\",ascending=False)[:10]"
   ]
  },
  {
   "cell_type": "code",
   "execution_count": 54,
   "id": "37dbfeca",
   "metadata": {
    "execution": {
     "iopub.execute_input": "2022-02-04T09:28:02.032903Z",
     "iopub.status.busy": "2022-02-04T09:28:02.031906Z",
     "iopub.status.idle": "2022-02-04T09:28:02.055259Z",
     "shell.execute_reply": "2022-02-04T09:28:02.055984Z",
     "shell.execute_reply.started": "2022-02-04T08:05:28.077767Z"
    },
    "papermill": {
     "duration": 0.091692,
     "end_time": "2022-02-04T09:28:02.056190",
     "exception": false,
     "start_time": "2022-02-04T09:28:01.964498",
     "status": "completed"
    },
    "tags": []
   },
   "outputs": [
    {
     "name": "stdout",
     "output_type": "stream",
     "text": [
      "('BsmtFullBath', 'BsmtHalfBath', 'GarageCars')\n"
     ]
    }
   ],
   "source": [
    "nans = ()\n",
    "for col in X_test.columns:\n",
    "    if X_test[col].isnull().any() == True:\n",
    "        nans += (col,)\n",
    "print(nans)"
   ]
  },
  {
   "cell_type": "code",
   "execution_count": 55,
   "id": "94a2e1c7",
   "metadata": {
    "execution": {
     "iopub.execute_input": "2022-02-04T09:28:02.191370Z",
     "iopub.status.busy": "2022-02-04T09:28:02.188688Z",
     "iopub.status.idle": "2022-02-04T09:28:02.197953Z",
     "shell.execute_reply": "2022-02-04T09:28:02.198511Z",
     "shell.execute_reply.started": "2022-02-04T08:09:09.974075Z"
    },
    "papermill": {
     "duration": 0.077853,
     "end_time": "2022-02-04T09:28:02.198659",
     "exception": false,
     "start_time": "2022-02-04T09:28:02.120806",
     "status": "completed"
    },
    "tags": []
   },
   "outputs": [
    {
     "data": {
      "text/plain": [
       "0"
      ]
     },
     "execution_count": 55,
     "metadata": {},
     "output_type": "execute_result"
    }
   ],
   "source": [
    "X_test[\"BsmtFullBath\"].fillna(X_test[\"BsmtFullBath\"].mode()[0], inplace=True)\n",
    "X_test[\"BsmtFullBath\"].isnull().sum()"
   ]
  },
  {
   "cell_type": "code",
   "execution_count": 56,
   "id": "2bc3f696",
   "metadata": {
    "execution": {
     "iopub.execute_input": "2022-02-04T09:28:02.326623Z",
     "iopub.status.busy": "2022-02-04T09:28:02.325630Z",
     "iopub.status.idle": "2022-02-04T09:28:02.333386Z",
     "shell.execute_reply": "2022-02-04T09:28:02.333872Z",
     "shell.execute_reply.started": "2022-02-04T08:09:26.002846Z"
    },
    "papermill": {
     "duration": 0.071444,
     "end_time": "2022-02-04T09:28:02.334057",
     "exception": false,
     "start_time": "2022-02-04T09:28:02.262613",
     "status": "completed"
    },
    "tags": []
   },
   "outputs": [
    {
     "data": {
      "text/plain": [
       "0"
      ]
     },
     "execution_count": 56,
     "metadata": {},
     "output_type": "execute_result"
    }
   ],
   "source": [
    "X_test[\"BsmtHalfBath\"].fillna(X_test[\"BsmtHalfBath\"].mode()[0], inplace=True)\n",
    "X_test[\"BsmtHalfBath\"].isnull().sum()"
   ]
  },
  {
   "cell_type": "code",
   "execution_count": 57,
   "id": "5e7d2562",
   "metadata": {
    "execution": {
     "iopub.execute_input": "2022-02-04T09:28:02.457800Z",
     "iopub.status.busy": "2022-02-04T09:28:02.455875Z",
     "iopub.status.idle": "2022-02-04T09:28:02.463505Z",
     "shell.execute_reply": "2022-02-04T09:28:02.464074Z",
     "shell.execute_reply.started": "2022-02-04T08:09:46.235171Z"
    },
    "papermill": {
     "duration": 0.069931,
     "end_time": "2022-02-04T09:28:02.464215",
     "exception": false,
     "start_time": "2022-02-04T09:28:02.394284",
     "status": "completed"
    },
    "tags": []
   },
   "outputs": [
    {
     "data": {
      "text/plain": [
       "0"
      ]
     },
     "execution_count": 57,
     "metadata": {},
     "output_type": "execute_result"
    }
   ],
   "source": [
    "X_test[\"GarageCars\"].fillna(X_test[\"GarageCars\"].mode()[0], inplace=True)\n",
    "X_test[\"GarageCars\"].isnull().sum()"
   ]
  },
  {
   "cell_type": "code",
   "execution_count": 58,
   "id": "f5b84607",
   "metadata": {
    "execution": {
     "iopub.execute_input": "2022-02-04T09:28:02.591854Z",
     "iopub.status.busy": "2022-02-04T09:28:02.587786Z",
     "iopub.status.idle": "2022-02-04T09:28:02.629787Z",
     "shell.execute_reply": "2022-02-04T09:28:02.629168Z",
     "shell.execute_reply.started": "2022-02-04T08:29:24.253146Z"
    },
    "papermill": {
     "duration": 0.105731,
     "end_time": "2022-02-04T09:28:02.629916",
     "exception": false,
     "start_time": "2022-02-04T09:28:02.524185",
     "status": "completed"
    },
    "tags": []
   },
   "outputs": [],
   "source": [
    "y_pred = rf_tuned.predict(X_test)"
   ]
  },
  {
   "cell_type": "code",
   "execution_count": 59,
   "id": "7b5701d7",
   "metadata": {
    "execution": {
     "iopub.execute_input": "2022-02-04T09:28:02.758086Z",
     "iopub.status.busy": "2022-02-04T09:28:02.757387Z",
     "iopub.status.idle": "2022-02-04T09:28:02.769671Z",
     "shell.execute_reply": "2022-02-04T09:28:02.770155Z",
     "shell.execute_reply.started": "2022-02-04T08:33:00.699088Z"
    },
    "papermill": {
     "duration": 0.079066,
     "end_time": "2022-02-04T09:28:02.770307",
     "exception": false,
     "start_time": "2022-02-04T09:28:02.691241",
     "status": "completed"
    },
    "tags": []
   },
   "outputs": [],
   "source": [
    "output = pd.DataFrame({'Id': test.index,\n",
    "                       'SalePrice': y_pred})\n",
    "output.to_csv('submission.csv', index=False)"
   ]
  },
  {
   "cell_type": "code",
   "execution_count": null,
   "id": "6c4cda7a",
   "metadata": {
    "papermill": {
     "duration": 0.059778,
     "end_time": "2022-02-04T09:28:02.893534",
     "exception": false,
     "start_time": "2022-02-04T09:28:02.833756",
     "status": "completed"
    },
    "tags": []
   },
   "outputs": [],
   "source": []
  }
 ],
 "metadata": {
  "kernelspec": {
   "display_name": "Python 3",
   "language": "python",
   "name": "python3"
  },
  "language_info": {
   "codemirror_mode": {
    "name": "ipython",
    "version": 3
   },
   "file_extension": ".py",
   "mimetype": "text/x-python",
   "name": "python",
   "nbconvert_exporter": "python",
   "pygments_lexer": "ipython3",
   "version": "3.7.12"
  },
  "papermill": {
   "default_parameters": {},
   "duration": 3216.35488,
   "end_time": "2022-02-04T09:28:03.673047",
   "environment_variables": {},
   "exception": null,
   "input_path": "__notebook__.ipynb",
   "output_path": "__notebook__.ipynb",
   "parameters": {},
   "start_time": "2022-02-04T08:34:27.318167",
   "version": "2.3.3"
  }
 },
 "nbformat": 4,
 "nbformat_minor": 5
}
